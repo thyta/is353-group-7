{
 "cells": [
  {
   "cell_type": "code",
   "execution_count": null,
   "id": "7d6042c5-e917-4267-af8d-79479e705690",
   "metadata": {},
   "outputs": [],
   "source": [
    "import pickle\n",
    "import numpy as np\n",
    "import tensorflow as tf\n",
    "from sklearn.preprocessing import MinMaxScaler, LabelEncoder\n",
    "\n",
    "import pandas as pd"
   ]
  },
  {
   "cell_type": "code",
   "execution_count": null,
   "id": "fd71c626-7e51-4633-855c-d07849e8d54e",
   "metadata": {},
   "outputs": [],
   "source": [
    "# Đọc lại label_mapping, scaler, và label_encoders đã lưu\n",
    "with open(\"..\\\\store\\\\pickle\\\\label_mapping.pkl\", \"rb\") as f:\n",
    "    label_mapping = pickle.load(f)\n",
    "\n",
    "with open(\"..\\\\store\\\\pickle\\\\scaler_cat.pkl\", \"rb\") as f:\n",
    "    scaler_cat = pickle.load(f)\n",
    "\n",
    "with open(\"..\\\\store\\\\pickle\\\\scaler_seq.pkl\", \"rb\") as f:\n",
    "    scaler_seq = pickle.load(f)\n",
    "\n",
    "with open(\"..\\\\store\\\\pickle\\\\label_encoders.pkl\", \"rb\") as f:\n",
    "    label_encoders = pickle.load(f)\n",
    "\n",
    "cnn_2_inputs_model = tf.keras.models.load_model(\"..\\\\store\\\\models\\\\cnn_2_inputs_model.keras\")"
   ]
  },
  {
   "cell_type": "code",
   "execution_count": null,
   "id": "c338da08-d215-4880-8f13-bf0fe139633a",
   "metadata": {},
   "outputs": [],
   "source": [
    "def predict_label(student_data):\n",
    "    # Tách categorical và sequence features\n",
    "    categorical_features = [\"noisinh\", \"gioitinh\", \"khoa\", \"hedt\", \"chenhlech_khoahoc\", \"diem_tt\"]\n",
    "    sequence_features = [f\"dtbhk_hk_{i}\" for i in range(1, 6)] + \\\n",
    "                        [f\"sotchk_hk_{i}\" for i in range(1, 6)] + \\\n",
    "                        [f\"drl_hk_{i}\" for i in range(1, 6)]\n",
    "\n",
    "    cat_data = np.array([student_data[feature] for feature in categorical_features])\n",
    "    seq_data = np.array([student_data[feature] for feature in sequence_features]).reshape(1, 5, -1)\n",
    "\n",
    "    # Encode categorical data\n",
    "    for i, col in enumerate(categorical_features[:-2]):  # Bỏ 2 cột numeric: chenhlech_khoahoc, diem_tt\n",
    "        cat_data[i] = label_encoders[col].transform([cat_data[i]])[0]\n",
    "    \n",
    "    cat_data = cat_data.astype(float)\n",
    "    cat_data[-2:] = cat_data[-2:].astype(float)  # Chuyển 2 cột numeric thành float\n",
    "    \n",
    "    # Chuẩn hóa categorical data\n",
    "    cat_data = cat_data.reshape(1, -1)\n",
    "    cat_data = scaler_cat.transform(cat_data.reshape(1, -1))\n",
    "\n",
    "    # Chuẩn hóa sequence data\n",
    "    seq_data = seq_data.reshape(-1, seq_data.shape[-1])  # Reshape để chuẩn hóa\n",
    "    seq_data = scaler_seq.transform(seq_data)\n",
    "    seq_data = seq_data.reshape(1, 5, -1)  # Reshape lại cho mô hình\n",
    "\n",
    "    # Dự đoán\n",
    "    predicted_label_code = np.argmax(cnn_2_inputs_model.predict([seq_data, cat_data]))\n",
    "    return label_mapping[predicted_label_code]"
   ]
  },
  {
   "cell_type": "markdown",
   "id": "61bc4b36-d89a-4fd6-aa60-2f6cb6886f3d",
   "metadata": {},
   "source": [
    "# Anvil"
   ]
  },
  {
   "cell_type": "code",
   "execution_count": null,
   "id": "ff4af95c-6c14-44e1-b6f4-35bc8c9aa950",
   "metadata": {},
   "outputs": [],
   "source": [
    "import anvil.server\n",
    "\n",
    "anvil.server.connect(\"server_MDKXKGHA4SGAJSTPY24O7TGK-3W4M36Q4543DRR2J\")"
   ]
  },
  {
   "cell_type": "code",
   "execution_count": null,
   "id": "3a2bf988-eaf0-44fd-a3bc-11178bc584bc",
   "metadata": {},
   "outputs": [],
   "source": [
    "@anvil.server.callable\n",
    "def process_data(noisinh, gioitinh, khoa, hedt, diem_tt, namsinh, khoahoc,\n",
    "                 dtbhk_hk_1, dtbhk_hk_2, dtbhk_hk_3, dtbhk_hk_4, dtbhk_hk_5,\n",
    "                 sotchk_hk_1, sotchk_hk_2, sotchk_hk_3, sotchk_hk_4, sotchk_hk_5,\n",
    "                 drl_hk_1, drl_hk_2, drl_hk_3, drl_hk_4, drl_hk_5):\n",
    "\n",
    "    # Ép kiểu dữ liệu cho các trường cần là float\n",
    "    student_data = {\n",
    "        'noisinh': str(noisinh),\n",
    "        'gioitinh': str(gioitinh),\n",
    "        'khoa': str(khoa),\n",
    "        'hedt': str(hedt),\n",
    "        \n",
    "        # Các trường kiểu float\n",
    "        'diem_tt': float(diem_tt),  \n",
    "        'dtbhk_hk_1': float(dtbhk_hk_1),\n",
    "        'dtbhk_hk_2': float(dtbhk_hk_2),\n",
    "        'dtbhk_hk_3': float(dtbhk_hk_3),\n",
    "        'dtbhk_hk_4': float(dtbhk_hk_4),\n",
    "        'dtbhk_hk_5': float(dtbhk_hk_5),\n",
    "        \n",
    "        'sotchk_hk_1': float(sotchk_hk_1),\n",
    "        'sotchk_hk_2': float(sotchk_hk_2),\n",
    "        'sotchk_hk_3': float(sotchk_hk_3),\n",
    "        'sotchk_hk_4': float(sotchk_hk_4),\n",
    "        'sotchk_hk_5': float(sotchk_hk_5),\n",
    "        \n",
    "        'drl_hk_1': float(drl_hk_1),\n",
    "        'drl_hk_2': float(drl_hk_2),\n",
    "        'drl_hk_3': float(drl_hk_3),\n",
    "        'drl_hk_4': float(drl_hk_4),\n",
    "        'drl_hk_5': float(drl_hk_5),\n",
    "        \n",
    "        # Các trường kiểu int\n",
    "        'khoahoc': int(khoahoc),\n",
    "        'namsinh': int(namsinh),\n",
    "        \n",
    "        # Tính toán chenhlech_khoahoc\n",
    "        'chenhlech_khoahoc': int(khoahoc) - (int(namsinh) - 1987)\n",
    "    }\n",
    "\n",
    "    # Dự đoán nhãn\n",
    "    label = predict_label(student_data)\n",
    "    \n",
    "    # Tạo thông điệp phản hồi\n",
    "    feedback = \"\"\n",
    "    if label == \"Xuất sắc\":\n",
    "        feedback = \"Xin chúc mừng! Tiếp tục giữ vững phong độ này nhé!\"\n",
    "    elif label == \"Giỏi\":\n",
    "        feedback = \"Đây là thành tích tốt, tuy nhiên bạn có thể cố gắng hơn để đạt Xuất sắc!\"\n",
    "    elif label == \"Khá\":\n",
    "        feedback = \"Bạn nên tập trung hơn vào các môn học và cải thiện điểm rèn luyện để nâng cao kết quả.\"\n",
    "    elif label == \"Trung bình khá\":\n",
    "        feedback = \"Hãy xem xét lại phương pháp học tập và sắp xếp thời gian hợp lý hơn để cải thiện trong những học kỳ tới.\"\n",
    "    \n",
    "    # Trả về thông báo đầy đủ\n",
    "    return f\"Kết quả của bạn sau 5 học kỳ: {label}. {feedback}\""
   ]
  }
 ],
 "metadata": {
  "kernelspec": {
   "display_name": "Python 3 (ipykernel)",
   "language": "python",
   "name": "python3"
  },
  "language_info": {
   "codemirror_mode": {
    "name": "ipython",
    "version": 3
   },
   "file_extension": ".py",
   "mimetype": "text/x-python",
   "name": "python",
   "nbconvert_exporter": "python",
   "pygments_lexer": "ipython3",
   "version": "3.12.4"
  }
 },
 "nbformat": 4,
 "nbformat_minor": 5
}
