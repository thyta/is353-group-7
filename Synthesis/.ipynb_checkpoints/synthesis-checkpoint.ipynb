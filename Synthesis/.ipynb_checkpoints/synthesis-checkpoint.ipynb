{
 "cells": [
  {
   "cell_type": "markdown",
   "id": "5b95c32d-260e-4816-b9ea-4a1df22e616e",
   "metadata": {},
   "source": [
    "# Bước 1: thêm các thư viện và định nghĩa các hàm cần thiết"
   ]
  },
  {
   "cell_type": "code",
   "execution_count": 1,
   "id": "716b3eda-ee40-4623-a931-ce2a6c111459",
   "metadata": {},
   "outputs": [],
   "source": [
    "import pandas as pd\n",
    "import numpy as np\n",
    "import re\n",
    "from fuzzywuzzy import process"
   ]
  },
  {
   "cell_type": "code",
   "execution_count": 2,
   "id": "497951f4-3d12-4958-9630-abf7d459cf30",
   "metadata": {},
   "outputs": [],
   "source": [
    "# hàm để làm sạch cột trước khi xử lý\n",
    "def clean_dataframe(df):\n",
    "    \"\"\"\n",
    "    Ép toàn bộ các cột trong DataFrame sang kiểu chuỗi \n",
    "    và xoá khoảng trống ở đầu và cuối của các chuỗi.\n",
    "    \n",
    "    Parameters:\n",
    "    df (pd.DataFrame): DataFrame cần làm sạch.\n",
    "\n",
    "    Returns:\n",
    "    pd.DataFrame: DataFrame đã được làm sạch.\n",
    "    \"\"\"\n",
    "    # Xoá khoảng trắng đầu tên cột\n",
    "    df.columns = df.columns.str.strip()\n",
    "    \n",
    "    # Ép toàn bộ DataFrame sang kiểu chuỗi\n",
    "    df = df.astype(str)\n",
    "    \n",
    "    # Xoá khoảng trống đầu và cuối trong toàn bộ DataFrame\n",
    "    df = df.applymap(lambda x: x.strip())\n",
    "    \n",
    "    return df"
   ]
  },
  {
   "cell_type": "code",
   "execution_count": 3,
   "id": "4fc88298-f33f-4e5f-a0a5-3fb9d7a95fa7",
   "metadata": {},
   "outputs": [],
   "source": [
    "# Hàm xử lý chuỗi để sửa lỗi và giữ lại giá trị ngày\n",
    "def clean_date(value):\n",
    "    if not isinstance(value, str):  # Đảm bảo giá trị là chuỗi\n",
    "        value = str(value)\n",
    "    # Tìm chuỗi ngày trong dữ liệu\n",
    "    match = re.search(r\"\\d{1,2}/\\d{1,2}/\\d{4}\", value)\n",
    "    return match.group(0) if match else value.strip()"
   ]
  },
  {
   "cell_type": "code",
   "execution_count": 4,
   "id": "d2a026c4-bf41-4fe1-8571-83c4e5dccea8",
   "metadata": {},
   "outputs": [],
   "source": [
    "#  Lấy danh sách tỉnh thành chuẩn và dùng thư viện fuzzywuzzy để sửa lại cột nơi sinh chính xác\n",
    "def correct_tinh_thanh(tinh_thanh):\n",
    "    # Kiểm tra nếu giá trị là chuỗi hợp lệ\n",
    "    if isinstance(tinh_thanh, str):\n",
    "        # Tìm kiếm tỉnh thành gần đúng nhất trong danh sách chuẩn\n",
    "        match, score = process.extractOne(tinh_thanh, tinhthanh_chuan)\n",
    "        return match if score >= 70 else \"Không xác định\"  # Chỉ sửa nếu độ chính xác >= 80%\n",
    "    else:\n",
    "        return \"Không xác định\"  # Trả về \"Không xác định\" nếu không phải là chuỗi"
   ]
  },
  {
   "cell_type": "code",
   "execution_count": 5,
   "id": "6e713127-ca64-4f3d-bac1-8dc7cc4d3700",
   "metadata": {},
   "outputs": [],
   "source": [
    "#  lấy điểm trung bình 5 học kỳ đầu\n",
    "def pivot_top_5_semesters_diemtb_hk(df):\n",
    "    \"\"\"\n",
    "    Chuyển đổi dữ liệu sao cho mỗi sinh viên là 1 dòng, với tối đa 5 học kỳ được xoay ngang.\n",
    "    \"\"\"\n",
    "   # Sắp xếp dữ liệu theo mssv, namhoc, và hocky\n",
    "    df_sorted = df.sort_values(by=['mssv', 'namhoc', 'hocky'])\n",
    "\n",
    "    df_sorted = df_sorted.dropna()\n",
    "    \n",
    "    # Thêm cột số thứ tự học kỳ cho mỗi sinh viên\n",
    "    df_sorted['hoc_ky_thu'] = df_sorted.groupby('mssv').cumcount() + 1\n",
    "    \n",
    "    # Lọc ra 5 học kỳ đầu tiên của mỗi sinh viên\n",
    "    df_top_5 = df_sorted[df_sorted['hoc_ky_thu'] <= 5]\n",
    "    \n",
    "    # Pivot dữ liệu: mỗi học kỳ là một nhóm cột cho dtbhk và sotchk\n",
    "    pivot_df = df_top_5.pivot(\n",
    "        index='mssv',\n",
    "        columns='hoc_ky_thu',\n",
    "        values=['dtbhk', 'sotchk']\n",
    "    )\n",
    "    \n",
    "    # Làm phẳng cột đa cấp và đổi tên cột theo định dạng yêu cầu\n",
    "    pivot_df.columns = [f\"{col[0]}_hk_{col[1]}\" for col in pivot_df.columns]  # Đổi tên cột\n",
    "    pivot_df.columns = [col.replace('dtbhk', 'dtbhk') if 'dtbhk' in col else col.replace('sotchk', 'sotchk') for col in pivot_df.columns]\n",
    "    \n",
    "    # Reset index để đưa mssv về thành cột\n",
    "    pivot_df = pivot_df.reset_index()\n",
    "    \n",
    "    return pivot_df"
   ]
  },
  {
   "cell_type": "code",
   "execution_count": 6,
   "id": "cf262587-781b-46f5-a53a-c12bc1f8ce4b",
   "metadata": {},
   "outputs": [],
   "source": [
    "#  lấy điểm rèn luyện 5 học kỳ đầu\n",
    "def pivot_top_5_semesters_diemrl(df):\n",
    "    \"\"\"\n",
    "    Chuyển đổi dữ liệu 'diemrl' sao cho mỗi sinh viên là 1 dòng, với tối đa 5 học kỳ được xoay ngang.\n",
    "    \"\"\"\n",
    "    # Sắp xếp dữ liệu theo mssv, namhoc, và hocky\n",
    "    df_sorted = df.sort_values(by=['mssv', 'namhoc', 'hocky'])\n",
    "\n",
    "    df_sorted = df_sorted.dropna()\n",
    "    \n",
    "    # Thêm cột số thứ tự học kỳ cho mỗi sinh viên\n",
    "    df_sorted['hoc_ky_thu'] = df_sorted.groupby('mssv').cumcount() + 1\n",
    "    \n",
    "    # Lọc ra 5 học kỳ đầu tiên của mỗi sinh viên\n",
    "    df_top_5 = df_sorted[df_sorted['hoc_ky_thu'] <= 5]\n",
    "    \n",
    "    # Pivot dữ liệu: mỗi học kỳ là một nhóm cột chỉ cho điểm rèn luyện\n",
    "    pivot_df = df_top_5.pivot(\n",
    "        index='mssv',\n",
    "        columns='hoc_ky_thu',\n",
    "        values='drl'  # Chỉ lấy cột 'drl'\n",
    "    )\n",
    "    \n",
    "    # Làm phẳng cột đa cấp với tên cột là drl_hk_x\n",
    "    pivot_df.columns = [f\"drl_hk_{col}\" for col in pivot_df.columns]\n",
    "    \n",
    "    # Reset index để đưa mssv về thành cột\n",
    "    pivot_df = pivot_df.reset_index()\n",
    "    \n",
    "    return pivot_df"
   ]
  },
  {
   "cell_type": "markdown",
   "id": "bb2c8eb5-6745-4f18-95a1-c7160b8549ff",
   "metadata": {},
   "source": [
    "# Step 2: Xử lý các bảng"
   ]
  },
  {
   "cell_type": "markdown",
   "id": "7adc1b9f-57b8-49f8-b1d8-397d71e5fb21",
   "metadata": {},
   "source": [
    "# 1. totnghiep"
   ]
  },
  {
   "cell_type": "code",
   "execution_count": 7,
   "id": "889af5e0-7e90-4240-be8c-24ca36083d05",
   "metadata": {},
   "outputs": [],
   "source": [
    "# đọc bảng tốt nghiệp\n",
    "totnghiep = pd.read_excel('Education_dataset_V2/14.totnghiep.xlsx')"
   ]
  },
  {
   "cell_type": "code",
   "execution_count": 8,
   "id": "a6b07d76-8e29-4cbc-8451-b5850841c7bf",
   "metadata": {},
   "outputs": [
    {
     "name": "stderr",
     "output_type": "stream",
     "text": [
      "C:\\Users\\anhthy\\AppData\\Local\\Temp\\ipykernel_10644\\2883437664.py:20: FutureWarning: DataFrame.applymap has been deprecated. Use DataFrame.map instead.\n",
      "  df = df.applymap(lambda x: x.strip())\n"
     ]
    }
   ],
   "source": [
    "totnghiep = clean_dataframe(totnghiep)"
   ]
  },
  {
   "cell_type": "code",
   "execution_count": 9,
   "id": "ae0652b8-5aa2-4c0a-9850-3a1597f092ff",
   "metadata": {},
   "outputs": [
    {
     "data": {
      "text/plain": [
       "Index(['id', 'mssv', 'xeploai', 'soquyetdinh', 'ngaycapvb'], dtype='object')"
      ]
     },
     "execution_count": 9,
     "metadata": {},
     "output_type": "execute_result"
    }
   ],
   "source": [
    "totnghiep.columns"
   ]
  },
  {
   "cell_type": "code",
   "execution_count": 10,
   "id": "939f44cf-7fbd-4bda-92ea-cebd703c821e",
   "metadata": {},
   "outputs": [
    {
     "data": {
      "text/plain": [
       "(1847, 5)"
      ]
     },
     "execution_count": 10,
     "metadata": {},
     "output_type": "execute_result"
    }
   ],
   "source": [
    "totnghiep.shape"
   ]
  },
  {
   "cell_type": "code",
   "execution_count": 11,
   "id": "59becec0-5f16-419d-855f-a783f07ca958",
   "metadata": {},
   "outputs": [],
   "source": [
    "# chỉ lấy 3 cột bên dưới\n",
    "totnghiep = totnghiep [['mssv', 'xeploai', 'ngaycapvb']]"
   ]
  },
  {
   "cell_type": "code",
   "execution_count": 12,
   "id": "94c2d694-adaa-45ed-b211-1d0a081d4863",
   "metadata": {},
   "outputs": [
    {
     "data": {
      "text/html": [
       "<div>\n",
       "<style scoped>\n",
       "    .dataframe tbody tr th:only-of-type {\n",
       "        vertical-align: middle;\n",
       "    }\n",
       "\n",
       "    .dataframe tbody tr th {\n",
       "        vertical-align: top;\n",
       "    }\n",
       "\n",
       "    .dataframe thead th {\n",
       "        text-align: right;\n",
       "    }\n",
       "</style>\n",
       "<table border=\"1\" class=\"dataframe\">\n",
       "  <thead>\n",
       "    <tr style=\"text-align: right;\">\n",
       "      <th></th>\n",
       "      <th>mssv</th>\n",
       "      <th>xeploai</th>\n",
       "      <th>ngaycapvb</th>\n",
       "    </tr>\n",
       "  </thead>\n",
       "  <tbody>\n",
       "    <tr>\n",
       "      <th>0</th>\n",
       "      <td>E95E7C6DXPvAibaEXe+1j/AqdkpM22DHf6P99fDJ</td>\n",
       "      <td>Khá</td>\n",
       "      <td>14/04/2017</td>\n",
       "    </tr>\n",
       "    <tr>\n",
       "      <th>1</th>\n",
       "      <td>D0FE4969XPvAibaEXe/yXiKgsgy0slCmJ5EKt6Ki</td>\n",
       "      <td>Giỏi</td>\n",
       "      <td>06/10/2017</td>\n",
       "    </tr>\n",
       "    <tr>\n",
       "      <th>2</th>\n",
       "      <td>40F7E8D0XPvAibaEXe+nZBq3b0XEhfcwXLmoc4Pj</td>\n",
       "      <td>Giỏi</td>\n",
       "      <td>06/10/2017</td>\n",
       "    </tr>\n",
       "    <tr>\n",
       "      <th>3</th>\n",
       "      <td>0A049F45XPvAibaEXe9CtFSNMbfIz9qE7i0Fu4My</td>\n",
       "      <td>Khá</td>\n",
       "      <td>06/10/2017</td>\n",
       "    </tr>\n",
       "    <tr>\n",
       "      <th>4</th>\n",
       "      <td>7A7166DAXPvAibaEXe83V/kFvw2bBZ0o/KVHZc30</td>\n",
       "      <td>Khá</td>\n",
       "      <td>06/10/2017</td>\n",
       "    </tr>\n",
       "    <tr>\n",
       "      <th>...</th>\n",
       "      <td>...</td>\n",
       "      <td>...</td>\n",
       "      <td>...</td>\n",
       "    </tr>\n",
       "    <tr>\n",
       "      <th>1842</th>\n",
       "      <td>A2698E63XPvAibaEXe+D5C9Re7EGLdYoD7VxJkyw</td>\n",
       "      <td>Khá</td>\n",
       "      <td>09/6/2021</td>\n",
       "    </tr>\n",
       "    <tr>\n",
       "      <th>1843</th>\n",
       "      <td>B44C3B36XPvAibaEXe/ns/wSuHF6kEcjw3s5q9gL</td>\n",
       "      <td>Khá</td>\n",
       "      <td>09/6/2021</td>\n",
       "    </tr>\n",
       "    <tr>\n",
       "      <th>1844</th>\n",
       "      <td>175475BBXPvAibaEXe8dBqMaN7rGhkux+ZR35bi9</td>\n",
       "      <td>Khá</td>\n",
       "      <td>09/6/2021</td>\n",
       "    </tr>\n",
       "    <tr>\n",
       "      <th>1845</th>\n",
       "      <td>94A79F45XPvAibaEXe+dJypLAXKUXx9tmvinQDNg</td>\n",
       "      <td>Khá</td>\n",
       "      <td>09/6/2021</td>\n",
       "    </tr>\n",
       "    <tr>\n",
       "      <th>1846</th>\n",
       "      <td>B721B939XPvAibaEXe9Q2McsUcINTscwU/8uZNla</td>\n",
       "      <td>Khá</td>\n",
       "      <td>09/6/2021);</td>\n",
       "    </tr>\n",
       "  </tbody>\n",
       "</table>\n",
       "<p>1847 rows × 3 columns</p>\n",
       "</div>"
      ],
      "text/plain": [
       "                                          mssv xeploai    ngaycapvb\n",
       "0     E95E7C6DXPvAibaEXe+1j/AqdkpM22DHf6P99fDJ     Khá   14/04/2017\n",
       "1     D0FE4969XPvAibaEXe/yXiKgsgy0slCmJ5EKt6Ki    Giỏi   06/10/2017\n",
       "2     40F7E8D0XPvAibaEXe+nZBq3b0XEhfcwXLmoc4Pj    Giỏi   06/10/2017\n",
       "3     0A049F45XPvAibaEXe9CtFSNMbfIz9qE7i0Fu4My     Khá   06/10/2017\n",
       "4     7A7166DAXPvAibaEXe83V/kFvw2bBZ0o/KVHZc30     Khá   06/10/2017\n",
       "...                                        ...     ...          ...\n",
       "1842  A2698E63XPvAibaEXe+D5C9Re7EGLdYoD7VxJkyw     Khá    09/6/2021\n",
       "1843  B44C3B36XPvAibaEXe/ns/wSuHF6kEcjw3s5q9gL     Khá    09/6/2021\n",
       "1844  175475BBXPvAibaEXe8dBqMaN7rGhkux+ZR35bi9     Khá    09/6/2021\n",
       "1845  94A79F45XPvAibaEXe+dJypLAXKUXx9tmvinQDNg     Khá    09/6/2021\n",
       "1846  B721B939XPvAibaEXe9Q2McsUcINTscwU/8uZNla     Khá  09/6/2021);\n",
       "\n",
       "[1847 rows x 3 columns]"
      ]
     },
     "execution_count": 12,
     "metadata": {},
     "output_type": "execute_result"
    }
   ],
   "source": [
    "totnghiep"
   ]
  },
  {
   "cell_type": "code",
   "execution_count": 13,
   "id": "28bcfc3e-ec5d-4976-a284-21cd79f2a204",
   "metadata": {},
   "outputs": [
    {
     "data": {
      "text/plain": [
       "Index(['mssv', 'xeploai', 'ngaycapvb'], dtype='object')"
      ]
     },
     "execution_count": 13,
     "metadata": {},
     "output_type": "execute_result"
    }
   ],
   "source": [
    "totnghiep.columns"
   ]
  },
  {
   "cell_type": "code",
   "execution_count": 14,
   "id": "aee21db1-ed83-4251-864e-164f2e3a9a8c",
   "metadata": {},
   "outputs": [
    {
     "data": {
      "text/plain": [
       "xeploai\n",
       "Khá               1125\n",
       "Giỏi               447\n",
       "Trung bình khá     132\n",
       "TB Khá              92\n",
       "Trung bình Khá      40\n",
       "Xuất sắc             7\n",
       "nan                  2\n",
       "TB khá               2\n",
       "Name: count, dtype: int64"
      ]
     },
     "execution_count": 14,
     "metadata": {},
     "output_type": "execute_result"
    }
   ],
   "source": [
    "totnghiep['xeploai'].value_counts()"
   ]
  },
  {
   "cell_type": "code",
   "execution_count": 15,
   "id": "68b56ee3-36f1-4364-aa20-08852c4fab80",
   "metadata": {},
   "outputs": [],
   "source": [
    "totnghiep['xeploai'] = totnghiep['xeploai'].replace('TB Khá', 'Trung bình khá')\n",
    "totnghiep['xeploai'] = totnghiep['xeploai'].replace('Trung bình Khá', 'Trung bình khá')\n",
    "totnghiep['xeploai'] = totnghiep['xeploai'].replace('TB khá', 'Trung bình khá')"
   ]
  },
  {
   "cell_type": "code",
   "execution_count": 16,
   "id": "48846102-047c-438e-aa4c-61a09eb990d3",
   "metadata": {},
   "outputs": [
    {
     "data": {
      "text/plain": [
       "xeploai\n",
       "Khá               1125\n",
       "Giỏi               447\n",
       "Trung bình khá     266\n",
       "Xuất sắc             7\n",
       "nan                  2\n",
       "Name: count, dtype: int64"
      ]
     },
     "execution_count": 16,
     "metadata": {},
     "output_type": "execute_result"
    }
   ],
   "source": [
    "totnghiep['xeploai'].value_counts()"
   ]
  },
  {
   "cell_type": "code",
   "execution_count": 17,
   "id": "a0bf338a-2b11-4a92-a5e7-3414c476ee2f",
   "metadata": {},
   "outputs": [],
   "source": [
    "# Vì định dạng ngày có thể không nhất quán, dùng hàm để tự động thay thế\n",
    "totnghiep['ngaycapvb'] = pd.to_datetime(totnghiep['ngaycapvb'], errors='coerce', dayfirst=True)\n",
    "totnghiep['ngaycapvb'] = totnghiep['ngaycapvb'].dt.strftime('%d/%m/%Y')"
   ]
  },
  {
   "cell_type": "code",
   "execution_count": 18,
   "id": "a71faa66-31fc-41e8-bf72-f5955aa2a8a5",
   "metadata": {
    "scrolled": true
   },
   "outputs": [
    {
     "data": {
      "text/plain": [
       "mssv         0\n",
       "xeploai      0\n",
       "ngaycapvb    6\n",
       "dtype: int64"
      ]
     },
     "execution_count": 18,
     "metadata": {},
     "output_type": "execute_result"
    }
   ],
   "source": [
    "totnghiep.isna().sum()"
   ]
  },
  {
   "cell_type": "code",
   "execution_count": 19,
   "id": "78689623-284f-41c5-9d33-d9da72454c23",
   "metadata": {},
   "outputs": [],
   "source": [
    "totnghiep = totnghiep.dropna()"
   ]
  },
  {
   "cell_type": "code",
   "execution_count": 20,
   "id": "30945abb-801c-4a45-9870-b5a9bac09764",
   "metadata": {},
   "outputs": [
    {
     "data": {
      "text/plain": [
       "mssv         0\n",
       "xeploai      0\n",
       "ngaycapvb    0\n",
       "dtype: int64"
      ]
     },
     "execution_count": 20,
     "metadata": {},
     "output_type": "execute_result"
    }
   ],
   "source": [
    "totnghiep.isna().sum()"
   ]
  },
  {
   "cell_type": "markdown",
   "id": "9aaee3af-7984-469a-aac0-284db8d26a5d",
   "metadata": {},
   "source": [
    "# 2. sinhvien"
   ]
  },
  {
   "cell_type": "code",
   "execution_count": 21,
   "id": "80dd343f-fa36-4029-a52f-aff91a205e9b",
   "metadata": {},
   "outputs": [],
   "source": [
    "sinhvien = pd.read_excel('Education_dataset_V2/01.sinhvien.xlsx')"
   ]
  },
  {
   "cell_type": "code",
   "execution_count": 22,
   "id": "6d35cf9a-0a75-423a-a1b0-717e42b67bb9",
   "metadata": {},
   "outputs": [
    {
     "name": "stderr",
     "output_type": "stream",
     "text": [
      "C:\\Users\\anhthy\\AppData\\Local\\Temp\\ipykernel_10644\\2883437664.py:20: FutureWarning: DataFrame.applymap has been deprecated. Use DataFrame.map instead.\n",
      "  df = df.applymap(lambda x: x.strip())\n"
     ]
    }
   ],
   "source": [
    "sinhvien = clean_dataframe(sinhvien)"
   ]
  },
  {
   "cell_type": "code",
   "execution_count": 23,
   "id": "0e714ba9-53ca-4879-95d8-5f8adaf6fa15",
   "metadata": {},
   "outputs": [
    {
     "data": {
      "text/html": [
       "<div>\n",
       "<style scoped>\n",
       "    .dataframe tbody tr th:only-of-type {\n",
       "        vertical-align: middle;\n",
       "    }\n",
       "\n",
       "    .dataframe tbody tr th {\n",
       "        vertical-align: top;\n",
       "    }\n",
       "\n",
       "    .dataframe thead th {\n",
       "        text-align: right;\n",
       "    }\n",
       "</style>\n",
       "<table border=\"1\" class=\"dataframe\">\n",
       "  <thead>\n",
       "    <tr style=\"text-align: right;\">\n",
       "      <th></th>\n",
       "      <th>id</th>\n",
       "      <th>mssv</th>\n",
       "      <th>namsinh</th>\n",
       "      <th>gioitinh</th>\n",
       "      <th>noisinh</th>\n",
       "      <th>lopsh</th>\n",
       "      <th>khoa</th>\n",
       "      <th>hedt</th>\n",
       "      <th>khoahoc</th>\n",
       "      <th>chuyennganh2</th>\n",
       "      <th>...</th>\n",
       "      <th>_47</th>\n",
       "      <th>_48</th>\n",
       "      <th>_49</th>\n",
       "      <th>_50</th>\n",
       "      <th>_51</th>\n",
       "      <th>_52</th>\n",
       "      <th>_53</th>\n",
       "      <th>_54</th>\n",
       "      <th>_55</th>\n",
       "      <th>_56</th>\n",
       "    </tr>\n",
       "  </thead>\n",
       "  <tbody>\n",
       "    <tr>\n",
       "      <th>0</th>\n",
       "      <td>14911</td>\n",
       "      <td>E37BF33CXPvAibaEXe9Y6XKwco8jyUy8xdOxIJZW</td>\n",
       "      <td>1999.0</td>\n",
       "      <td>1</td>\n",
       "      <td>'Hải Dương'</td>\n",
       "      <td>MMTT2017</td>\n",
       "      <td>MMT&amp;TT</td>\n",
       "      <td>CQUI</td>\n",
       "      <td>12</td>\n",
       "      <td>D480102</td>\n",
       "      <td>...</td>\n",
       "      <td>nan</td>\n",
       "      <td>nan</td>\n",
       "      <td>nan</td>\n",
       "      <td>nan</td>\n",
       "      <td>nan</td>\n",
       "      <td>nan</td>\n",
       "      <td>nan</td>\n",
       "      <td>nan</td>\n",
       "      <td>nan</td>\n",
       "      <td>nan</td>\n",
       "    </tr>\n",
       "    <tr>\n",
       "      <th>1</th>\n",
       "      <td>18120</td>\n",
       "      <td>B3024A0DXPvAibaEXe++B0JyCbXA1F/t+O6kpXJd</td>\n",
       "      <td>2001.0</td>\n",
       "      <td>1</td>\n",
       "      <td>'Bình Phước'</td>\n",
       "      <td>HTCL2019.1</td>\n",
       "      <td>HTTT</td>\n",
       "      <td>CLC</td>\n",
       "      <td>14</td>\n",
       "      <td>D480104</td>\n",
       "      <td>...</td>\n",
       "      <td>nan</td>\n",
       "      <td>nan</td>\n",
       "      <td>nan</td>\n",
       "      <td>nan</td>\n",
       "      <td>nan</td>\n",
       "      <td>nan</td>\n",
       "      <td>nan</td>\n",
       "      <td>nan</td>\n",
       "      <td>nan</td>\n",
       "      <td>nan</td>\n",
       "    </tr>\n",
       "    <tr>\n",
       "      <th>2</th>\n",
       "      <td>9278</td>\n",
       "      <td>0ACD9F7AXPvAibaEXe/K6d36/fqcEaBjFfA/Uaef</td>\n",
       "      <td>1994.0</td>\n",
       "      <td>1</td>\n",
       "      <td>'TP. Hồ Chí Minh'</td>\n",
       "      <td>KHTN2013</td>\n",
       "      <td>KHMT</td>\n",
       "      <td>CNTN</td>\n",
       "      <td>8</td>\n",
       "      <td>D480101</td>\n",
       "      <td>...</td>\n",
       "      <td>nan</td>\n",
       "      <td>nan</td>\n",
       "      <td>nan</td>\n",
       "      <td>nan</td>\n",
       "      <td>nan</td>\n",
       "      <td>nan</td>\n",
       "      <td>nan</td>\n",
       "      <td>nan</td>\n",
       "      <td>nan</td>\n",
       "      <td>nan</td>\n",
       "    </tr>\n",
       "    <tr>\n",
       "      <th>3</th>\n",
       "      <td>19024</td>\n",
       "      <td>700E1725XPvAibaEXe+SbxsvF9MWxKMQLP/zEM+u</td>\n",
       "      <td>2001.0</td>\n",
       "      <td>1</td>\n",
       "      <td>'An Giang'</td>\n",
       "      <td>KHCL2019.3</td>\n",
       "      <td>KHMT</td>\n",
       "      <td>CLC</td>\n",
       "      <td>14</td>\n",
       "      <td>D480101</td>\n",
       "      <td>...</td>\n",
       "      <td>nan</td>\n",
       "      <td>nan</td>\n",
       "      <td>nan</td>\n",
       "      <td>nan</td>\n",
       "      <td>nan</td>\n",
       "      <td>nan</td>\n",
       "      <td>nan</td>\n",
       "      <td>nan</td>\n",
       "      <td>nan</td>\n",
       "      <td>nan</td>\n",
       "    </tr>\n",
       "  </tbody>\n",
       "</table>\n",
       "<p>4 rows × 69 columns</p>\n",
       "</div>"
      ],
      "text/plain": [
       "      id                                      mssv namsinh gioitinh  \\\n",
       "0  14911  E37BF33CXPvAibaEXe9Y6XKwco8jyUy8xdOxIJZW  1999.0        1   \n",
       "1  18120  B3024A0DXPvAibaEXe++B0JyCbXA1F/t+O6kpXJd  2001.0        1   \n",
       "2   9278  0ACD9F7AXPvAibaEXe/K6d36/fqcEaBjFfA/Uaef  1994.0        1   \n",
       "3  19024  700E1725XPvAibaEXe+SbxsvF9MWxKMQLP/zEM+u  2001.0        1   \n",
       "\n",
       "             noisinh       lopsh    khoa  hedt khoahoc chuyennganh2  ...  _47  \\\n",
       "0        'Hải Dương'    MMTT2017  MMT&TT  CQUI      12      D480102  ...  nan   \n",
       "1       'Bình Phước'  HTCL2019.1    HTTT   CLC      14      D480104  ...  nan   \n",
       "2  'TP. Hồ Chí Minh'    KHTN2013    KHMT  CNTN       8      D480101  ...  nan   \n",
       "3         'An Giang'  KHCL2019.3    KHMT   CLC      14      D480101  ...  nan   \n",
       "\n",
       "   _48  _49  _50  _51  _52  _53  _54  _55  _56  \n",
       "0  nan  nan  nan  nan  nan  nan  nan  nan  nan  \n",
       "1  nan  nan  nan  nan  nan  nan  nan  nan  nan  \n",
       "2  nan  nan  nan  nan  nan  nan  nan  nan  nan  \n",
       "3  nan  nan  nan  nan  nan  nan  nan  nan  nan  \n",
       "\n",
       "[4 rows x 69 columns]"
      ]
     },
     "execution_count": 23,
     "metadata": {},
     "output_type": "execute_result"
    }
   ],
   "source": [
    "sinhvien.head(4)"
   ]
  },
  {
   "cell_type": "code",
   "execution_count": 24,
   "id": "291c8abe-4673-4fca-b36c-b3d94d282e98",
   "metadata": {},
   "outputs": [
    {
     "data": {
      "text/plain": [
       "Index(['id', 'mssv', 'namsinh', 'gioitinh', 'noisinh', 'lopsh', 'khoa', 'hedt',\n",
       "       'khoahoc', 'chuyennganh2', 'tinhtrang', 'diachi_tinhtp', 'Column1',\n",
       "       '_1', '_2', '_3', '_4', '_5', '_6', '_7', '_8', '_9', '_10', '_11',\n",
       "       '_12', '_13', '_14', '_15', '_16', '_17', '_18', '_19', '_20', '_21',\n",
       "       '_22', '_23', '_24', '_25', '_26', '_27', '_28', '_29', '_30', '_31',\n",
       "       '_32', '_33', '_34', '_35', '_36', '_37', '_38', '_39', '_40', '_41',\n",
       "       '_42', '_43', '_44', '_45', '_46', '_47', '_48', '_49', '_50', '_51',\n",
       "       '_52', '_53', '_54', '_55', '_56'],\n",
       "      dtype='object')"
      ]
     },
     "execution_count": 24,
     "metadata": {},
     "output_type": "execute_result"
    }
   ],
   "source": [
    "sinhvien.columns"
   ]
  },
  {
   "cell_type": "code",
   "execution_count": 25,
   "id": "9a1e04b9-930d-4aa1-b581-55b0aba58612",
   "metadata": {},
   "outputs": [],
   "source": [
    "# lấy các cột có giá trị sử dụng\n",
    "sinhvien = sinhvien[['mssv', 'namsinh', 'noisinh', 'gioitinh', 'khoa', 'hedt',\n",
    "       'khoahoc', 'tinhtrang']]"
   ]
  },
  {
   "cell_type": "code",
   "execution_count": 26,
   "id": "2efbf305-ca17-480d-8ae9-cc4542f64425",
   "metadata": {},
   "outputs": [
    {
     "data": {
      "text/html": [
       "<div>\n",
       "<style scoped>\n",
       "    .dataframe tbody tr th:only-of-type {\n",
       "        vertical-align: middle;\n",
       "    }\n",
       "\n",
       "    .dataframe tbody tr th {\n",
       "        vertical-align: top;\n",
       "    }\n",
       "\n",
       "    .dataframe thead th {\n",
       "        text-align: right;\n",
       "    }\n",
       "</style>\n",
       "<table border=\"1\" class=\"dataframe\">\n",
       "  <thead>\n",
       "    <tr style=\"text-align: right;\">\n",
       "      <th></th>\n",
       "      <th>mssv</th>\n",
       "      <th>namsinh</th>\n",
       "      <th>noisinh</th>\n",
       "      <th>gioitinh</th>\n",
       "      <th>khoa</th>\n",
       "      <th>hedt</th>\n",
       "      <th>khoahoc</th>\n",
       "      <th>tinhtrang</th>\n",
       "    </tr>\n",
       "  </thead>\n",
       "  <tbody>\n",
       "    <tr>\n",
       "      <th>0</th>\n",
       "      <td>E37BF33CXPvAibaEXe9Y6XKwco8jyUy8xdOxIJZW</td>\n",
       "      <td>1999.0</td>\n",
       "      <td>'Hải Dương'</td>\n",
       "      <td>1</td>\n",
       "      <td>MMT&amp;TT</td>\n",
       "      <td>CQUI</td>\n",
       "      <td>12</td>\n",
       "      <td>5</td>\n",
       "    </tr>\n",
       "    <tr>\n",
       "      <th>1</th>\n",
       "      <td>B3024A0DXPvAibaEXe++B0JyCbXA1F/t+O6kpXJd</td>\n",
       "      <td>2001.0</td>\n",
       "      <td>'Bình Phước'</td>\n",
       "      <td>1</td>\n",
       "      <td>HTTT</td>\n",
       "      <td>CLC</td>\n",
       "      <td>14</td>\n",
       "      <td>5</td>\n",
       "    </tr>\n",
       "    <tr>\n",
       "      <th>2</th>\n",
       "      <td>0ACD9F7AXPvAibaEXe/K6d36/fqcEaBjFfA/Uaef</td>\n",
       "      <td>1994.0</td>\n",
       "      <td>'TP. Hồ Chí Minh'</td>\n",
       "      <td>1</td>\n",
       "      <td>KHMT</td>\n",
       "      <td>CNTN</td>\n",
       "      <td>8</td>\n",
       "      <td>5</td>\n",
       "    </tr>\n",
       "    <tr>\n",
       "      <th>3</th>\n",
       "      <td>700E1725XPvAibaEXe+SbxsvF9MWxKMQLP/zEM+u</td>\n",
       "      <td>2001.0</td>\n",
       "      <td>'An Giang'</td>\n",
       "      <td>1</td>\n",
       "      <td>KHMT</td>\n",
       "      <td>CLC</td>\n",
       "      <td>14</td>\n",
       "      <td>1</td>\n",
       "    </tr>\n",
       "    <tr>\n",
       "      <th>4</th>\n",
       "      <td>2B578231XPvAibaEXe9RV3kg6cpLDAmMozUvJMwR</td>\n",
       "      <td>1997.0</td>\n",
       "      <td>'Đồng Nai'</td>\n",
       "      <td>0</td>\n",
       "      <td>MMT&amp;TT</td>\n",
       "      <td>CQUI</td>\n",
       "      <td>10</td>\n",
       "      <td>5</td>\n",
       "    </tr>\n",
       "    <tr>\n",
       "      <th>5</th>\n",
       "      <td>7806D9BAXPvAibaEXe9IFJLLU9DVVQ7bFL8KvJIW</td>\n",
       "      <td>1998.0</td>\n",
       "      <td>'Đồng Nai'</td>\n",
       "      <td>1</td>\n",
       "      <td>MMT&amp;TT</td>\n",
       "      <td>CQUI</td>\n",
       "      <td>11</td>\n",
       "      <td>1</td>\n",
       "    </tr>\n",
       "    <tr>\n",
       "      <th>6</th>\n",
       "      <td>B1EA4A9EXPvAibaEXe8oT/p9f7HpvUf1MQPdsSuF</td>\n",
       "      <td>2000.0</td>\n",
       "      <td>'Đồng Nai'</td>\n",
       "      <td>1</td>\n",
       "      <td>CNPM</td>\n",
       "      <td>CLC</td>\n",
       "      <td>13</td>\n",
       "      <td>1</td>\n",
       "    </tr>\n",
       "    <tr>\n",
       "      <th>7</th>\n",
       "      <td>1F8B9DB8XPvAibaEXe9cUsS4F6r57XT3g2N1sVl6</td>\n",
       "      <td>2001.0</td>\n",
       "      <td>'Đồng Nai'</td>\n",
       "      <td>0</td>\n",
       "      <td>HTTT</td>\n",
       "      <td>CQUI</td>\n",
       "      <td>14</td>\n",
       "      <td>1</td>\n",
       "    </tr>\n",
       "    <tr>\n",
       "      <th>8</th>\n",
       "      <td>84AF1CF1XPvAibaEXe9A8avg2Xms/yHRCW9PwY1i</td>\n",
       "      <td>2000.0</td>\n",
       "      <td>'Lâm Đồng'</td>\n",
       "      <td>0</td>\n",
       "      <td>HTTT</td>\n",
       "      <td>CQUI</td>\n",
       "      <td>13</td>\n",
       "      <td>1</td>\n",
       "    </tr>\n",
       "    <tr>\n",
       "      <th>9</th>\n",
       "      <td>B327FD18XPvAibaEXe/VQHzzHDYACaWUicUcibVi</td>\n",
       "      <td>2001.0</td>\n",
       "      <td>'Đồng Nai'</td>\n",
       "      <td>0</td>\n",
       "      <td>MMT&amp;TT</td>\n",
       "      <td>CQUI</td>\n",
       "      <td>14</td>\n",
       "      <td>1</td>\n",
       "    </tr>\n",
       "    <tr>\n",
       "      <th>10</th>\n",
       "      <td>47C7F0D8XPvAibaEXe8cJKtXZaLmvW7+9X9I1l88</td>\n",
       "      <td>1998.0</td>\n",
       "      <td>'Đồng Nai'</td>\n",
       "      <td>0</td>\n",
       "      <td>KTMT</td>\n",
       "      <td>CQUI</td>\n",
       "      <td>11</td>\n",
       "      <td>3</td>\n",
       "    </tr>\n",
       "    <tr>\n",
       "      <th>11</th>\n",
       "      <td>B836F91BXPvAibaEXe+GapkXz3RH2My4N6PSbXEr</td>\n",
       "      <td>2000.0</td>\n",
       "      <td>'Bình Thuận'</td>\n",
       "      <td>1</td>\n",
       "      <td>MMT&amp;TT</td>\n",
       "      <td>CQUI</td>\n",
       "      <td>13</td>\n",
       "      <td>1</td>\n",
       "    </tr>\n",
       "    <tr>\n",
       "      <th>12</th>\n",
       "      <td>F16F0FEBXPvAibaEXe8JhJ4J3nSSl6eFaumAKm+I</td>\n",
       "      <td>2001.0</td>\n",
       "      <td>'An Giang'</td>\n",
       "      <td>1</td>\n",
       "      <td>KTTT</td>\n",
       "      <td>CQUI</td>\n",
       "      <td>14</td>\n",
       "      <td>1</td>\n",
       "    </tr>\n",
       "    <tr>\n",
       "      <th>13</th>\n",
       "      <td>62B0EC0EXPvAibaEXe9npw4GElGYwWGhw9tYHYvT</td>\n",
       "      <td>1997.0</td>\n",
       "      <td>'Khánh Hòa'</td>\n",
       "      <td>1</td>\n",
       "      <td>MMT&amp;TT</td>\n",
       "      <td>CQUI</td>\n",
       "      <td>10</td>\n",
       "      <td>3</td>\n",
       "    </tr>\n",
       "    <tr>\n",
       "      <th>14</th>\n",
       "      <td>2A206F37XPvAibaEXe8e/5ryJ9YpuSLV/el+HbgI</td>\n",
       "      <td>1996.0</td>\n",
       "      <td>'Kiên Giang'</td>\n",
       "      <td>0</td>\n",
       "      <td>HTTT</td>\n",
       "      <td>CQUI</td>\n",
       "      <td>9</td>\n",
       "      <td>3</td>\n",
       "    </tr>\n",
       "    <tr>\n",
       "      <th>15</th>\n",
       "      <td>CEECF918XPvAibaEXe9rbQR8nwnz2B/yhJlAycre</td>\n",
       "      <td>2000.0</td>\n",
       "      <td>'Bình Dương'</td>\n",
       "      <td>1</td>\n",
       "      <td>MMT&amp;TT</td>\n",
       "      <td>CQUI</td>\n",
       "      <td>13</td>\n",
       "      <td>1</td>\n",
       "    </tr>\n",
       "    <tr>\n",
       "      <th>16</th>\n",
       "      <td>E1802B38XPvAibaEXe/OS4eb0G5N4hhNqtrHnq1p</td>\n",
       "      <td>2000.0</td>\n",
       "      <td>'Thành phố Hồ Chí Minh'</td>\n",
       "      <td>1</td>\n",
       "      <td>HTTT</td>\n",
       "      <td>CQUI</td>\n",
       "      <td>13</td>\n",
       "      <td>1</td>\n",
       "    </tr>\n",
       "    <tr>\n",
       "      <th>17</th>\n",
       "      <td>FDC34A26XPvAibaEXe+SgbKufUiN7Lb6/LE67Qhn</td>\n",
       "      <td>1997.0</td>\n",
       "      <td>'Đắk Lắk'</td>\n",
       "      <td>1</td>\n",
       "      <td>CNPM</td>\n",
       "      <td>CQUI</td>\n",
       "      <td>10</td>\n",
       "      <td>5</td>\n",
       "    </tr>\n",
       "    <tr>\n",
       "      <th>18</th>\n",
       "      <td>87F31736XPvAibaEXe+gzQv7yQRYbrDWZuL5USyT</td>\n",
       "      <td>1999.0</td>\n",
       "      <td>'Bình Dương'</td>\n",
       "      <td>1</td>\n",
       "      <td>HTTT</td>\n",
       "      <td>CLC</td>\n",
       "      <td>13</td>\n",
       "      <td>1</td>\n",
       "    </tr>\n",
       "    <tr>\n",
       "      <th>19</th>\n",
       "      <td>2A600D08XPvAibaEXe/cg9419ghLE1CAOgzUwmgz</td>\n",
       "      <td>1996.0</td>\n",
       "      <td>'Tây Ninh'</td>\n",
       "      <td>1</td>\n",
       "      <td>KTMT</td>\n",
       "      <td>CLC</td>\n",
       "      <td>9</td>\n",
       "      <td>3</td>\n",
       "    </tr>\n",
       "  </tbody>\n",
       "</table>\n",
       "</div>"
      ],
      "text/plain": [
       "                                        mssv namsinh                  noisinh  \\\n",
       "0   E37BF33CXPvAibaEXe9Y6XKwco8jyUy8xdOxIJZW  1999.0              'Hải Dương'   \n",
       "1   B3024A0DXPvAibaEXe++B0JyCbXA1F/t+O6kpXJd  2001.0             'Bình Phước'   \n",
       "2   0ACD9F7AXPvAibaEXe/K6d36/fqcEaBjFfA/Uaef  1994.0        'TP. Hồ Chí Minh'   \n",
       "3   700E1725XPvAibaEXe+SbxsvF9MWxKMQLP/zEM+u  2001.0               'An Giang'   \n",
       "4   2B578231XPvAibaEXe9RV3kg6cpLDAmMozUvJMwR  1997.0               'Đồng Nai'   \n",
       "5   7806D9BAXPvAibaEXe9IFJLLU9DVVQ7bFL8KvJIW  1998.0               'Đồng Nai'   \n",
       "6   B1EA4A9EXPvAibaEXe8oT/p9f7HpvUf1MQPdsSuF  2000.0               'Đồng Nai'   \n",
       "7   1F8B9DB8XPvAibaEXe9cUsS4F6r57XT3g2N1sVl6  2001.0               'Đồng Nai'   \n",
       "8   84AF1CF1XPvAibaEXe9A8avg2Xms/yHRCW9PwY1i  2000.0               'Lâm Đồng'   \n",
       "9   B327FD18XPvAibaEXe/VQHzzHDYACaWUicUcibVi  2001.0               'Đồng Nai'   \n",
       "10  47C7F0D8XPvAibaEXe8cJKtXZaLmvW7+9X9I1l88  1998.0               'Đồng Nai'   \n",
       "11  B836F91BXPvAibaEXe+GapkXz3RH2My4N6PSbXEr  2000.0             'Bình Thuận'   \n",
       "12  F16F0FEBXPvAibaEXe8JhJ4J3nSSl6eFaumAKm+I  2001.0               'An Giang'   \n",
       "13  62B0EC0EXPvAibaEXe9npw4GElGYwWGhw9tYHYvT  1997.0              'Khánh Hòa'   \n",
       "14  2A206F37XPvAibaEXe8e/5ryJ9YpuSLV/el+HbgI  1996.0             'Kiên Giang'   \n",
       "15  CEECF918XPvAibaEXe9rbQR8nwnz2B/yhJlAycre  2000.0             'Bình Dương'   \n",
       "16  E1802B38XPvAibaEXe/OS4eb0G5N4hhNqtrHnq1p  2000.0  'Thành phố Hồ Chí Minh'   \n",
       "17  FDC34A26XPvAibaEXe+SgbKufUiN7Lb6/LE67Qhn  1997.0                'Đắk Lắk'   \n",
       "18  87F31736XPvAibaEXe+gzQv7yQRYbrDWZuL5USyT  1999.0            'Bình Dương'   \n",
       "19  2A600D08XPvAibaEXe/cg9419ghLE1CAOgzUwmgz  1996.0               'Tây Ninh'   \n",
       "\n",
       "   gioitinh    khoa  hedt khoahoc tinhtrang  \n",
       "0         1  MMT&TT  CQUI      12         5  \n",
       "1         1    HTTT   CLC      14         5  \n",
       "2         1    KHMT  CNTN       8         5  \n",
       "3         1    KHMT   CLC      14         1  \n",
       "4         0  MMT&TT  CQUI      10         5  \n",
       "5         1  MMT&TT  CQUI      11         1  \n",
       "6         1    CNPM   CLC      13         1  \n",
       "7         0    HTTT  CQUI      14         1  \n",
       "8         0    HTTT  CQUI      13         1  \n",
       "9         0  MMT&TT  CQUI      14         1  \n",
       "10        0    KTMT  CQUI      11         3  \n",
       "11        1  MMT&TT  CQUI      13         1  \n",
       "12        1    KTTT  CQUI      14         1  \n",
       "13        1  MMT&TT  CQUI      10         3  \n",
       "14        0    HTTT  CQUI       9         3  \n",
       "15        1  MMT&TT  CQUI      13         1  \n",
       "16        1    HTTT  CQUI      13         1  \n",
       "17        1    CNPM  CQUI      10         5  \n",
       "18        1    HTTT   CLC      13         1  \n",
       "19        1    KTMT   CLC       9         3  "
      ]
     },
     "execution_count": 26,
     "metadata": {},
     "output_type": "execute_result"
    }
   ],
   "source": [
    "sinhvien.head(20)"
   ]
  },
  {
   "cell_type": "code",
   "execution_count": 27,
   "id": "e123aba6-ba0a-4ccd-8061-2f12e9f3f191",
   "metadata": {},
   "outputs": [
    {
     "data": {
      "text/plain": [
       "khoahoc\n",
       "14    1718\n",
       "13    1424\n",
       "12    1089\n",
       "10    1042\n",
       "11    1041\n",
       "9     1009\n",
       "8      972\n",
       "Name: count, dtype: int64"
      ]
     },
     "execution_count": 27,
     "metadata": {},
     "output_type": "execute_result"
    }
   ],
   "source": [
    "sinhvien['khoahoc'].value_counts()"
   ]
  },
  {
   "cell_type": "markdown",
   "id": "b8192639-dbf0-4daf-93d8-ae45a117880c",
   "metadata": {},
   "source": [
    "xử lý địa chỉ của sinh viên"
   ]
  },
  {
   "cell_type": "code",
   "execution_count": 28,
   "id": "d08b68d2-baf5-465b-9dbb-390570d3ebc9",
   "metadata": {},
   "outputs": [],
   "source": [
    "#  lấy dữ liệu tỉnh thành chuẩn\n",
    "tinhthanh_chuan = pd.read_excel('Education_dataset_V2/tỉnh thành Việt Nam cập nhật đến 2021.xlsx')\n",
    "tinhthanh_chuan = tinhthanh_chuan['Tỉnh thành'].values.tolist()"
   ]
  },
  {
   "cell_type": "code",
   "execution_count": 29,
   "id": "dc357929-2e7d-4df3-955b-7f9aa170d610",
   "metadata": {},
   "outputs": [],
   "source": [
    "# # Chuyển tất cả chữ cái trong tên cột thành chữ thường\n",
    "# sinhvien['noisinh'] = sinhvien['noisinh'].str.lower()\n",
    "\n",
    "# Xóa ký tự \"'\", Tỉnh, Thành phố\n",
    "sinhvien['noisinh'] = sinhvien['noisinh'].str.replace(\"'\", '', regex=False)\n",
    "sinhvien['noisinh'] = sinhvien['noisinh'].str.replace('tỉnh', '', regex=False)\n",
    "sinhvien['noisinh'] = sinhvien['noisinh'].str.replace('thành phố', '', regex=False)\n",
    "\n",
    "# Thay thế n/a bằng không xác định\n",
    "sinhvien['noisinh'] = sinhvien['noisinh'].fillna('Không xác định').astype(str)"
   ]
  },
  {
   "cell_type": "code",
   "execution_count": 30,
   "id": "a39fef64-de42-4084-a36f-736ce5f14110",
   "metadata": {},
   "outputs": [
    {
     "name": "stderr",
     "output_type": "stream",
     "text": [
      "WARNING:root:Applied processor reduces input query to empty string, all comparisons will have score 0. [Query: '']\n",
      "WARNING:root:Applied processor reduces input query to empty string, all comparisons will have score 0. [Query: '']\n",
      "WARNING:root:Applied processor reduces input query to empty string, all comparisons will have score 0. [Query: '']\n",
      "WARNING:root:Applied processor reduces input query to empty string, all comparisons will have score 0. [Query: '']\n",
      "WARNING:root:Applied processor reduces input query to empty string, all comparisons will have score 0. [Query: '']\n",
      "WARNING:root:Applied processor reduces input query to empty string, all comparisons will have score 0. [Query: '']\n",
      "WARNING:root:Applied processor reduces input query to empty string, all comparisons will have score 0. [Query: '']\n",
      "WARNING:root:Applied processor reduces input query to empty string, all comparisons will have score 0. [Query: '']\n",
      "WARNING:root:Applied processor reduces input query to empty string, all comparisons will have score 0. [Query: '']\n",
      "WARNING:root:Applied processor reduces input query to empty string, all comparisons will have score 0. [Query: '']\n",
      "WARNING:root:Applied processor reduces input query to empty string, all comparisons will have score 0. [Query: '']\n"
     ]
    }
   ],
   "source": [
    "sinhvien['noisinh'] = sinhvien['noisinh'].apply(correct_tinh_thanh)"
   ]
  },
  {
   "cell_type": "code",
   "execution_count": 31,
   "id": "2792fc38-d047-47bb-9abe-5a5db09f1c8b",
   "metadata": {},
   "outputs": [
    {
     "data": {
      "text/plain": [
       "noisinh\n",
       "Hồ Chí Minh    1629\n",
       "Đồng Nai        525\n",
       "Đắk Lắk         501\n",
       "Bình Định       414\n",
       "Lâm Đồng        354\n",
       "               ... \n",
       "Thái Nguyên       3\n",
       "Lai Châu          2\n",
       "Tuyên Quang       1\n",
       "Bắc Kạn           1\n",
       "Cao Bằng          1\n",
       "Name: count, Length: 61, dtype: int64"
      ]
     },
     "execution_count": 31,
     "metadata": {},
     "output_type": "execute_result"
    }
   ],
   "source": [
    "sinhvien['noisinh'].value_counts()"
   ]
  },
  {
   "cell_type": "code",
   "execution_count": 32,
   "id": "a7cad633-bbaf-42e2-91a5-21d404f3eba7",
   "metadata": {},
   "outputs": [
    {
     "data": {
      "text/plain": [
       "(8295, 8)"
      ]
     },
     "execution_count": 32,
     "metadata": {},
     "output_type": "execute_result"
    }
   ],
   "source": [
    "sinhvien.shape"
   ]
  },
  {
   "cell_type": "code",
   "execution_count": 33,
   "id": "b6eceff7-67e6-4090-b991-1c9a4521d9b4",
   "metadata": {
    "scrolled": true
   },
   "outputs": [
    {
     "data": {
      "text/plain": [
       "mssv         0\n",
       "namsinh      0\n",
       "noisinh      0\n",
       "gioitinh     0\n",
       "khoa         0\n",
       "hedt         0\n",
       "khoahoc      0\n",
       "tinhtrang    0\n",
       "dtype: int64"
      ]
     },
     "execution_count": 33,
     "metadata": {},
     "output_type": "execute_result"
    }
   ],
   "source": [
    "sinhvien.isna().sum()"
   ]
  },
  {
   "cell_type": "code",
   "execution_count": 34,
   "id": "618d0ccb-3ef7-44c3-9cd1-6810f60ca35e",
   "metadata": {},
   "outputs": [
    {
     "data": {
      "text/plain": [
       "tinhtrang\n",
       "1     4342\n",
       "3     1845\n",
       "5     1318\n",
       "8      374\n",
       "2      302\n",
       "4       82\n",
       "11      22\n",
       "6       10\n",
       "Name: count, dtype: int64"
      ]
     },
     "execution_count": 34,
     "metadata": {},
     "output_type": "execute_result"
    }
   ],
   "source": [
    "sinhvien['tinhtrang'].value_counts()"
   ]
  },
  {
   "cell_type": "code",
   "execution_count": 35,
   "id": "89ca8b55-7398-4d5c-9460-eaa8ccc61f80",
   "metadata": {},
   "outputs": [],
   "source": [
    "sinhvien = sinhvien.dropna()"
   ]
  },
  {
   "cell_type": "code",
   "execution_count": 36,
   "id": "d87912db-b722-4d49-a2c8-c17f60576f66",
   "metadata": {},
   "outputs": [],
   "source": [
    "# Thay thế giới tính từ id thành string với 1 là nam, 0 là nữ\n",
    "sinhvien['gioitinh'] = sinhvien['gioitinh'].str.replace(\"1\", 'Nam', regex=False)\n",
    "sinhvien['gioitinh'] = sinhvien['gioitinh'].str.replace('0', 'Nữ', regex=False)"
   ]
  },
  {
   "cell_type": "markdown",
   "id": "87f736ca-0b9d-455d-9623-1427c1afaf27",
   "metadata": {},
   "source": [
    "# 3. xeploaiav"
   ]
  },
  {
   "cell_type": "code",
   "execution_count": 37,
   "id": "1091f884-c52e-4555-8868-43776a711011",
   "metadata": {},
   "outputs": [],
   "source": [
    "xeploaiav = pd.read_excel('Education_dataset_V2/04.xeploaiav.xlsx')"
   ]
  },
  {
   "cell_type": "code",
   "execution_count": 38,
   "id": "2daafa7d-bf2f-4c51-aa10-0f87b057c346",
   "metadata": {},
   "outputs": [
    {
     "name": "stderr",
     "output_type": "stream",
     "text": [
      "C:\\Users\\anhthy\\AppData\\Local\\Temp\\ipykernel_10644\\2883437664.py:20: FutureWarning: DataFrame.applymap has been deprecated. Use DataFrame.map instead.\n",
      "  df = df.applymap(lambda x: x.strip())\n"
     ]
    }
   ],
   "source": [
    "xeploaiav = clean_dataframe(xeploaiav)"
   ]
  },
  {
   "cell_type": "code",
   "execution_count": 39,
   "id": "46854171-d939-4c53-994d-1b4f28bdffca",
   "metadata": {},
   "outputs": [
    {
     "data": {
      "text/plain": [
       "(6349, 8)"
      ]
     },
     "execution_count": 39,
     "metadata": {},
     "output_type": "execute_result"
    }
   ],
   "source": [
    "xeploaiav.shape"
   ]
  },
  {
   "cell_type": "code",
   "execution_count": 40,
   "id": "e2c813ac-e796-40c0-b9c8-7931efc9810e",
   "metadata": {},
   "outputs": [
    {
     "data": {
      "text/plain": [
       "Index(['id', 'mssv', 'listening', 'reading', 'Column1', 'total', 'mamh',\n",
       "       'ghichu'],\n",
       "      dtype='object')"
      ]
     },
     "execution_count": 40,
     "metadata": {},
     "output_type": "execute_result"
    }
   ],
   "source": [
    "xeploaiav.columns"
   ]
  },
  {
   "cell_type": "code",
   "execution_count": 41,
   "id": "b96141ad-f10e-49b1-b18a-5ab959ddef30",
   "metadata": {},
   "outputs": [],
   "source": [
    "#  lấy các cột có giá trị sử dụng\n",
    "xeploaiav = xeploaiav [['mssv', 'mamh']]"
   ]
  },
  {
   "cell_type": "code",
   "execution_count": 42,
   "id": "a854cb2a-b4df-475f-990d-463b380ff75f",
   "metadata": {},
   "outputs": [],
   "source": [
    "# Loại bỏ khoảng trắng đầu và cuối \n",
    "xeploaiav['mamh'] = xeploaiav['mamh'].str.strip()\n",
    "\n",
    "# Xóa ký tự \"'\" trong mamh\n",
    "xeploaiav['mamh'] = xeploaiav['mamh'].str.replace(\"'\", '', regex=False)\n",
    "\n",
    "# Thay thế EN001 bằn ENG01\n",
    "xeploaiav['mamh'] = xeploaiav['mamh'].replace('EN001', 'ENG01')\n",
    "# Thay thế EN002 bằn ENG02\n",
    "xeploaiav['mamh'] = xeploaiav['mamh'].replace('EN002', 'ENG02')"
   ]
  },
  {
   "cell_type": "code",
   "execution_count": 43,
   "id": "8ba78646-fd74-4b92-8d7e-7287382fb2fa",
   "metadata": {},
   "outputs": [],
   "source": [
    "#  chỉ lấy các dùng có giá trị đúng (bỏ qua các giá trị như NULL, N/A)\n",
    "xeploaiav = xeploaiav[(xeploaiav['mamh'].isin(['ENG01', 'AVSC1', 'AVSC2', 'ENG02', 'AVSC', 'ENG04', 'ENG05', 'Miễn ENG03']))]"
   ]
  },
  {
   "cell_type": "code",
   "execution_count": 44,
   "id": "e1e3c798-f642-4f47-9b97-7a36ab3b3537",
   "metadata": {},
   "outputs": [
    {
     "data": {
      "text/plain": [
       "mamh\n",
       "ENG01         1860\n",
       "AVSC1         1261\n",
       "AVSC2          824\n",
       "ENG02          785\n",
       "AVSC           415\n",
       "ENG04          261\n",
       "ENG05          225\n",
       "Miễn ENG03     111\n",
       "Name: count, dtype: int64"
      ]
     },
     "execution_count": 44,
     "metadata": {},
     "output_type": "execute_result"
    }
   ],
   "source": [
    "xeploaiav['mamh'].value_counts()"
   ]
  },
  {
   "cell_type": "code",
   "execution_count": 45,
   "id": "30c96f0d-b128-495a-8225-e09beed45c1a",
   "metadata": {},
   "outputs": [
    {
     "data": {
      "text/plain": [
       "(5742, 2)"
      ]
     },
     "execution_count": 45,
     "metadata": {},
     "output_type": "execute_result"
    }
   ],
   "source": [
    "xeploaiav.shape"
   ]
  },
  {
   "cell_type": "code",
   "execution_count": 46,
   "id": "3847d0e9-c9ac-45cb-b9c0-4c78c00df1d9",
   "metadata": {},
   "outputs": [
    {
     "data": {
      "text/plain": [
       "mssv    0\n",
       "mamh    0\n",
       "dtype: int64"
      ]
     },
     "execution_count": 46,
     "metadata": {},
     "output_type": "execute_result"
    }
   ],
   "source": [
    "xeploaiav.isna().sum()"
   ]
  },
  {
   "cell_type": "code",
   "execution_count": 81,
   "id": "2725caa3-d6ec-4dfd-b2b6-b2af6e447016",
   "metadata": {},
   "outputs": [],
   "source": [
    "# Vì bảng xeploaiav không bao gồm chuẩn đầu vào tiếng anh cho khoá 8 9 10 nên dùng điểm thi để xác định mamh anh văn đầu vào\n",
    "diem_Thu = pd.read_excel('Education_dataset_V2/diem_Thu.xlsx')"
   ]
  },
  {
   "cell_type": "code",
   "execution_count": 82,
   "id": "132d7eb3-be28-410e-b21d-6deacaf618f0",
   "metadata": {},
   "outputs": [
    {
     "name": "stderr",
     "output_type": "stream",
     "text": [
      "C:\\Users\\anhthy\\AppData\\Local\\Temp\\ipykernel_10644\\2883437664.py:20: FutureWarning: DataFrame.applymap has been deprecated. Use DataFrame.map instead.\n",
      "  df = df.applymap(lambda x: x.strip())\n"
     ]
    }
   ],
   "source": [
    "#  làm sạch điểm thu\n",
    "diem_Thu = clean_dataframe(diem_Thu)"
   ]
  },
  {
   "cell_type": "code",
   "execution_count": 83,
   "id": "826c12bc-2263-4d60-a699-012bc7957c19",
   "metadata": {},
   "outputs": [
    {
     "data": {
      "text/plain": [
       "Index(['mssv', 'mamh', 'malop', 'sotc', 'hocky', 'namhoc', 'diem_qt',\n",
       "       'diem_th', 'diem_gk', 'diem_ck', 'diem_hp', 'trangthai', 'tinhtrang',\n",
       "       'mamh_tt'],\n",
       "      dtype='object')"
      ]
     },
     "execution_count": 83,
     "metadata": {},
     "output_type": "execute_result"
    }
   ],
   "source": [
    "diem_Thu.columns"
   ]
  },
  {
   "cell_type": "code",
   "execution_count": 84,
   "id": "bace6414-5005-4352-9767-a6aabe6be111",
   "metadata": {},
   "outputs": [],
   "source": [
    "# diem_Thu = diem_Thu[['mssv', 'mamh']]\n",
    "diem_Thu = diem_Thu[(diem_Thu['mamh'] == 'ENBT') | (diem_Thu['mamh'] == 'ADENG01') | (diem_Thu['mamh'] == 'ADENG02') |\n",
    "    (diem_Thu['mamh'] == 'ADENG02') | (diem_Thu['mamh'] == 'ADENG03') | (diem_Thu['mamh'] == 'ENGL1113') | (diem_Thu['mamh'] == 'ENGL1213') ]"
   ]
  },
  {
   "cell_type": "code",
   "execution_count": 85,
   "id": "31c22834-2071-46d0-bef7-2c53c4cce2c4",
   "metadata": {},
   "outputs": [],
   "source": [
    "# diem_Thu = diem_Thu[['mssv', 'mamh']]\n",
    "diem_Thu = diem_Thu[(diem_Thu['mamh'] == 'ENBT') | (diem_Thu['mamh'] == 'ADENG01') | (diem_Thu['mamh'] == 'ADENG02') |\n",
    "    (diem_Thu['mamh'] == 'ADENG02') | (diem_Thu['mamh'] == 'ADENG03') | (diem_Thu['mamh'] == 'ENGL1113') | (diem_Thu['mamh'] == 'ENGL1213') ]\n",
    "\n",
    "#  lấy các cột có giá trị sử dụng từ diem_Thu và sắp xếp để sau đó lấy môn đầu tiên tức là môn av đầu vào\n",
    "diem_Thu = diem_Thu.sort_values(by=['mssv', 'namhoc', 'hocky'])\n",
    "\n",
    "# Lấy mã môn đầu vào của sinh viên (lấy mã đầu tiên - av đầu vào) \n",
    "diem_Thu = diem_Thu.groupby('mssv').first().reset_index()\n",
    "\n",
    "# Nếu chỉ lấy cột 'mssv' và 'mamh'\n",
    "diem_Thu = diem_Thu[['mssv', 'mamh']]"
   ]
  },
  {
   "cell_type": "markdown",
   "id": "fb0dff01-fbdf-4d40-94e8-aa11b243631d",
   "metadata": {},
   "source": [
    "# 4. diemrl"
   ]
  },
  {
   "cell_type": "code",
   "execution_count": 86,
   "id": "e4049f30-ef00-48d1-913b-4f8c240038f9",
   "metadata": {},
   "outputs": [],
   "source": [
    "diemrl = pd.read_excel('Education_dataset_V2/diemrl.xlsx')"
   ]
  },
  {
   "cell_type": "code",
   "execution_count": 87,
   "id": "825650b7-ad7b-41b4-bc66-99bee56f201e",
   "metadata": {},
   "outputs": [
    {
     "name": "stderr",
     "output_type": "stream",
     "text": [
      "C:\\Users\\anhthy\\AppData\\Local\\Temp\\ipykernel_10644\\2883437664.py:20: FutureWarning: DataFrame.applymap has been deprecated. Use DataFrame.map instead.\n",
      "  df = df.applymap(lambda x: x.strip())\n"
     ]
    }
   ],
   "source": [
    "diemrl = clean_dataframe(diemrl)"
   ]
  },
  {
   "cell_type": "code",
   "execution_count": 88,
   "id": "2bf55700-ddf4-46d8-87fa-5cc0baaaf586",
   "metadata": {},
   "outputs": [
    {
     "data": {
      "text/plain": [
       "Index(['id', 'mssv', 'lopsh', 'hocky', 'namhoc', 'drl', 'ghichu'], dtype='object')"
      ]
     },
     "execution_count": 88,
     "metadata": {},
     "output_type": "execute_result"
    }
   ],
   "source": [
    "diemrl.columns"
   ]
  },
  {
   "cell_type": "code",
   "execution_count": 89,
   "id": "6a762f50-83ad-4959-b7e2-cebe2bfbc0c1",
   "metadata": {},
   "outputs": [
    {
     "data": {
      "text/plain": [
       "drl\n",
       "100    16568\n",
       "90      5506\n",
       "80      4620\n",
       "75      3982\n",
       "85      3500\n",
       "       ...  \n",
       "-39        1\n",
       "-37        1\n",
       "-43        1\n",
       "-29        1\n",
       "-31        1\n",
       "Name: count, Length: 144, dtype: int64"
      ]
     },
     "execution_count": 89,
     "metadata": {},
     "output_type": "execute_result"
    }
   ],
   "source": [
    "#  đếm số lượng\n",
    "diemrl['drl'].value_counts()"
   ]
  },
  {
   "cell_type": "code",
   "execution_count": 90,
   "id": "62be6cbd-764d-4438-ad16-5fa55cf6e20f",
   "metadata": {},
   "outputs": [
    {
     "data": {
      "text/html": [
       "<div>\n",
       "<style scoped>\n",
       "    .dataframe tbody tr th:only-of-type {\n",
       "        vertical-align: middle;\n",
       "    }\n",
       "\n",
       "    .dataframe tbody tr th {\n",
       "        vertical-align: top;\n",
       "    }\n",
       "\n",
       "    .dataframe thead th {\n",
       "        text-align: right;\n",
       "    }\n",
       "</style>\n",
       "<table border=\"1\" class=\"dataframe\">\n",
       "  <thead>\n",
       "    <tr style=\"text-align: right;\">\n",
       "      <th></th>\n",
       "      <th>id</th>\n",
       "      <th>mssv</th>\n",
       "      <th>lopsh</th>\n",
       "      <th>hocky</th>\n",
       "      <th>namhoc</th>\n",
       "      <th>drl</th>\n",
       "      <th>ghichu</th>\n",
       "    </tr>\n",
       "  </thead>\n",
       "  <tbody>\n",
       "    <tr>\n",
       "      <th>0</th>\n",
       "      <td>1</td>\n",
       "      <td>2A10C466XPvAibaEXe8vcQUX+A6FeNIl5Loug1zV</td>\n",
       "      <td>ANTN2012</td>\n",
       "      <td>2</td>\n",
       "      <td>2013</td>\n",
       "      <td>81</td>\n",
       "      <td>nan</td>\n",
       "    </tr>\n",
       "    <tr>\n",
       "      <th>1</th>\n",
       "      <td>2</td>\n",
       "      <td>903ADF1AXPvAibaEXe9p5G9u2qRxxZEjiJjD4Ztl</td>\n",
       "      <td>ANTN2012</td>\n",
       "      <td>2</td>\n",
       "      <td>2013</td>\n",
       "      <td>88</td>\n",
       "      <td>nan</td>\n",
       "    </tr>\n",
       "    <tr>\n",
       "      <th>2</th>\n",
       "      <td>3</td>\n",
       "      <td>F06EDFFEXPvAibaEXe8KSegZW1rFPMNPBQ+c9rst</td>\n",
       "      <td>ANTN2012</td>\n",
       "      <td>2</td>\n",
       "      <td>2013</td>\n",
       "      <td>94</td>\n",
       "      <td>nan</td>\n",
       "    </tr>\n",
       "    <tr>\n",
       "      <th>3</th>\n",
       "      <td>4</td>\n",
       "      <td>AA868AD5XPvAibaEXe+1Gm1QkI5oNyTYwjwmgxhx</td>\n",
       "      <td>ANTN2012</td>\n",
       "      <td>2</td>\n",
       "      <td>2013</td>\n",
       "      <td>86</td>\n",
       "      <td>nan</td>\n",
       "    </tr>\n",
       "    <tr>\n",
       "      <th>4</th>\n",
       "      <td>5</td>\n",
       "      <td>E7105148XPvAibaEXe+E7LJdSZ9AW2sUcg4OSCnU</td>\n",
       "      <td>ANTN2012</td>\n",
       "      <td>2</td>\n",
       "      <td>2013</td>\n",
       "      <td>88</td>\n",
       "      <td>nan</td>\n",
       "    </tr>\n",
       "    <tr>\n",
       "      <th>...</th>\n",
       "      <td>...</td>\n",
       "      <td>...</td>\n",
       "      <td>...</td>\n",
       "      <td>...</td>\n",
       "      <td>...</td>\n",
       "      <td>...</td>\n",
       "      <td>...</td>\n",
       "    </tr>\n",
       "    <tr>\n",
       "      <th>111973</th>\n",
       "      <td>178972</td>\n",
       "      <td>BEE29266XPvAibaEXe+sfYgLIH7gO26xJqZJX9CM</td>\n",
       "      <td>HTTT2022</td>\n",
       "      <td>1</td>\n",
       "      <td>2022</td>\n",
       "      <td>98</td>\n",
       "      <td>Xuất sắc</td>\n",
       "    </tr>\n",
       "    <tr>\n",
       "      <th>111974</th>\n",
       "      <td>178973</td>\n",
       "      <td>D939EB2AXPvAibaEXe+sfYgLIH7gO3/6Lj8KC/E/</td>\n",
       "      <td>CNNB2022</td>\n",
       "      <td>1</td>\n",
       "      <td>2022</td>\n",
       "      <td>81</td>\n",
       "      <td>Tốt</td>\n",
       "    </tr>\n",
       "    <tr>\n",
       "      <th>111975</th>\n",
       "      <td>178974</td>\n",
       "      <td>4F301633XPvAibaEXe+sfYgLIH7gO18shsVHajwn</td>\n",
       "      <td>KHMT2022</td>\n",
       "      <td>1</td>\n",
       "      <td>2022</td>\n",
       "      <td>93</td>\n",
       "      <td>Xuất sắc</td>\n",
       "    </tr>\n",
       "    <tr>\n",
       "      <th>111976</th>\n",
       "      <td>178975</td>\n",
       "      <td>783E8288XPvAibaEXe+sfYgLIH7gO/Sehf33Nrd5</td>\n",
       "      <td>KTPM2022</td>\n",
       "      <td>1</td>\n",
       "      <td>2022</td>\n",
       "      <td>86</td>\n",
       "      <td>Tốt</td>\n",
       "    </tr>\n",
       "    <tr>\n",
       "      <th>111977</th>\n",
       "      <td>178976</td>\n",
       "      <td>2F3C5091XPvAibaEXe+sfYgLIH7gOxzJxMJIBXzw</td>\n",
       "      <td>KTPM2022</td>\n",
       "      <td>1</td>\n",
       "      <td>2022</td>\n",
       "      <td>88</td>\n",
       "      <td>Tốt</td>\n",
       "    </tr>\n",
       "  </tbody>\n",
       "</table>\n",
       "<p>111978 rows × 7 columns</p>\n",
       "</div>"
      ],
      "text/plain": [
       "            id                                      mssv     lopsh hocky  \\\n",
       "0            1  2A10C466XPvAibaEXe8vcQUX+A6FeNIl5Loug1zV  ANTN2012     2   \n",
       "1            2  903ADF1AXPvAibaEXe9p5G9u2qRxxZEjiJjD4Ztl  ANTN2012     2   \n",
       "2            3  F06EDFFEXPvAibaEXe8KSegZW1rFPMNPBQ+c9rst  ANTN2012     2   \n",
       "3            4  AA868AD5XPvAibaEXe+1Gm1QkI5oNyTYwjwmgxhx  ANTN2012     2   \n",
       "4            5  E7105148XPvAibaEXe+E7LJdSZ9AW2sUcg4OSCnU  ANTN2012     2   \n",
       "...        ...                                       ...       ...   ...   \n",
       "111973  178972  BEE29266XPvAibaEXe+sfYgLIH7gO26xJqZJX9CM  HTTT2022     1   \n",
       "111974  178973  D939EB2AXPvAibaEXe+sfYgLIH7gO3/6Lj8KC/E/  CNNB2022     1   \n",
       "111975  178974  4F301633XPvAibaEXe+sfYgLIH7gO18shsVHajwn  KHMT2022     1   \n",
       "111976  178975  783E8288XPvAibaEXe+sfYgLIH7gO/Sehf33Nrd5  KTPM2022     1   \n",
       "111977  178976  2F3C5091XPvAibaEXe+sfYgLIH7gOxzJxMJIBXzw  KTPM2022     1   \n",
       "\n",
       "       namhoc drl    ghichu  \n",
       "0        2013  81       nan  \n",
       "1        2013  88       nan  \n",
       "2        2013  94       nan  \n",
       "3        2013  86       nan  \n",
       "4        2013  88       nan  \n",
       "...       ...  ..       ...  \n",
       "111973   2022  98  Xuất sắc  \n",
       "111974   2022  81       Tốt  \n",
       "111975   2022  93  Xuất sắc  \n",
       "111976   2022  86       Tốt  \n",
       "111977   2022  88       Tốt  \n",
       "\n",
       "[111978 rows x 7 columns]"
      ]
     },
     "execution_count": 90,
     "metadata": {},
     "output_type": "execute_result"
    }
   ],
   "source": [
    "diemrl"
   ]
  },
  {
   "cell_type": "code",
   "execution_count": 91,
   "id": "7671138b-e87b-4486-9e37-f078cdee2a86",
   "metadata": {},
   "outputs": [
    {
     "data": {
      "text/plain": [
       "Index(['id', 'mssv', 'lopsh', 'hocky', 'namhoc', 'drl', 'ghichu'], dtype='object')"
      ]
     },
     "execution_count": 91,
     "metadata": {},
     "output_type": "execute_result"
    }
   ],
   "source": [
    "diemrl.columns"
   ]
  },
  {
   "cell_type": "code",
   "execution_count": 92,
   "id": "8287a6a0-683e-4932-9a11-b2f9b13f5db5",
   "metadata": {},
   "outputs": [],
   "source": [
    "#  lấy các cột có giấ trị sử dụng\n",
    "diemrl = diemrl[['mssv', 'hocky', 'namhoc', 'drl']]"
   ]
  },
  {
   "cell_type": "code",
   "execution_count": 93,
   "id": "09d83267-75fd-49c7-a31f-10ee9f264b8c",
   "metadata": {},
   "outputs": [],
   "source": [
    "#  lấy 5 học kỳ đầu\n",
    "diemrl = pivot_top_5_semesters_diemrl(diemrl)"
   ]
  },
  {
   "cell_type": "code",
   "execution_count": 94,
   "id": "13a0987c-3d2f-4039-bcf4-13a2a46dc818",
   "metadata": {},
   "outputs": [
    {
     "data": {
      "text/html": [
       "<div>\n",
       "<style scoped>\n",
       "    .dataframe tbody tr th:only-of-type {\n",
       "        vertical-align: middle;\n",
       "    }\n",
       "\n",
       "    .dataframe tbody tr th {\n",
       "        vertical-align: top;\n",
       "    }\n",
       "\n",
       "    .dataframe thead th {\n",
       "        text-align: right;\n",
       "    }\n",
       "</style>\n",
       "<table border=\"1\" class=\"dataframe\">\n",
       "  <thead>\n",
       "    <tr style=\"text-align: right;\">\n",
       "      <th></th>\n",
       "      <th>mssv</th>\n",
       "      <th>drl_hk_1</th>\n",
       "      <th>drl_hk_2</th>\n",
       "      <th>drl_hk_3</th>\n",
       "      <th>drl_hk_4</th>\n",
       "      <th>drl_hk_5</th>\n",
       "    </tr>\n",
       "  </thead>\n",
       "  <tbody>\n",
       "    <tr>\n",
       "      <th>0</th>\n",
       "      <td>0000AC05XPvAibaEXe9B2tolTZ0JLoBGbkQixQS6</td>\n",
       "      <td>93</td>\n",
       "      <td>90</td>\n",
       "      <td>100</td>\n",
       "      <td>NaN</td>\n",
       "      <td>NaN</td>\n",
       "    </tr>\n",
       "    <tr>\n",
       "      <th>1</th>\n",
       "      <td>0001CF3EXPvAibaEXe/xTpnJlY3K6L35F+TKUux6</td>\n",
       "      <td>38</td>\n",
       "      <td>NaN</td>\n",
       "      <td>NaN</td>\n",
       "      <td>NaN</td>\n",
       "      <td>NaN</td>\n",
       "    </tr>\n",
       "    <tr>\n",
       "      <th>2</th>\n",
       "      <td>0001EB57XPvAibaEXe/twT+sf632fUXnsgPGeB4G</td>\n",
       "      <td>100</td>\n",
       "      <td>100</td>\n",
       "      <td>100</td>\n",
       "      <td>100</td>\n",
       "      <td>100</td>\n",
       "    </tr>\n",
       "    <tr>\n",
       "      <th>3</th>\n",
       "      <td>00046394XPvAibaEXe+fmxcqgvribEcT4YmJhSFD</td>\n",
       "      <td>81</td>\n",
       "      <td>76</td>\n",
       "      <td>75</td>\n",
       "      <td>91</td>\n",
       "      <td>77</td>\n",
       "    </tr>\n",
       "    <tr>\n",
       "      <th>4</th>\n",
       "      <td>0006A0BBXPvAibaEXe/lMOwHQdw54DgUkWaqwb1u</td>\n",
       "      <td>96</td>\n",
       "      <td>NaN</td>\n",
       "      <td>NaN</td>\n",
       "      <td>NaN</td>\n",
       "      <td>NaN</td>\n",
       "    </tr>\n",
       "    <tr>\n",
       "      <th>...</th>\n",
       "      <td>...</td>\n",
       "      <td>...</td>\n",
       "      <td>...</td>\n",
       "      <td>...</td>\n",
       "      <td>...</td>\n",
       "      <td>...</td>\n",
       "    </tr>\n",
       "    <tr>\n",
       "      <th>17977</th>\n",
       "      <td>FFE9E452XPvAibaEXe+6MN9FoW2mqXtx1lMTF9+D</td>\n",
       "      <td>98</td>\n",
       "      <td>98</td>\n",
       "      <td>93</td>\n",
       "      <td>87</td>\n",
       "      <td>98</td>\n",
       "    </tr>\n",
       "    <tr>\n",
       "      <th>17978</th>\n",
       "      <td>FFEF294AXPvAibaEXe/ceziXFRXnLc/x/K0hVw4d</td>\n",
       "      <td>76</td>\n",
       "      <td>80</td>\n",
       "      <td>76</td>\n",
       "      <td>75</td>\n",
       "      <td>79</td>\n",
       "    </tr>\n",
       "    <tr>\n",
       "      <th>17979</th>\n",
       "      <td>FFF3D630XPvAibaEXe8byJxgVsE7R2dP7ICEdFWK</td>\n",
       "      <td>70</td>\n",
       "      <td>70</td>\n",
       "      <td>85</td>\n",
       "      <td>85</td>\n",
       "      <td>99</td>\n",
       "    </tr>\n",
       "    <tr>\n",
       "      <th>17980</th>\n",
       "      <td>FFF4CD57XPvAibaEXe/z8kRiyNmKNla425pm0Qmc</td>\n",
       "      <td>97</td>\n",
       "      <td>86</td>\n",
       "      <td>86</td>\n",
       "      <td>NaN</td>\n",
       "      <td>NaN</td>\n",
       "    </tr>\n",
       "    <tr>\n",
       "      <th>17981</th>\n",
       "      <td>FFFA4234XPvAibaEXe+OhmjSj4XEzdTGgcTdT9fT</td>\n",
       "      <td>71</td>\n",
       "      <td>71</td>\n",
       "      <td>80</td>\n",
       "      <td>83</td>\n",
       "      <td>83</td>\n",
       "    </tr>\n",
       "  </tbody>\n",
       "</table>\n",
       "<p>17982 rows × 6 columns</p>\n",
       "</div>"
      ],
      "text/plain": [
       "                                           mssv drl_hk_1 drl_hk_2 drl_hk_3  \\\n",
       "0      0000AC05XPvAibaEXe9B2tolTZ0JLoBGbkQixQS6       93       90      100   \n",
       "1      0001CF3EXPvAibaEXe/xTpnJlY3K6L35F+TKUux6       38      NaN      NaN   \n",
       "2      0001EB57XPvAibaEXe/twT+sf632fUXnsgPGeB4G      100      100      100   \n",
       "3      00046394XPvAibaEXe+fmxcqgvribEcT4YmJhSFD       81       76       75   \n",
       "4      0006A0BBXPvAibaEXe/lMOwHQdw54DgUkWaqwb1u       96      NaN      NaN   \n",
       "...                                         ...      ...      ...      ...   \n",
       "17977  FFE9E452XPvAibaEXe+6MN9FoW2mqXtx1lMTF9+D       98       98       93   \n",
       "17978  FFEF294AXPvAibaEXe/ceziXFRXnLc/x/K0hVw4d       76       80       76   \n",
       "17979  FFF3D630XPvAibaEXe8byJxgVsE7R2dP7ICEdFWK       70       70       85   \n",
       "17980  FFF4CD57XPvAibaEXe/z8kRiyNmKNla425pm0Qmc       97       86       86   \n",
       "17981  FFFA4234XPvAibaEXe+OhmjSj4XEzdTGgcTdT9fT       71       71       80   \n",
       "\n",
       "      drl_hk_4 drl_hk_5  \n",
       "0          NaN      NaN  \n",
       "1          NaN      NaN  \n",
       "2          100      100  \n",
       "3           91       77  \n",
       "4          NaN      NaN  \n",
       "...        ...      ...  \n",
       "17977       87       98  \n",
       "17978       75       79  \n",
       "17979       85       99  \n",
       "17980      NaN      NaN  \n",
       "17981       83       83  \n",
       "\n",
       "[17982 rows x 6 columns]"
      ]
     },
     "execution_count": 94,
     "metadata": {},
     "output_type": "execute_result"
    }
   ],
   "source": [
    "diemrl"
   ]
  },
  {
   "cell_type": "markdown",
   "id": "5e80e472-425e-444e-92c1-58f88ee68868",
   "metadata": {},
   "source": [
    "# 5. thisinh"
   ]
  },
  {
   "cell_type": "code",
   "execution_count": 95,
   "id": "00940a11-9fab-4375-a125-5de43ff3b6b3",
   "metadata": {},
   "outputs": [],
   "source": [
    "thisinh = pd.read_excel('Education_dataset_V2/05.ThiSinh.xlsx')"
   ]
  },
  {
   "cell_type": "code",
   "execution_count": 96,
   "id": "2454e94d-0ae4-4cf1-890e-b14299428d49",
   "metadata": {},
   "outputs": [
    {
     "name": "stderr",
     "output_type": "stream",
     "text": [
      "C:\\Users\\anhthy\\AppData\\Local\\Temp\\ipykernel_10644\\2883437664.py:20: FutureWarning: DataFrame.applymap has been deprecated. Use DataFrame.map instead.\n",
      "  df = df.applymap(lambda x: x.strip())\n"
     ]
    }
   ],
   "source": [
    "thisinh = clean_dataframe(thisinh)"
   ]
  },
  {
   "cell_type": "code",
   "execution_count": 97,
   "id": "a5e2a9e7-b974-46e1-a9e2-8f0c697a6bb0",
   "metadata": {},
   "outputs": [
    {
     "data": {
      "text/plain": [
       "Index(['mssv', 'dien_tt', 'diem_tt', 'lop12_matinh', 'lop12_matruong',\n",
       "       'TEN_TRUONG'],\n",
       "      dtype='object')"
      ]
     },
     "execution_count": 97,
     "metadata": {},
     "output_type": "execute_result"
    }
   ],
   "source": [
    "thisinh.columns"
   ]
  },
  {
   "cell_type": "code",
   "execution_count": 98,
   "id": "27960a12-d4c5-430b-b187-907c20d79993",
   "metadata": {
    "scrolled": true
   },
   "outputs": [
    {
     "data": {
      "text/plain": [
       "dien_tt\n",
       "THPT       7449\n",
       "ĐGNL        380\n",
       "ƯT-ĐHQG     300\n",
       "TT-Bộ        56\n",
       "CUTUYEN      25\n",
       "ƯT-Bộ        21\n",
       "30A           2\n",
       "CCQT          1\n",
       "Name: count, dtype: int64"
      ]
     },
     "execution_count": 98,
     "metadata": {},
     "output_type": "execute_result"
    }
   ],
   "source": [
    "thisinh['dien_tt'].value_counts()"
   ]
  },
  {
   "cell_type": "code",
   "execution_count": 99,
   "id": "c81e68c1-93ee-459a-805d-91a3c417e87c",
   "metadata": {},
   "outputs": [
    {
     "data": {
      "text/html": [
       "<div>\n",
       "<style scoped>\n",
       "    .dataframe tbody tr th:only-of-type {\n",
       "        vertical-align: middle;\n",
       "    }\n",
       "\n",
       "    .dataframe tbody tr th {\n",
       "        vertical-align: top;\n",
       "    }\n",
       "\n",
       "    .dataframe thead th {\n",
       "        text-align: right;\n",
       "    }\n",
       "</style>\n",
       "<table border=\"1\" class=\"dataframe\">\n",
       "  <thead>\n",
       "    <tr style=\"text-align: right;\">\n",
       "      <th></th>\n",
       "      <th>mssv</th>\n",
       "      <th>dien_tt</th>\n",
       "      <th>diem_tt</th>\n",
       "      <th>lop12_matinh</th>\n",
       "      <th>lop12_matruong</th>\n",
       "      <th>TEN_TRUONG</th>\n",
       "    </tr>\n",
       "  </thead>\n",
       "  <tbody>\n",
       "    <tr>\n",
       "      <th>0</th>\n",
       "      <td>7E308531XPvAibaEXe879+AOg1gh8i58Q/VMq7RU</td>\n",
       "      <td>THPT</td>\n",
       "      <td>24.5</td>\n",
       "      <td>53.0</td>\n",
       "      <td>32.0</td>\n",
       "      <td>THPT Bình Đông</td>\n",
       "    </tr>\n",
       "    <tr>\n",
       "      <th>1</th>\n",
       "      <td>0FCB6532XPvAibaEXe879+AOg1gh8o0EEQcYQ8HR</td>\n",
       "      <td>THPT</td>\n",
       "      <td>27.5</td>\n",
       "      <td>16.0</td>\n",
       "      <td>41.0</td>\n",
       "      <td>THPT Lê Xoay</td>\n",
       "    </tr>\n",
       "    <tr>\n",
       "      <th>2</th>\n",
       "      <td>BAF446BFXPvAibaEXe879+AOg1gh8uQrEauqA0AG</td>\n",
       "      <td>THPT</td>\n",
       "      <td>25.0</td>\n",
       "      <td>42.0</td>\n",
       "      <td>21.0</td>\n",
       "      <td>THPT Di Linh</td>\n",
       "    </tr>\n",
       "    <tr>\n",
       "      <th>3</th>\n",
       "      <td>599DFFB8XPvAibaEXe879+AOg1gh8lJvChSN7o+V</td>\n",
       "      <td>THPT</td>\n",
       "      <td>28.0</td>\n",
       "      <td>51.0</td>\n",
       "      <td>34.0</td>\n",
       "      <td>THPT Mỹ Hiệp</td>\n",
       "    </tr>\n",
       "    <tr>\n",
       "      <th>4</th>\n",
       "      <td>364B9E9BXPvAibaEXe879+AOg1gh8sRVdBmZSiXe</td>\n",
       "      <td>THPT</td>\n",
       "      <td>24.5</td>\n",
       "      <td>52.0</td>\n",
       "      <td>39.0</td>\n",
       "      <td>TTGDTX-HN Đất Đỏ (Trước 01/7/2019)</td>\n",
       "    </tr>\n",
       "    <tr>\n",
       "      <th>...</th>\n",
       "      <td>...</td>\n",
       "      <td>...</td>\n",
       "      <td>...</td>\n",
       "      <td>...</td>\n",
       "      <td>...</td>\n",
       "      <td>...</td>\n",
       "    </tr>\n",
       "    <tr>\n",
       "      <th>8229</th>\n",
       "      <td>418187C9XPvAibaEXe8Wb350a8ibnhbWI4z++VY2</td>\n",
       "      <td>THPT</td>\n",
       "      <td>21.1</td>\n",
       "      <td>56.0</td>\n",
       "      <td>14.0</td>\n",
       "      <td>THPT Phan Văn Trị</td>\n",
       "    </tr>\n",
       "    <tr>\n",
       "      <th>8230</th>\n",
       "      <td>738946F2XPvAibaEXe8Wb350a8ibnm5kQzFjIM2p</td>\n",
       "      <td>THPT</td>\n",
       "      <td>23.95</td>\n",
       "      <td>37.0</td>\n",
       "      <td>1.0</td>\n",
       "      <td>Quốc Học Quy Nhơn</td>\n",
       "    </tr>\n",
       "    <tr>\n",
       "      <th>8231</th>\n",
       "      <td>332E756EXPvAibaEXe8Wb350a8ibnvs4VyUWS40K</td>\n",
       "      <td>THPT</td>\n",
       "      <td>21.5</td>\n",
       "      <td>2.0</td>\n",
       "      <td>1.0</td>\n",
       "      <td>THPT Trưng Vương</td>\n",
       "    </tr>\n",
       "    <tr>\n",
       "      <th>8232</th>\n",
       "      <td>AB431338XPvAibaEXe8xMCTZ03/BexWzDCyWVsT3</td>\n",
       "      <td>THPT</td>\n",
       "      <td>24.7</td>\n",
       "      <td>47.0</td>\n",
       "      <td>25.0</td>\n",
       "      <td>THPT Quang Trung</td>\n",
       "    </tr>\n",
       "    <tr>\n",
       "      <th>8233</th>\n",
       "      <td>75AD7B4AXPvAibaEXe8xMCTZ03/BewoGrWSt0ZXM</td>\n",
       "      <td>THPT</td>\n",
       "      <td>24.95</td>\n",
       "      <td>42.0</td>\n",
       "      <td>2.0</td>\n",
       "      <td>THPT Trần Phú</td>\n",
       "    </tr>\n",
       "  </tbody>\n",
       "</table>\n",
       "<p>8234 rows × 6 columns</p>\n",
       "</div>"
      ],
      "text/plain": [
       "                                          mssv dien_tt diem_tt lop12_matinh  \\\n",
       "0     7E308531XPvAibaEXe879+AOg1gh8i58Q/VMq7RU    THPT    24.5         53.0   \n",
       "1     0FCB6532XPvAibaEXe879+AOg1gh8o0EEQcYQ8HR    THPT    27.5         16.0   \n",
       "2     BAF446BFXPvAibaEXe879+AOg1gh8uQrEauqA0AG    THPT    25.0         42.0   \n",
       "3     599DFFB8XPvAibaEXe879+AOg1gh8lJvChSN7o+V    THPT    28.0         51.0   \n",
       "4     364B9E9BXPvAibaEXe879+AOg1gh8sRVdBmZSiXe    THPT    24.5         52.0   \n",
       "...                                        ...     ...     ...          ...   \n",
       "8229  418187C9XPvAibaEXe8Wb350a8ibnhbWI4z++VY2    THPT    21.1         56.0   \n",
       "8230  738946F2XPvAibaEXe8Wb350a8ibnm5kQzFjIM2p    THPT   23.95         37.0   \n",
       "8231  332E756EXPvAibaEXe8Wb350a8ibnvs4VyUWS40K    THPT    21.5          2.0   \n",
       "8232  AB431338XPvAibaEXe8xMCTZ03/BexWzDCyWVsT3    THPT    24.7         47.0   \n",
       "8233  75AD7B4AXPvAibaEXe8xMCTZ03/BewoGrWSt0ZXM    THPT   24.95         42.0   \n",
       "\n",
       "     lop12_matruong                          TEN_TRUONG  \n",
       "0              32.0                      THPT Bình Đông  \n",
       "1              41.0                        THPT Lê Xoay  \n",
       "2              21.0                        THPT Di Linh  \n",
       "3              34.0                        THPT Mỹ Hiệp  \n",
       "4              39.0  TTGDTX-HN Đất Đỏ (Trước 01/7/2019)  \n",
       "...             ...                                 ...  \n",
       "8229           14.0                   THPT Phan Văn Trị  \n",
       "8230            1.0                   Quốc Học Quy Nhơn  \n",
       "8231            1.0                    THPT Trưng Vương  \n",
       "8232           25.0                    THPT Quang Trung  \n",
       "8233            2.0                       THPT Trần Phú  \n",
       "\n",
       "[8234 rows x 6 columns]"
      ]
     },
     "execution_count": 99,
     "metadata": {},
     "output_type": "execute_result"
    }
   ],
   "source": [
    "thisinh"
   ]
  },
  {
   "cell_type": "code",
   "execution_count": 100,
   "id": "8ed5f547-93fe-42ec-afc4-38eac81dea70",
   "metadata": {},
   "outputs": [
    {
     "data": {
      "text/plain": [
       "Index(['mssv', 'dien_tt', 'diem_tt', 'lop12_matinh', 'lop12_matruong',\n",
       "       'TEN_TRUONG'],\n",
       "      dtype='object')"
      ]
     },
     "execution_count": 100,
     "metadata": {},
     "output_type": "execute_result"
    }
   ],
   "source": [
    "thisinh.columns"
   ]
  },
  {
   "cell_type": "code",
   "execution_count": 101,
   "id": "809950ea-88e3-49ae-b54a-008fe7d84d40",
   "metadata": {},
   "outputs": [],
   "source": [
    "thisinh = thisinh[['mssv', 'dien_tt', 'diem_tt', 'lop12_matinh']]"
   ]
  },
  {
   "cell_type": "markdown",
   "id": "5c1a44e1-8e62-42a9-a0d6-b6cc94c9722a",
   "metadata": {},
   "source": [
    "# 6. Diem"
   ]
  },
  {
   "cell_type": "code",
   "execution_count": 102,
   "id": "f85d98f9-c890-4a25-9831-275f67988d62",
   "metadata": {},
   "outputs": [],
   "source": [
    "diemtb_hk = pd.read_excel('Education_dataset_V2/sinhvien_dtb_hocky.xlsx')"
   ]
  },
  {
   "cell_type": "code",
   "execution_count": 103,
   "id": "e2911776-65b6-4560-8a4f-47cd8a1aa81a",
   "metadata": {},
   "outputs": [
    {
     "name": "stderr",
     "output_type": "stream",
     "text": [
      "C:\\Users\\anhthy\\AppData\\Local\\Temp\\ipykernel_10644\\2883437664.py:20: FutureWarning: DataFrame.applymap has been deprecated. Use DataFrame.map instead.\n",
      "  df = df.applymap(lambda x: x.strip())\n"
     ]
    }
   ],
   "source": [
    "diemtb_hk = clean_dataframe(diemtb_hk)"
   ]
  },
  {
   "cell_type": "code",
   "execution_count": 104,
   "id": "401e2ee2-02f0-4275-8a6f-5588f04cca29",
   "metadata": {},
   "outputs": [
    {
     "data": {
      "text/plain": [
       "Index(['mssv', 'hocky', 'namhoc', 'dtbhk', 'sotchk'], dtype='object')"
      ]
     },
     "execution_count": 104,
     "metadata": {},
     "output_type": "execute_result"
    }
   ],
   "source": [
    "diemtb_hk.columns"
   ]
  },
  {
   "cell_type": "code",
   "execution_count": 105,
   "id": "76082f1b-93a2-4250-a819-b8110ad9c8b1",
   "metadata": {},
   "outputs": [],
   "source": [
    "# lấy 5 học kỳ đầu\n",
    "diemtb_hk = pivot_top_5_semesters_diemtb_hk(diemtb_hk)"
   ]
  },
  {
   "cell_type": "code",
   "execution_count": 106,
   "id": "eaf302fc-ed2f-4f21-b0fa-e441439936fe",
   "metadata": {},
   "outputs": [
    {
     "data": {
      "text/html": [
       "<div>\n",
       "<style scoped>\n",
       "    .dataframe tbody tr th:only-of-type {\n",
       "        vertical-align: middle;\n",
       "    }\n",
       "\n",
       "    .dataframe tbody tr th {\n",
       "        vertical-align: top;\n",
       "    }\n",
       "\n",
       "    .dataframe thead th {\n",
       "        text-align: right;\n",
       "    }\n",
       "</style>\n",
       "<table border=\"1\" class=\"dataframe\">\n",
       "  <thead>\n",
       "    <tr style=\"text-align: right;\">\n",
       "      <th></th>\n",
       "      <th>mssv</th>\n",
       "      <th>dtbhk_hk_1</th>\n",
       "      <th>dtbhk_hk_2</th>\n",
       "      <th>dtbhk_hk_3</th>\n",
       "      <th>dtbhk_hk_4</th>\n",
       "      <th>dtbhk_hk_5</th>\n",
       "      <th>sotchk_hk_1</th>\n",
       "      <th>sotchk_hk_2</th>\n",
       "      <th>sotchk_hk_3</th>\n",
       "      <th>sotchk_hk_4</th>\n",
       "      <th>sotchk_hk_5</th>\n",
       "    </tr>\n",
       "  </thead>\n",
       "  <tbody>\n",
       "    <tr>\n",
       "      <th>0</th>\n",
       "      <td>0000AC05XPvAibaEXe9B2tolTZ0JLoBGbkQixQS6</td>\n",
       "      <td>7.79</td>\n",
       "      <td>8.28</td>\n",
       "      <td>7.56</td>\n",
       "      <td>0.0</td>\n",
       "      <td>NaN</td>\n",
       "      <td>17</td>\n",
       "      <td>21</td>\n",
       "      <td>16</td>\n",
       "      <td>0</td>\n",
       "      <td>NaN</td>\n",
       "    </tr>\n",
       "    <tr>\n",
       "      <th>1</th>\n",
       "      <td>0001EB57XPvAibaEXe/twT+sf632fUXnsgPGeB4G</td>\n",
       "      <td>8.84</td>\n",
       "      <td>9.0</td>\n",
       "      <td>9.11</td>\n",
       "      <td>8.75</td>\n",
       "      <td>8.54</td>\n",
       "      <td>17</td>\n",
       "      <td>21</td>\n",
       "      <td>15</td>\n",
       "      <td>19</td>\n",
       "      <td>20</td>\n",
       "    </tr>\n",
       "    <tr>\n",
       "      <th>2</th>\n",
       "      <td>00046394XPvAibaEXe+fmxcqgvribEcT4YmJhSFD</td>\n",
       "      <td>5.41</td>\n",
       "      <td>7.07</td>\n",
       "      <td>7.75</td>\n",
       "      <td>6.36</td>\n",
       "      <td>8.32</td>\n",
       "      <td>22</td>\n",
       "      <td>15</td>\n",
       "      <td>6</td>\n",
       "      <td>25</td>\n",
       "      <td>16</td>\n",
       "    </tr>\n",
       "    <tr>\n",
       "      <th>3</th>\n",
       "      <td>0006A0BBXPvAibaEXe/lMOwHQdw54DgUkWaqwb1u</td>\n",
       "      <td>7.27</td>\n",
       "      <td>NaN</td>\n",
       "      <td>NaN</td>\n",
       "      <td>NaN</td>\n",
       "      <td>NaN</td>\n",
       "      <td>14</td>\n",
       "      <td>NaN</td>\n",
       "      <td>NaN</td>\n",
       "      <td>NaN</td>\n",
       "      <td>NaN</td>\n",
       "    </tr>\n",
       "    <tr>\n",
       "      <th>4</th>\n",
       "      <td>000AD0D8XPvAibaEXe+RQyZpP6sq6qqIPZXybx3Q</td>\n",
       "      <td>8.85</td>\n",
       "      <td>8.64</td>\n",
       "      <td>8.41</td>\n",
       "      <td>8.05</td>\n",
       "      <td>7.46</td>\n",
       "      <td>17</td>\n",
       "      <td>20</td>\n",
       "      <td>15</td>\n",
       "      <td>20</td>\n",
       "      <td>20</td>\n",
       "    </tr>\n",
       "    <tr>\n",
       "      <th>...</th>\n",
       "      <td>...</td>\n",
       "      <td>...</td>\n",
       "      <td>...</td>\n",
       "      <td>...</td>\n",
       "      <td>...</td>\n",
       "      <td>...</td>\n",
       "      <td>...</td>\n",
       "      <td>...</td>\n",
       "      <td>...</td>\n",
       "      <td>...</td>\n",
       "      <td>...</td>\n",
       "    </tr>\n",
       "    <tr>\n",
       "      <th>13603</th>\n",
       "      <td>FFE53E27XPvAibaEXe+boSxJoV2lkIPm7Byt5HdS</td>\n",
       "      <td>9.13</td>\n",
       "      <td>7.84</td>\n",
       "      <td>7.39</td>\n",
       "      <td>7.68</td>\n",
       "      <td>7.94</td>\n",
       "      <td>16</td>\n",
       "      <td>19</td>\n",
       "      <td>21</td>\n",
       "      <td>19</td>\n",
       "      <td>20</td>\n",
       "    </tr>\n",
       "    <tr>\n",
       "      <th>13604</th>\n",
       "      <td>FFE9E452XPvAibaEXe+6MN9FoW2mqXtx1lMTF9+D</td>\n",
       "      <td>8.25</td>\n",
       "      <td>8.1</td>\n",
       "      <td>8.38</td>\n",
       "      <td>8.21</td>\n",
       "      <td>7.5</td>\n",
       "      <td>22</td>\n",
       "      <td>21</td>\n",
       "      <td>24</td>\n",
       "      <td>18</td>\n",
       "      <td>15</td>\n",
       "    </tr>\n",
       "    <tr>\n",
       "      <th>13605</th>\n",
       "      <td>FFEF294AXPvAibaEXe/ceziXFRXnLc/x/K0hVw4d</td>\n",
       "      <td>4.64</td>\n",
       "      <td>6.76</td>\n",
       "      <td>8.6</td>\n",
       "      <td>6.51</td>\n",
       "      <td>7.28</td>\n",
       "      <td>20</td>\n",
       "      <td>20</td>\n",
       "      <td>3</td>\n",
       "      <td>17</td>\n",
       "      <td>18</td>\n",
       "    </tr>\n",
       "    <tr>\n",
       "      <th>13606</th>\n",
       "      <td>FFF4CD57XPvAibaEXe/z8kRiyNmKNla425pm0Qmc</td>\n",
       "      <td>7.73</td>\n",
       "      <td>7.65</td>\n",
       "      <td>7.45</td>\n",
       "      <td>NaN</td>\n",
       "      <td>NaN</td>\n",
       "      <td>22</td>\n",
       "      <td>20</td>\n",
       "      <td>19</td>\n",
       "      <td>NaN</td>\n",
       "      <td>NaN</td>\n",
       "    </tr>\n",
       "    <tr>\n",
       "      <th>13607</th>\n",
       "      <td>FFFA4234XPvAibaEXe+OhmjSj4XEzdTGgcTdT9fT</td>\n",
       "      <td>7.52</td>\n",
       "      <td>6.84</td>\n",
       "      <td>7.49</td>\n",
       "      <td>7.86</td>\n",
       "      <td>7.0</td>\n",
       "      <td>19</td>\n",
       "      <td>21</td>\n",
       "      <td>21</td>\n",
       "      <td>19</td>\n",
       "      <td>4</td>\n",
       "    </tr>\n",
       "  </tbody>\n",
       "</table>\n",
       "<p>13608 rows × 11 columns</p>\n",
       "</div>"
      ],
      "text/plain": [
       "                                           mssv dtbhk_hk_1 dtbhk_hk_2  \\\n",
       "0      0000AC05XPvAibaEXe9B2tolTZ0JLoBGbkQixQS6       7.79       8.28   \n",
       "1      0001EB57XPvAibaEXe/twT+sf632fUXnsgPGeB4G       8.84        9.0   \n",
       "2      00046394XPvAibaEXe+fmxcqgvribEcT4YmJhSFD       5.41       7.07   \n",
       "3      0006A0BBXPvAibaEXe/lMOwHQdw54DgUkWaqwb1u       7.27        NaN   \n",
       "4      000AD0D8XPvAibaEXe+RQyZpP6sq6qqIPZXybx3Q       8.85       8.64   \n",
       "...                                         ...        ...        ...   \n",
       "13603  FFE53E27XPvAibaEXe+boSxJoV2lkIPm7Byt5HdS       9.13       7.84   \n",
       "13604  FFE9E452XPvAibaEXe+6MN9FoW2mqXtx1lMTF9+D       8.25        8.1   \n",
       "13605  FFEF294AXPvAibaEXe/ceziXFRXnLc/x/K0hVw4d       4.64       6.76   \n",
       "13606  FFF4CD57XPvAibaEXe/z8kRiyNmKNla425pm0Qmc       7.73       7.65   \n",
       "13607  FFFA4234XPvAibaEXe+OhmjSj4XEzdTGgcTdT9fT       7.52       6.84   \n",
       "\n",
       "      dtbhk_hk_3 dtbhk_hk_4 dtbhk_hk_5 sotchk_hk_1 sotchk_hk_2 sotchk_hk_3  \\\n",
       "0           7.56        0.0        NaN          17          21          16   \n",
       "1           9.11       8.75       8.54          17          21          15   \n",
       "2           7.75       6.36       8.32          22          15           6   \n",
       "3            NaN        NaN        NaN          14         NaN         NaN   \n",
       "4           8.41       8.05       7.46          17          20          15   \n",
       "...          ...        ...        ...         ...         ...         ...   \n",
       "13603       7.39       7.68       7.94          16          19          21   \n",
       "13604       8.38       8.21        7.5          22          21          24   \n",
       "13605        8.6       6.51       7.28          20          20           3   \n",
       "13606       7.45        NaN        NaN          22          20          19   \n",
       "13607       7.49       7.86        7.0          19          21          21   \n",
       "\n",
       "      sotchk_hk_4 sotchk_hk_5  \n",
       "0               0         NaN  \n",
       "1              19          20  \n",
       "2              25          16  \n",
       "3             NaN         NaN  \n",
       "4              20          20  \n",
       "...           ...         ...  \n",
       "13603          19          20  \n",
       "13604          18          15  \n",
       "13605          17          18  \n",
       "13606         NaN         NaN  \n",
       "13607          19           4  \n",
       "\n",
       "[13608 rows x 11 columns]"
      ]
     },
     "execution_count": 106,
     "metadata": {},
     "output_type": "execute_result"
    }
   ],
   "source": [
    "diemtb_hk"
   ]
  },
  {
   "cell_type": "markdown",
   "id": "ae34134a-8f66-4491-9638-a44d7bb7c1ce",
   "metadata": {},
   "source": [
    "# 7 Xử lý học vụ"
   ]
  },
  {
   "cell_type": "code",
   "execution_count": 121,
   "id": "b75a2401-c0fd-4c38-9ecf-0fd3c40e7a9f",
   "metadata": {},
   "outputs": [
    {
     "name": "stderr",
     "output_type": "stream",
     "text": [
      "C:\\Users\\anhthy\\AppData\\Local\\Temp\\ipykernel_10644\\2883437664.py:20: FutureWarning: DataFrame.applymap has been deprecated. Use DataFrame.map instead.\n",
      "  df = df.applymap(lambda x: x.strip())\n"
     ]
    }
   ],
   "source": [
    "xlhv = pd.read_excel('Education_dataset_V2/08.XLHV.xlsx')\n",
    "xlhv = clean_dataframe(xlhv)"
   ]
  },
  {
   "cell_type": "code",
   "execution_count": 122,
   "id": "4a9b0e37-8db9-434e-968d-93cc658ec092",
   "metadata": {},
   "outputs": [
    {
     "data": {
      "text/plain": [
       "Index(['id', 'mssv', 'tinhtrang', 'lydo', 'hocky', 'namhoc', 'soqd', 'ngayqd',\n",
       "       'Column1'],\n",
       "      dtype='object')"
      ]
     },
     "execution_count": 122,
     "metadata": {},
     "output_type": "execute_result"
    }
   ],
   "source": [
    "xlhv.columns"
   ]
  },
  {
   "cell_type": "code",
   "execution_count": 123,
   "id": "45c198d1-a2a9-43ec-8686-dbecca9a1257",
   "metadata": {},
   "outputs": [
    {
     "name": "stderr",
     "output_type": "stream",
     "text": [
      "C:\\Users\\anhthy\\AppData\\Local\\Temp\\ipykernel_10644\\3450396343.py:2: UserWarning: Parsing dates in %Y-%m-%d %H:%M:%S format when dayfirst=True was specified. Pass `dayfirst=False` or specify a format to silence this warning.\n",
      "  xlhv['ngayqd'] = pd.to_datetime(xlhv['ngayqd'], errors='coerce', dayfirst=True)\n"
     ]
    }
   ],
   "source": [
    "# Vì định dạng ngày có thể không nhất quán, dùng hàm để tự động thay thế\n",
    "xlhv['ngayqd'] = pd.to_datetime(xlhv['ngayqd'], errors='coerce', dayfirst=True)\n",
    "xlhv['ngayqd'] = xlhv['ngayqd'].dt.strftime('%d/%m/%Y')"
   ]
  },
  {
   "cell_type": "code",
   "execution_count": 124,
   "id": "32c36012-dcfa-4461-b28b-9922aef1f1d7",
   "metadata": {},
   "outputs": [
    {
     "data": {
      "text/html": [
       "<div>\n",
       "<style scoped>\n",
       "    .dataframe tbody tr th:only-of-type {\n",
       "        vertical-align: middle;\n",
       "    }\n",
       "\n",
       "    .dataframe tbody tr th {\n",
       "        vertical-align: top;\n",
       "    }\n",
       "\n",
       "    .dataframe thead th {\n",
       "        text-align: right;\n",
       "    }\n",
       "</style>\n",
       "<table border=\"1\" class=\"dataframe\">\n",
       "  <thead>\n",
       "    <tr style=\"text-align: right;\">\n",
       "      <th></th>\n",
       "      <th>id</th>\n",
       "      <th>mssv</th>\n",
       "      <th>tinhtrang</th>\n",
       "      <th>lydo</th>\n",
       "      <th>hocky</th>\n",
       "      <th>namhoc</th>\n",
       "      <th>soqd</th>\n",
       "      <th>ngayqd</th>\n",
       "      <th>Column1</th>\n",
       "    </tr>\n",
       "  </thead>\n",
       "  <tbody>\n",
       "    <tr>\n",
       "      <th>0</th>\n",
       "      <td>9683</td>\n",
       "      <td>B2816B7BXPvAibaEXe/YKN5ysyYL7MS3vlfPnRU+</td>\n",
       "      <td>8</td>\n",
       "      <td>BTH được Hội đồng xem xét chuyển tự do</td>\n",
       "      <td>2.0</td>\n",
       "      <td>2017</td>\n",
       "      <td>180/QĐ-ĐHCNTT</td>\n",
       "      <td>29/03/2018</td>\n",
       "      <td>nan</td>\n",
       "    </tr>\n",
       "    <tr>\n",
       "      <th>1</th>\n",
       "      <td>9693</td>\n",
       "      <td>37E9895DXPvAibaEXe9E+KuE/nFliak6/YMItssI</td>\n",
       "      <td>8</td>\n",
       "      <td>BTH được Hội đồng xem xét chuyển tự do</td>\n",
       "      <td>2.0</td>\n",
       "      <td>2017</td>\n",
       "      <td>180/QĐ-ĐHCNTT</td>\n",
       "      <td>29/03/2018</td>\n",
       "      <td>nan</td>\n",
       "    </tr>\n",
       "    <tr>\n",
       "      <th>2</th>\n",
       "      <td>9694</td>\n",
       "      <td>F885079BXPvAibaEXe/HrmBtV6rChoted20VCh1b</td>\n",
       "      <td>8</td>\n",
       "      <td>BTH được Hội đồng xem xét chuyển tự do</td>\n",
       "      <td>2.0</td>\n",
       "      <td>2017</td>\n",
       "      <td>180/QĐ-ĐHCNTT</td>\n",
       "      <td>29/03/2018</td>\n",
       "      <td>nan</td>\n",
       "    </tr>\n",
       "    <tr>\n",
       "      <th>3</th>\n",
       "      <td>9711</td>\n",
       "      <td>DA2B43CDXPvAibaEXe8s1xx8DWM0qrClPfmwG+Uv</td>\n",
       "      <td>8</td>\n",
       "      <td>BTH được Hội đồng xem xét chuyển tự do</td>\n",
       "      <td>2.0</td>\n",
       "      <td>2017</td>\n",
       "      <td>180/QĐ-ĐHCNTT</td>\n",
       "      <td>29/03/2018</td>\n",
       "      <td>nan</td>\n",
       "    </tr>\n",
       "    <tr>\n",
       "      <th>4</th>\n",
       "      <td>9712</td>\n",
       "      <td>AA033FC4XPvAibaEXe9upvU5DvuC9i0prnw+7l6w</td>\n",
       "      <td>8</td>\n",
       "      <td>BTH được Hội đồng xem xét chuyển tự do</td>\n",
       "      <td>2.0</td>\n",
       "      <td>2017</td>\n",
       "      <td>180/QĐ-ĐHCNTT</td>\n",
       "      <td>29/03/2018</td>\n",
       "      <td>nan</td>\n",
       "    </tr>\n",
       "    <tr>\n",
       "      <th>...</th>\n",
       "      <td>...</td>\n",
       "      <td>...</td>\n",
       "      <td>...</td>\n",
       "      <td>...</td>\n",
       "      <td>...</td>\n",
       "      <td>...</td>\n",
       "      <td>...</td>\n",
       "      <td>...</td>\n",
       "      <td>...</td>\n",
       "    </tr>\n",
       "    <tr>\n",
       "      <th>3440</th>\n",
       "      <td>21152</td>\n",
       "      <td>73283126XPvAibaEXe+tSA7t7USLJyr+4JQyh/zi</td>\n",
       "      <td>2</td>\n",
       "      <td>'Bị cảnh báo vì Điểm trung bình học kỳ 1 &lt; 3'</td>\n",
       "      <td>2.0</td>\n",
       "      <td>2020</td>\n",
       "      <td>'245/QĐ-ĐHCNTT'</td>\n",
       "      <td>NaN</td>\n",
       "      <td>nan</td>\n",
       "    </tr>\n",
       "    <tr>\n",
       "      <th>3441</th>\n",
       "      <td>21153</td>\n",
       "      <td>D6F8D120XPvAibaEXe8jwcgah0IjmlZkieUL7FU5</td>\n",
       "      <td>2</td>\n",
       "      <td>'Bị cảnh báo vì Điểm trung bình học kỳ 1 &lt; 3'</td>\n",
       "      <td>2.0</td>\n",
       "      <td>2020</td>\n",
       "      <td>'245/QĐ-ĐHCNTT'</td>\n",
       "      <td>NaN</td>\n",
       "      <td>nan</td>\n",
       "    </tr>\n",
       "    <tr>\n",
       "      <th>3442</th>\n",
       "      <td>21154</td>\n",
       "      <td>6A128B00XPvAibaEXe8eBN4YWA8YUzFseWY1dhcO</td>\n",
       "      <td>2</td>\n",
       "      <td>'Bị cảnh báo vì Điểm trung bình 2 học kỳ liên ...</td>\n",
       "      <td>2.0</td>\n",
       "      <td>2020</td>\n",
       "      <td>'245/QĐ-ĐHCNTT'</td>\n",
       "      <td>NaN</td>\n",
       "      <td>nan</td>\n",
       "    </tr>\n",
       "    <tr>\n",
       "      <th>3443</th>\n",
       "      <td>21155</td>\n",
       "      <td>0850B0F9XPvAibaEXe/twT+sf632fdDzR/0GA7ku</td>\n",
       "      <td>2</td>\n",
       "      <td>'Bị cảnh báo vì Điểm trung bình 2 học kỳ liên ...</td>\n",
       "      <td>2.0</td>\n",
       "      <td>2020</td>\n",
       "      <td>'245/QĐ-ĐHCNTT'</td>\n",
       "      <td>NaN</td>\n",
       "      <td>nan</td>\n",
       "    </tr>\n",
       "    <tr>\n",
       "      <th>3444</th>\n",
       "      <td>21156</td>\n",
       "      <td>889FC773XPvAibaEXe/+5dmtHXoxmvDEWu0+1HyL</td>\n",
       "      <td>2</td>\n",
       "      <td>'Bị cảnh báo vì Điểm trung bình học kỳ 1 &lt; 3'</td>\n",
       "      <td>2.0</td>\n",
       "      <td>2020</td>\n",
       "      <td>'245/QĐ-ĐHCNTT'</td>\n",
       "      <td>NaN</td>\n",
       "      <td>nan</td>\n",
       "    </tr>\n",
       "  </tbody>\n",
       "</table>\n",
       "<p>3445 rows × 9 columns</p>\n",
       "</div>"
      ],
      "text/plain": [
       "         id                                      mssv tinhtrang  \\\n",
       "0      9683  B2816B7BXPvAibaEXe/YKN5ysyYL7MS3vlfPnRU+         8   \n",
       "1      9693  37E9895DXPvAibaEXe9E+KuE/nFliak6/YMItssI         8   \n",
       "2      9694  F885079BXPvAibaEXe/HrmBtV6rChoted20VCh1b         8   \n",
       "3      9711  DA2B43CDXPvAibaEXe8s1xx8DWM0qrClPfmwG+Uv         8   \n",
       "4      9712  AA033FC4XPvAibaEXe9upvU5DvuC9i0prnw+7l6w         8   \n",
       "...     ...                                       ...       ...   \n",
       "3440  21152  73283126XPvAibaEXe+tSA7t7USLJyr+4JQyh/zi         2   \n",
       "3441  21153  D6F8D120XPvAibaEXe8jwcgah0IjmlZkieUL7FU5         2   \n",
       "3442  21154  6A128B00XPvAibaEXe8eBN4YWA8YUzFseWY1dhcO         2   \n",
       "3443  21155  0850B0F9XPvAibaEXe/twT+sf632fdDzR/0GA7ku         2   \n",
       "3444  21156  889FC773XPvAibaEXe/+5dmtHXoxmvDEWu0+1HyL         2   \n",
       "\n",
       "                                                   lydo hocky namhoc  \\\n",
       "0                BTH được Hội đồng xem xét chuyển tự do   2.0   2017   \n",
       "1                BTH được Hội đồng xem xét chuyển tự do   2.0   2017   \n",
       "2                BTH được Hội đồng xem xét chuyển tự do   2.0   2017   \n",
       "3                BTH được Hội đồng xem xét chuyển tự do   2.0   2017   \n",
       "4                BTH được Hội đồng xem xét chuyển tự do   2.0   2017   \n",
       "...                                                 ...   ...    ...   \n",
       "3440      'Bị cảnh báo vì Điểm trung bình học kỳ 1 < 3'   2.0   2020   \n",
       "3441      'Bị cảnh báo vì Điểm trung bình học kỳ 1 < 3'   2.0   2020   \n",
       "3442  'Bị cảnh báo vì Điểm trung bình 2 học kỳ liên ...   2.0   2020   \n",
       "3443  'Bị cảnh báo vì Điểm trung bình 2 học kỳ liên ...   2.0   2020   \n",
       "3444      'Bị cảnh báo vì Điểm trung bình học kỳ 1 < 3'   2.0   2020   \n",
       "\n",
       "                 soqd      ngayqd Column1  \n",
       "0       180/QĐ-ĐHCNTT  29/03/2018     nan  \n",
       "1       180/QĐ-ĐHCNTT  29/03/2018     nan  \n",
       "2       180/QĐ-ĐHCNTT  29/03/2018     nan  \n",
       "3       180/QĐ-ĐHCNTT  29/03/2018     nan  \n",
       "4       180/QĐ-ĐHCNTT  29/03/2018     nan  \n",
       "...               ...         ...     ...  \n",
       "3440  '245/QĐ-ĐHCNTT'         NaN     nan  \n",
       "3441  '245/QĐ-ĐHCNTT'         NaN     nan  \n",
       "3442  '245/QĐ-ĐHCNTT'         NaN     nan  \n",
       "3443  '245/QĐ-ĐHCNTT'         NaN     nan  \n",
       "3444  '245/QĐ-ĐHCNTT'         NaN     nan  \n",
       "\n",
       "[3445 rows x 9 columns]"
      ]
     },
     "execution_count": 124,
     "metadata": {},
     "output_type": "execute_result"
    }
   ],
   "source": [
    "xlhv"
   ]
  },
  {
   "cell_type": "code",
   "execution_count": 125,
   "id": "7bd99e8f-821d-4681-a76e-b049edde5697",
   "metadata": {},
   "outputs": [],
   "source": [
    "xlhv = xlhv[['id', 'mssv', 'tinhtrang', 'lydo', 'hocky', 'namhoc']]"
   ]
  },
  {
   "cell_type": "markdown",
   "id": "cc8fa773-b1ec-4365-84b6-a01c9a77095a",
   "metadata": {},
   "source": [
    "# Bước 3: tạo bảng fact"
   ]
  },
  {
   "cell_type": "code",
   "execution_count": 126,
   "id": "e65ad086-fe63-4251-b138-df1a697dcd3d",
   "metadata": {},
   "outputs": [],
   "source": [
    "fact = None"
   ]
  },
  {
   "cell_type": "code",
   "execution_count": 127,
   "id": "b8f7411a-24fc-4040-b7fe-9fbb16cbc4b4",
   "metadata": {},
   "outputs": [
    {
     "data": {
      "text/html": [
       "<div>\n",
       "<style scoped>\n",
       "    .dataframe tbody tr th:only-of-type {\n",
       "        vertical-align: middle;\n",
       "    }\n",
       "\n",
       "    .dataframe tbody tr th {\n",
       "        vertical-align: top;\n",
       "    }\n",
       "\n",
       "    .dataframe thead th {\n",
       "        text-align: right;\n",
       "    }\n",
       "</style>\n",
       "<table border=\"1\" class=\"dataframe\">\n",
       "  <thead>\n",
       "    <tr style=\"text-align: right;\">\n",
       "      <th></th>\n",
       "      <th>mssv</th>\n",
       "      <th>xeploai</th>\n",
       "      <th>ngaycapvb</th>\n",
       "    </tr>\n",
       "  </thead>\n",
       "  <tbody>\n",
       "    <tr>\n",
       "      <th>0</th>\n",
       "      <td>E95E7C6DXPvAibaEXe+1j/AqdkpM22DHf6P99fDJ</td>\n",
       "      <td>Khá</td>\n",
       "      <td>14/04/2017</td>\n",
       "    </tr>\n",
       "    <tr>\n",
       "      <th>1</th>\n",
       "      <td>D0FE4969XPvAibaEXe/yXiKgsgy0slCmJ5EKt6Ki</td>\n",
       "      <td>Giỏi</td>\n",
       "      <td>06/10/2017</td>\n",
       "    </tr>\n",
       "    <tr>\n",
       "      <th>2</th>\n",
       "      <td>40F7E8D0XPvAibaEXe+nZBq3b0XEhfcwXLmoc4Pj</td>\n",
       "      <td>Giỏi</td>\n",
       "      <td>06/10/2017</td>\n",
       "    </tr>\n",
       "    <tr>\n",
       "      <th>3</th>\n",
       "      <td>0A049F45XPvAibaEXe9CtFSNMbfIz9qE7i0Fu4My</td>\n",
       "      <td>Khá</td>\n",
       "      <td>06/10/2017</td>\n",
       "    </tr>\n",
       "    <tr>\n",
       "      <th>4</th>\n",
       "      <td>7A7166DAXPvAibaEXe83V/kFvw2bBZ0o/KVHZc30</td>\n",
       "      <td>Khá</td>\n",
       "      <td>06/10/2017</td>\n",
       "    </tr>\n",
       "    <tr>\n",
       "      <th>...</th>\n",
       "      <td>...</td>\n",
       "      <td>...</td>\n",
       "      <td>...</td>\n",
       "    </tr>\n",
       "    <tr>\n",
       "      <th>1841</th>\n",
       "      <td>7F3EA9C6XPvAibaEXe9kJ+qYUUrp68Mnh6IGKbmi</td>\n",
       "      <td>Khá</td>\n",
       "      <td>09/06/2021</td>\n",
       "    </tr>\n",
       "    <tr>\n",
       "      <th>1842</th>\n",
       "      <td>A2698E63XPvAibaEXe+D5C9Re7EGLdYoD7VxJkyw</td>\n",
       "      <td>Khá</td>\n",
       "      <td>09/06/2021</td>\n",
       "    </tr>\n",
       "    <tr>\n",
       "      <th>1843</th>\n",
       "      <td>B44C3B36XPvAibaEXe/ns/wSuHF6kEcjw3s5q9gL</td>\n",
       "      <td>Khá</td>\n",
       "      <td>09/06/2021</td>\n",
       "    </tr>\n",
       "    <tr>\n",
       "      <th>1844</th>\n",
       "      <td>175475BBXPvAibaEXe8dBqMaN7rGhkux+ZR35bi9</td>\n",
       "      <td>Khá</td>\n",
       "      <td>09/06/2021</td>\n",
       "    </tr>\n",
       "    <tr>\n",
       "      <th>1845</th>\n",
       "      <td>94A79F45XPvAibaEXe+dJypLAXKUXx9tmvinQDNg</td>\n",
       "      <td>Khá</td>\n",
       "      <td>09/06/2021</td>\n",
       "    </tr>\n",
       "  </tbody>\n",
       "</table>\n",
       "<p>1841 rows × 3 columns</p>\n",
       "</div>"
      ],
      "text/plain": [
       "                                          mssv xeploai   ngaycapvb\n",
       "0     E95E7C6DXPvAibaEXe+1j/AqdkpM22DHf6P99fDJ     Khá  14/04/2017\n",
       "1     D0FE4969XPvAibaEXe/yXiKgsgy0slCmJ5EKt6Ki    Giỏi  06/10/2017\n",
       "2     40F7E8D0XPvAibaEXe+nZBq3b0XEhfcwXLmoc4Pj    Giỏi  06/10/2017\n",
       "3     0A049F45XPvAibaEXe9CtFSNMbfIz9qE7i0Fu4My     Khá  06/10/2017\n",
       "4     7A7166DAXPvAibaEXe83V/kFvw2bBZ0o/KVHZc30     Khá  06/10/2017\n",
       "...                                        ...     ...         ...\n",
       "1841  7F3EA9C6XPvAibaEXe9kJ+qYUUrp68Mnh6IGKbmi     Khá  09/06/2021\n",
       "1842  A2698E63XPvAibaEXe+D5C9Re7EGLdYoD7VxJkyw     Khá  09/06/2021\n",
       "1843  B44C3B36XPvAibaEXe/ns/wSuHF6kEcjw3s5q9gL     Khá  09/06/2021\n",
       "1844  175475BBXPvAibaEXe8dBqMaN7rGhkux+ZR35bi9     Khá  09/06/2021\n",
       "1845  94A79F45XPvAibaEXe+dJypLAXKUXx9tmvinQDNg     Khá  09/06/2021\n",
       "\n",
       "[1841 rows x 3 columns]"
      ]
     },
     "execution_count": 127,
     "metadata": {},
     "output_type": "execute_result"
    }
   ],
   "source": [
    "totnghiep"
   ]
  },
  {
   "cell_type": "code",
   "execution_count": 128,
   "id": "8507e197-a2b6-4a15-8daf-6d2be4a9cd0f",
   "metadata": {},
   "outputs": [],
   "source": [
    "#  Bảng XLHV chỉ lấy được các sinh viên không tốt nghiệp được và gánh là khong tốt nghiệp\n",
    "# trong bảng xlhv lấy các sinh viên có tình trạng là 5 7 8 tức không hoàn thành chương trình để tốt nghiệp\n",
    "xlhv = xlhv[(xlhv['tinhtrang'] == 5) | (xlhv['tinhtrang'] == 7) | (xlhv['tinhtrang'] == 8)]\n",
    "\n",
    "# Gán giá tất cả thành không được tốt nghiệp\n",
    "xlhv['tinhtrang'] = \"Không tốt nghiệp\"\n",
    "\n",
    "# Đổi tên tinhtrang thành xeploai và ngayqd thành ngaycapvb (sẽ đổi tên trong bảng fact sau) để ghép với bảng totnghiep\n",
    "xlhv = xlhv.rename(columns={'tinhtrang': 'xeploai', 'ngayqd': 'ngaycapvb'})"
   ]
  },
  {
   "cell_type": "code",
   "execution_count": 129,
   "id": "25455841-f505-4fb0-9565-b381462646b7",
   "metadata": {},
   "outputs": [
    {
     "data": {
      "text/plain": [
       "Index(['id', 'mssv', 'xeploai', 'lydo', 'hocky', 'namhoc'], dtype='object')"
      ]
     },
     "execution_count": 129,
     "metadata": {},
     "output_type": "execute_result"
    }
   ],
   "source": [
    "xlhv.columns"
   ]
  },
  {
   "cell_type": "code",
   "execution_count": 132,
   "id": "f31ea73a-b312-4ea6-be9e-cff3c99c71c3",
   "metadata": {},
   "outputs": [],
   "source": [
    "# lấy các cột có giá trị\n",
    "xlhv = xlhv[['mssv', 'xeploai']]"
   ]
  },
  {
   "cell_type": "code",
   "execution_count": 133,
   "id": "a4a6abd0-03e8-4f93-b485-0c018f190965",
   "metadata": {},
   "outputs": [
    {
     "data": {
      "text/plain": [
       "mssv       0\n",
       "xeploai    0\n",
       "dtype: int64"
      ]
     },
     "execution_count": 133,
     "metadata": {},
     "output_type": "execute_result"
    }
   ],
   "source": [
    "xlhv.isna().sum()"
   ]
  },
  {
   "cell_type": "code",
   "execution_count": 134,
   "id": "8bbf4f9a-e514-4ba8-b1f3-7cf607b3e7ce",
   "metadata": {},
   "outputs": [],
   "source": [
    "xlhv = xlhv.dropna()"
   ]
  },
  {
   "cell_type": "code",
   "execution_count": 135,
   "id": "23da0416-716f-49ce-ac07-137ee0960779",
   "metadata": {},
   "outputs": [],
   "source": [
    "fact = pd.concat([totnghiep, xlhv], ignore_index=True)"
   ]
  },
  {
   "cell_type": "code",
   "execution_count": 136,
   "id": "387cb5b1-99e3-4290-8b43-ebc1946422cf",
   "metadata": {},
   "outputs": [
    {
     "data": {
      "text/html": [
       "<div>\n",
       "<style scoped>\n",
       "    .dataframe tbody tr th:only-of-type {\n",
       "        vertical-align: middle;\n",
       "    }\n",
       "\n",
       "    .dataframe tbody tr th {\n",
       "        vertical-align: top;\n",
       "    }\n",
       "\n",
       "    .dataframe thead th {\n",
       "        text-align: right;\n",
       "    }\n",
       "</style>\n",
       "<table border=\"1\" class=\"dataframe\">\n",
       "  <thead>\n",
       "    <tr style=\"text-align: right;\">\n",
       "      <th></th>\n",
       "      <th>mssv</th>\n",
       "      <th>xeploai</th>\n",
       "      <th>ngaycapvb</th>\n",
       "    </tr>\n",
       "  </thead>\n",
       "  <tbody>\n",
       "    <tr>\n",
       "      <th>0</th>\n",
       "      <td>E95E7C6DXPvAibaEXe+1j/AqdkpM22DHf6P99fDJ</td>\n",
       "      <td>Khá</td>\n",
       "      <td>14/04/2017</td>\n",
       "    </tr>\n",
       "    <tr>\n",
       "      <th>1</th>\n",
       "      <td>D0FE4969XPvAibaEXe/yXiKgsgy0slCmJ5EKt6Ki</td>\n",
       "      <td>Giỏi</td>\n",
       "      <td>06/10/2017</td>\n",
       "    </tr>\n",
       "    <tr>\n",
       "      <th>2</th>\n",
       "      <td>40F7E8D0XPvAibaEXe+nZBq3b0XEhfcwXLmoc4Pj</td>\n",
       "      <td>Giỏi</td>\n",
       "      <td>06/10/2017</td>\n",
       "    </tr>\n",
       "    <tr>\n",
       "      <th>3</th>\n",
       "      <td>0A049F45XPvAibaEXe9CtFSNMbfIz9qE7i0Fu4My</td>\n",
       "      <td>Khá</td>\n",
       "      <td>06/10/2017</td>\n",
       "    </tr>\n",
       "    <tr>\n",
       "      <th>4</th>\n",
       "      <td>7A7166DAXPvAibaEXe83V/kFvw2bBZ0o/KVHZc30</td>\n",
       "      <td>Khá</td>\n",
       "      <td>06/10/2017</td>\n",
       "    </tr>\n",
       "    <tr>\n",
       "      <th>...</th>\n",
       "      <td>...</td>\n",
       "      <td>...</td>\n",
       "      <td>...</td>\n",
       "    </tr>\n",
       "    <tr>\n",
       "      <th>1836</th>\n",
       "      <td>7F3EA9C6XPvAibaEXe9kJ+qYUUrp68Mnh6IGKbmi</td>\n",
       "      <td>Khá</td>\n",
       "      <td>09/06/2021</td>\n",
       "    </tr>\n",
       "    <tr>\n",
       "      <th>1837</th>\n",
       "      <td>A2698E63XPvAibaEXe+D5C9Re7EGLdYoD7VxJkyw</td>\n",
       "      <td>Khá</td>\n",
       "      <td>09/06/2021</td>\n",
       "    </tr>\n",
       "    <tr>\n",
       "      <th>1838</th>\n",
       "      <td>B44C3B36XPvAibaEXe/ns/wSuHF6kEcjw3s5q9gL</td>\n",
       "      <td>Khá</td>\n",
       "      <td>09/06/2021</td>\n",
       "    </tr>\n",
       "    <tr>\n",
       "      <th>1839</th>\n",
       "      <td>175475BBXPvAibaEXe8dBqMaN7rGhkux+ZR35bi9</td>\n",
       "      <td>Khá</td>\n",
       "      <td>09/06/2021</td>\n",
       "    </tr>\n",
       "    <tr>\n",
       "      <th>1840</th>\n",
       "      <td>94A79F45XPvAibaEXe+dJypLAXKUXx9tmvinQDNg</td>\n",
       "      <td>Khá</td>\n",
       "      <td>09/06/2021</td>\n",
       "    </tr>\n",
       "  </tbody>\n",
       "</table>\n",
       "<p>1841 rows × 3 columns</p>\n",
       "</div>"
      ],
      "text/plain": [
       "                                          mssv xeploai   ngaycapvb\n",
       "0     E95E7C6DXPvAibaEXe+1j/AqdkpM22DHf6P99fDJ     Khá  14/04/2017\n",
       "1     D0FE4969XPvAibaEXe/yXiKgsgy0slCmJ5EKt6Ki    Giỏi  06/10/2017\n",
       "2     40F7E8D0XPvAibaEXe+nZBq3b0XEhfcwXLmoc4Pj    Giỏi  06/10/2017\n",
       "3     0A049F45XPvAibaEXe9CtFSNMbfIz9qE7i0Fu4My     Khá  06/10/2017\n",
       "4     7A7166DAXPvAibaEXe83V/kFvw2bBZ0o/KVHZc30     Khá  06/10/2017\n",
       "...                                        ...     ...         ...\n",
       "1836  7F3EA9C6XPvAibaEXe9kJ+qYUUrp68Mnh6IGKbmi     Khá  09/06/2021\n",
       "1837  A2698E63XPvAibaEXe+D5C9Re7EGLdYoD7VxJkyw     Khá  09/06/2021\n",
       "1838  B44C3B36XPvAibaEXe/ns/wSuHF6kEcjw3s5q9gL     Khá  09/06/2021\n",
       "1839  175475BBXPvAibaEXe8dBqMaN7rGhkux+ZR35bi9     Khá  09/06/2021\n",
       "1840  94A79F45XPvAibaEXe+dJypLAXKUXx9tmvinQDNg     Khá  09/06/2021\n",
       "\n",
       "[1841 rows x 3 columns]"
      ]
     },
     "execution_count": 136,
     "metadata": {},
     "output_type": "execute_result"
    }
   ],
   "source": [
    "fact"
   ]
  },
  {
   "cell_type": "code",
   "execution_count": 137,
   "id": "5c97e24d-1c83-469f-8c2d-f7810c6e9965",
   "metadata": {},
   "outputs": [
    {
     "data": {
      "text/html": [
       "<div>\n",
       "<style scoped>\n",
       "    .dataframe tbody tr th:only-of-type {\n",
       "        vertical-align: middle;\n",
       "    }\n",
       "\n",
       "    .dataframe tbody tr th {\n",
       "        vertical-align: top;\n",
       "    }\n",
       "\n",
       "    .dataframe thead th {\n",
       "        text-align: right;\n",
       "    }\n",
       "</style>\n",
       "<table border=\"1\" class=\"dataframe\">\n",
       "  <thead>\n",
       "    <tr style=\"text-align: right;\">\n",
       "      <th></th>\n",
       "      <th>mssv</th>\n",
       "      <th>namsinh</th>\n",
       "      <th>noisinh</th>\n",
       "      <th>gioitinh</th>\n",
       "      <th>khoa</th>\n",
       "      <th>hedt</th>\n",
       "      <th>khoahoc</th>\n",
       "      <th>tinhtrang</th>\n",
       "    </tr>\n",
       "  </thead>\n",
       "  <tbody>\n",
       "    <tr>\n",
       "      <th>0</th>\n",
       "      <td>E37BF33CXPvAibaEXe9Y6XKwco8jyUy8xdOxIJZW</td>\n",
       "      <td>1999.0</td>\n",
       "      <td>Hải Dương</td>\n",
       "      <td>Nam</td>\n",
       "      <td>MMT&amp;TT</td>\n",
       "      <td>CQUI</td>\n",
       "      <td>12</td>\n",
       "      <td>5</td>\n",
       "    </tr>\n",
       "    <tr>\n",
       "      <th>1</th>\n",
       "      <td>B3024A0DXPvAibaEXe++B0JyCbXA1F/t+O6kpXJd</td>\n",
       "      <td>2001.0</td>\n",
       "      <td>Bình Phước</td>\n",
       "      <td>Nam</td>\n",
       "      <td>HTTT</td>\n",
       "      <td>CLC</td>\n",
       "      <td>14</td>\n",
       "      <td>5</td>\n",
       "    </tr>\n",
       "    <tr>\n",
       "      <th>2</th>\n",
       "      <td>0ACD9F7AXPvAibaEXe/K6d36/fqcEaBjFfA/Uaef</td>\n",
       "      <td>1994.0</td>\n",
       "      <td>Hồ Chí Minh</td>\n",
       "      <td>Nam</td>\n",
       "      <td>KHMT</td>\n",
       "      <td>CNTN</td>\n",
       "      <td>8</td>\n",
       "      <td>5</td>\n",
       "    </tr>\n",
       "    <tr>\n",
       "      <th>3</th>\n",
       "      <td>700E1725XPvAibaEXe+SbxsvF9MWxKMQLP/zEM+u</td>\n",
       "      <td>2001.0</td>\n",
       "      <td>An Giang</td>\n",
       "      <td>Nam</td>\n",
       "      <td>KHMT</td>\n",
       "      <td>CLC</td>\n",
       "      <td>14</td>\n",
       "      <td>1</td>\n",
       "    </tr>\n",
       "    <tr>\n",
       "      <th>4</th>\n",
       "      <td>2B578231XPvAibaEXe9RV3kg6cpLDAmMozUvJMwR</td>\n",
       "      <td>1997.0</td>\n",
       "      <td>Đồng Nai</td>\n",
       "      <td>Nữ</td>\n",
       "      <td>MMT&amp;TT</td>\n",
       "      <td>CQUI</td>\n",
       "      <td>10</td>\n",
       "      <td>5</td>\n",
       "    </tr>\n",
       "    <tr>\n",
       "      <th>...</th>\n",
       "      <td>...</td>\n",
       "      <td>...</td>\n",
       "      <td>...</td>\n",
       "      <td>...</td>\n",
       "      <td>...</td>\n",
       "      <td>...</td>\n",
       "      <td>...</td>\n",
       "      <td>...</td>\n",
       "    </tr>\n",
       "    <tr>\n",
       "      <th>8290</th>\n",
       "      <td>F3A59425XPvAibaEXe+A+6mRsShfH7Qo3qkfD/45</td>\n",
       "      <td>1997.0</td>\n",
       "      <td>Không xác định</td>\n",
       "      <td>Nam</td>\n",
       "      <td>CNPM</td>\n",
       "      <td>CLC</td>\n",
       "      <td>10</td>\n",
       "      <td>5</td>\n",
       "    </tr>\n",
       "    <tr>\n",
       "      <th>8291</th>\n",
       "      <td>1662E3E1XPvAibaEXe+1P/4gNbgreUA+MXxSOODq</td>\n",
       "      <td>1995.0</td>\n",
       "      <td>Không xác định</td>\n",
       "      <td>Nam</td>\n",
       "      <td>MMT&amp;TT</td>\n",
       "      <td>CQUI</td>\n",
       "      <td>8</td>\n",
       "      <td>5</td>\n",
       "    </tr>\n",
       "    <tr>\n",
       "      <th>8292</th>\n",
       "      <td>C285FDCBXPvAibaEXe9+dT4FRTt+QyRDiOdCvmCB</td>\n",
       "      <td>1996.0</td>\n",
       "      <td>Hồ Chí Minh</td>\n",
       "      <td>Nam</td>\n",
       "      <td>KTMT</td>\n",
       "      <td>CLC</td>\n",
       "      <td>10</td>\n",
       "      <td>1</td>\n",
       "    </tr>\n",
       "    <tr>\n",
       "      <th>8293</th>\n",
       "      <td>8F600222XPvAibaEXe+Xbs+mKMRabXIYU3IFhUBb</td>\n",
       "      <td>2000.0</td>\n",
       "      <td>Hồ Chí Minh</td>\n",
       "      <td>Nữ</td>\n",
       "      <td>KHMT</td>\n",
       "      <td>CQUI</td>\n",
       "      <td>13</td>\n",
       "      <td>1</td>\n",
       "    </tr>\n",
       "    <tr>\n",
       "      <th>8294</th>\n",
       "      <td>07ECA8C7XPvAibaEXe8VQgmAEjfeNoN76PCifDde</td>\n",
       "      <td>2000.0</td>\n",
       "      <td>Long An</td>\n",
       "      <td>Nam</td>\n",
       "      <td>MMT&amp;TT</td>\n",
       "      <td>CQUI</td>\n",
       "      <td>13</td>\n",
       "      <td>1</td>\n",
       "    </tr>\n",
       "  </tbody>\n",
       "</table>\n",
       "<p>8295 rows × 8 columns</p>\n",
       "</div>"
      ],
      "text/plain": [
       "                                          mssv namsinh         noisinh  \\\n",
       "0     E37BF33CXPvAibaEXe9Y6XKwco8jyUy8xdOxIJZW  1999.0       Hải Dương   \n",
       "1     B3024A0DXPvAibaEXe++B0JyCbXA1F/t+O6kpXJd  2001.0      Bình Phước   \n",
       "2     0ACD9F7AXPvAibaEXe/K6d36/fqcEaBjFfA/Uaef  1994.0     Hồ Chí Minh   \n",
       "3     700E1725XPvAibaEXe+SbxsvF9MWxKMQLP/zEM+u  2001.0        An Giang   \n",
       "4     2B578231XPvAibaEXe9RV3kg6cpLDAmMozUvJMwR  1997.0        Đồng Nai   \n",
       "...                                        ...     ...             ...   \n",
       "8290  F3A59425XPvAibaEXe+A+6mRsShfH7Qo3qkfD/45  1997.0  Không xác định   \n",
       "8291  1662E3E1XPvAibaEXe+1P/4gNbgreUA+MXxSOODq  1995.0  Không xác định   \n",
       "8292  C285FDCBXPvAibaEXe9+dT4FRTt+QyRDiOdCvmCB  1996.0     Hồ Chí Minh   \n",
       "8293  8F600222XPvAibaEXe+Xbs+mKMRabXIYU3IFhUBb  2000.0     Hồ Chí Minh   \n",
       "8294  07ECA8C7XPvAibaEXe8VQgmAEjfeNoN76PCifDde  2000.0         Long An   \n",
       "\n",
       "     gioitinh    khoa  hedt khoahoc tinhtrang  \n",
       "0         Nam  MMT&TT  CQUI      12         5  \n",
       "1         Nam    HTTT   CLC      14         5  \n",
       "2         Nam    KHMT  CNTN       8         5  \n",
       "3         Nam    KHMT   CLC      14         1  \n",
       "4          Nữ  MMT&TT  CQUI      10         5  \n",
       "...       ...     ...   ...     ...       ...  \n",
       "8290      Nam    CNPM   CLC      10         5  \n",
       "8291      Nam  MMT&TT  CQUI       8         5  \n",
       "8292      Nam    KTMT   CLC      10         1  \n",
       "8293       Nữ    KHMT  CQUI      13         1  \n",
       "8294      Nam  MMT&TT  CQUI      13         1  \n",
       "\n",
       "[8295 rows x 8 columns]"
      ]
     },
     "execution_count": 137,
     "metadata": {},
     "output_type": "execute_result"
    }
   ],
   "source": [
    "sinhvien"
   ]
  },
  {
   "cell_type": "code",
   "execution_count": 138,
   "id": "1406876b-30a9-4ad2-8429-7b1f8d050bb2",
   "metadata": {},
   "outputs": [],
   "source": [
    "# gộp bảng sinhvien vào fact\n",
    "fact = pd.merge(fact, sinhvien, how='left', on='mssv')"
   ]
  },
  {
   "cell_type": "code",
   "execution_count": 139,
   "id": "9ef45ff1-29e9-449a-b2f6-31822a6de267",
   "metadata": {},
   "outputs": [
    {
     "data": {
      "text/html": [
       "<div>\n",
       "<style scoped>\n",
       "    .dataframe tbody tr th:only-of-type {\n",
       "        vertical-align: middle;\n",
       "    }\n",
       "\n",
       "    .dataframe tbody tr th {\n",
       "        vertical-align: top;\n",
       "    }\n",
       "\n",
       "    .dataframe thead th {\n",
       "        text-align: right;\n",
       "    }\n",
       "</style>\n",
       "<table border=\"1\" class=\"dataframe\">\n",
       "  <thead>\n",
       "    <tr style=\"text-align: right;\">\n",
       "      <th></th>\n",
       "      <th>mssv</th>\n",
       "      <th>xeploai</th>\n",
       "      <th>ngaycapvb</th>\n",
       "      <th>namsinh</th>\n",
       "      <th>noisinh</th>\n",
       "      <th>gioitinh</th>\n",
       "      <th>khoa</th>\n",
       "      <th>hedt</th>\n",
       "      <th>khoahoc</th>\n",
       "      <th>tinhtrang</th>\n",
       "    </tr>\n",
       "  </thead>\n",
       "  <tbody>\n",
       "    <tr>\n",
       "      <th>0</th>\n",
       "      <td>E95E7C6DXPvAibaEXe+1j/AqdkpM22DHf6P99fDJ</td>\n",
       "      <td>Khá</td>\n",
       "      <td>14/04/2017</td>\n",
       "      <td>1994.0</td>\n",
       "      <td>Đồng Tháp</td>\n",
       "      <td>Nam</td>\n",
       "      <td>MMT&amp;TT</td>\n",
       "      <td>CQUI</td>\n",
       "      <td>8</td>\n",
       "      <td>3</td>\n",
       "    </tr>\n",
       "    <tr>\n",
       "      <th>1</th>\n",
       "      <td>D0FE4969XPvAibaEXe/yXiKgsgy0slCmJ5EKt6Ki</td>\n",
       "      <td>Giỏi</td>\n",
       "      <td>06/10/2017</td>\n",
       "      <td>1995.0</td>\n",
       "      <td>Phú Yên</td>\n",
       "      <td>Nam</td>\n",
       "      <td>KHMT</td>\n",
       "      <td>CQUI</td>\n",
       "      <td>8</td>\n",
       "      <td>3</td>\n",
       "    </tr>\n",
       "    <tr>\n",
       "      <th>2</th>\n",
       "      <td>40F7E8D0XPvAibaEXe+nZBq3b0XEhfcwXLmoc4Pj</td>\n",
       "      <td>Giỏi</td>\n",
       "      <td>06/10/2017</td>\n",
       "      <td>1995.0</td>\n",
       "      <td>Đồng Nai</td>\n",
       "      <td>Nam</td>\n",
       "      <td>KHMT</td>\n",
       "      <td>CQUI</td>\n",
       "      <td>8</td>\n",
       "      <td>3</td>\n",
       "    </tr>\n",
       "    <tr>\n",
       "      <th>3</th>\n",
       "      <td>0A049F45XPvAibaEXe9CtFSNMbfIz9qE7i0Fu4My</td>\n",
       "      <td>Khá</td>\n",
       "      <td>06/10/2017</td>\n",
       "      <td>1995.0</td>\n",
       "      <td>Đắk Lắk</td>\n",
       "      <td>Nam</td>\n",
       "      <td>KHMT</td>\n",
       "      <td>CQUI</td>\n",
       "      <td>8</td>\n",
       "      <td>3</td>\n",
       "    </tr>\n",
       "    <tr>\n",
       "      <th>4</th>\n",
       "      <td>7A7166DAXPvAibaEXe83V/kFvw2bBZ0o/KVHZc30</td>\n",
       "      <td>Khá</td>\n",
       "      <td>06/10/2017</td>\n",
       "      <td>1995.0</td>\n",
       "      <td>Hải Phòng</td>\n",
       "      <td>Nữ</td>\n",
       "      <td>KHMT</td>\n",
       "      <td>CQUI</td>\n",
       "      <td>8</td>\n",
       "      <td>3</td>\n",
       "    </tr>\n",
       "    <tr>\n",
       "      <th>...</th>\n",
       "      <td>...</td>\n",
       "      <td>...</td>\n",
       "      <td>...</td>\n",
       "      <td>...</td>\n",
       "      <td>...</td>\n",
       "      <td>...</td>\n",
       "      <td>...</td>\n",
       "      <td>...</td>\n",
       "      <td>...</td>\n",
       "      <td>...</td>\n",
       "    </tr>\n",
       "    <tr>\n",
       "      <th>1836</th>\n",
       "      <td>7F3EA9C6XPvAibaEXe9kJ+qYUUrp68Mnh6IGKbmi</td>\n",
       "      <td>Khá</td>\n",
       "      <td>09/06/2021</td>\n",
       "      <td>1998.0</td>\n",
       "      <td>Hải Dương</td>\n",
       "      <td>Nam</td>\n",
       "      <td>HTTT</td>\n",
       "      <td>CLC</td>\n",
       "      <td>11</td>\n",
       "      <td>3</td>\n",
       "    </tr>\n",
       "    <tr>\n",
       "      <th>1837</th>\n",
       "      <td>A2698E63XPvAibaEXe+D5C9Re7EGLdYoD7VxJkyw</td>\n",
       "      <td>Khá</td>\n",
       "      <td>09/06/2021</td>\n",
       "      <td>1998.0</td>\n",
       "      <td>Hải Dương</td>\n",
       "      <td>Nam</td>\n",
       "      <td>HTTT</td>\n",
       "      <td>CLC</td>\n",
       "      <td>11</td>\n",
       "      <td>3</td>\n",
       "    </tr>\n",
       "    <tr>\n",
       "      <th>1838</th>\n",
       "      <td>B44C3B36XPvAibaEXe/ns/wSuHF6kEcjw3s5q9gL</td>\n",
       "      <td>Khá</td>\n",
       "      <td>09/06/2021</td>\n",
       "      <td>1997.0</td>\n",
       "      <td>Lâm Đồng</td>\n",
       "      <td>Nam</td>\n",
       "      <td>HTTT</td>\n",
       "      <td>CLC</td>\n",
       "      <td>11</td>\n",
       "      <td>3</td>\n",
       "    </tr>\n",
       "    <tr>\n",
       "      <th>1839</th>\n",
       "      <td>175475BBXPvAibaEXe8dBqMaN7rGhkux+ZR35bi9</td>\n",
       "      <td>Khá</td>\n",
       "      <td>09/06/2021</td>\n",
       "      <td>1998.0</td>\n",
       "      <td>Hồ Chí Minh</td>\n",
       "      <td>Nam</td>\n",
       "      <td>HTTT</td>\n",
       "      <td>CLC</td>\n",
       "      <td>11</td>\n",
       "      <td>3</td>\n",
       "    </tr>\n",
       "    <tr>\n",
       "      <th>1840</th>\n",
       "      <td>94A79F45XPvAibaEXe+dJypLAXKUXx9tmvinQDNg</td>\n",
       "      <td>Khá</td>\n",
       "      <td>09/06/2021</td>\n",
       "      <td>1998.0</td>\n",
       "      <td>An Giang</td>\n",
       "      <td>Nam</td>\n",
       "      <td>HTTT</td>\n",
       "      <td>CLC</td>\n",
       "      <td>11</td>\n",
       "      <td>3</td>\n",
       "    </tr>\n",
       "  </tbody>\n",
       "</table>\n",
       "<p>1841 rows × 10 columns</p>\n",
       "</div>"
      ],
      "text/plain": [
       "                                          mssv xeploai   ngaycapvb namsinh  \\\n",
       "0     E95E7C6DXPvAibaEXe+1j/AqdkpM22DHf6P99fDJ     Khá  14/04/2017  1994.0   \n",
       "1     D0FE4969XPvAibaEXe/yXiKgsgy0slCmJ5EKt6Ki    Giỏi  06/10/2017  1995.0   \n",
       "2     40F7E8D0XPvAibaEXe+nZBq3b0XEhfcwXLmoc4Pj    Giỏi  06/10/2017  1995.0   \n",
       "3     0A049F45XPvAibaEXe9CtFSNMbfIz9qE7i0Fu4My     Khá  06/10/2017  1995.0   \n",
       "4     7A7166DAXPvAibaEXe83V/kFvw2bBZ0o/KVHZc30     Khá  06/10/2017  1995.0   \n",
       "...                                        ...     ...         ...     ...   \n",
       "1836  7F3EA9C6XPvAibaEXe9kJ+qYUUrp68Mnh6IGKbmi     Khá  09/06/2021  1998.0   \n",
       "1837  A2698E63XPvAibaEXe+D5C9Re7EGLdYoD7VxJkyw     Khá  09/06/2021  1998.0   \n",
       "1838  B44C3B36XPvAibaEXe/ns/wSuHF6kEcjw3s5q9gL     Khá  09/06/2021  1997.0   \n",
       "1839  175475BBXPvAibaEXe8dBqMaN7rGhkux+ZR35bi9     Khá  09/06/2021  1998.0   \n",
       "1840  94A79F45XPvAibaEXe+dJypLAXKUXx9tmvinQDNg     Khá  09/06/2021  1998.0   \n",
       "\n",
       "          noisinh gioitinh    khoa  hedt khoahoc tinhtrang  \n",
       "0       Đồng Tháp      Nam  MMT&TT  CQUI       8         3  \n",
       "1         Phú Yên      Nam    KHMT  CQUI       8         3  \n",
       "2        Đồng Nai      Nam    KHMT  CQUI       8         3  \n",
       "3         Đắk Lắk      Nam    KHMT  CQUI       8         3  \n",
       "4       Hải Phòng       Nữ    KHMT  CQUI       8         3  \n",
       "...           ...      ...     ...   ...     ...       ...  \n",
       "1836    Hải Dương      Nam    HTTT   CLC      11         3  \n",
       "1837    Hải Dương      Nam    HTTT   CLC      11         3  \n",
       "1838     Lâm Đồng      Nam    HTTT   CLC      11         3  \n",
       "1839  Hồ Chí Minh      Nam    HTTT   CLC      11         3  \n",
       "1840     An Giang      Nam    HTTT   CLC      11         3  \n",
       "\n",
       "[1841 rows x 10 columns]"
      ]
     },
     "execution_count": 139,
     "metadata": {},
     "output_type": "execute_result"
    }
   ],
   "source": [
    "fact"
   ]
  },
  {
   "cell_type": "code",
   "execution_count": 140,
   "id": "df6ed54e-5d82-491d-a4de-7745076cf2d2",
   "metadata": {},
   "outputs": [
    {
     "data": {
      "text/plain": [
       "mssv         0\n",
       "xeploai      0\n",
       "ngaycapvb    0\n",
       "namsinh      0\n",
       "noisinh      0\n",
       "gioitinh     0\n",
       "khoa         0\n",
       "hedt         0\n",
       "khoahoc      0\n",
       "tinhtrang    0\n",
       "dtype: int64"
      ]
     },
     "execution_count": 140,
     "metadata": {},
     "output_type": "execute_result"
    }
   ],
   "source": [
    "fact.isna().sum()"
   ]
  },
  {
   "cell_type": "code",
   "execution_count": 141,
   "id": "e64fe4c8-e207-4222-8977-7107354d048b",
   "metadata": {},
   "outputs": [],
   "source": [
    "# Gộp bảng 'xeploaiav' vào 'fact'\n",
    "fact = pd.merge(fact, xeploaiav, how='left', on='mssv', suffixes=('', '_drop'))\n",
    "\n",
    "# Loại bỏ các cột không cần thiết (nếu trùng tên)\n",
    "fact = fact.loc[:, ~fact.columns.str.endswith('_drop')]\n",
    "\n",
    "# Gộp tiếp bảng 'diem_Thu' chỉ cho các hàng còn thiếu giá trị\n",
    "fact = pd.merge(fact, diem_Thu, how='left', on='mssv', suffixes=('', '_drop'))\n",
    "\n",
    "# Ưu tiên dữ liệu từ 'xeploaiav', điền dữ liệu từ 'diem_Thu' cho các hàng còn thiếu\n",
    "for col in diem_Thu.columns:\n",
    "    if col != 'mssv':  # Bỏ qua khóa chính\n",
    "        fact[col] = fact[col].combine_first(fact[f\"{col}_drop\"])\n",
    "\n",
    "# Loại bỏ các cột thừa sau khi gộp\n",
    "fact = fact.loc[:, ~fact.columns.str.endswith('_drop')]"
   ]
  },
  {
   "cell_type": "code",
   "execution_count": 142,
   "id": "62e83368-22aa-4f97-9458-d737ae1e6f5b",
   "metadata": {},
   "outputs": [],
   "source": [
    "# fact"
   ]
  },
  {
   "cell_type": "code",
   "execution_count": 143,
   "id": "2e737efe-5d7a-49b5-8d36-d1028724e413",
   "metadata": {},
   "outputs": [
    {
     "data": {
      "text/plain": [
       "mssv            0\n",
       "xeploai         0\n",
       "ngaycapvb       0\n",
       "namsinh         0\n",
       "noisinh         0\n",
       "gioitinh        0\n",
       "khoa            0\n",
       "hedt            0\n",
       "khoahoc         0\n",
       "tinhtrang       0\n",
       "mamh         1235\n",
       "dtype: int64"
      ]
     },
     "execution_count": 143,
     "metadata": {},
     "output_type": "execute_result"
    }
   ],
   "source": [
    "fact.isna().sum()"
   ]
  },
  {
   "cell_type": "code",
   "execution_count": 144,
   "id": "a6ac6fbe-f4d9-4185-93f7-32cf04f8213f",
   "metadata": {},
   "outputs": [],
   "source": [
    "# gộp bảng thisinh vào fact\n",
    "fact = pd.merge(fact, thisinh, how='left', on='mssv')\n"
   ]
  },
  {
   "cell_type": "code",
   "execution_count": 145,
   "id": "175e6020-a3d4-4c07-98de-218ba4164683",
   "metadata": {},
   "outputs": [
    {
     "data": {
      "text/plain": [
       "(1841, 14)"
      ]
     },
     "execution_count": 145,
     "metadata": {},
     "output_type": "execute_result"
    }
   ],
   "source": [
    "fact.shape"
   ]
  },
  {
   "cell_type": "code",
   "execution_count": 146,
   "id": "a82eb553-a204-4bc5-a3f6-d42e270252c4",
   "metadata": {},
   "outputs": [],
   "source": [
    "# gộp bảng diemtb_hk vào fact\n",
    "fact = pd.merge(fact, diemtb_hk, how='left', on='mssv')"
   ]
  },
  {
   "cell_type": "code",
   "execution_count": 147,
   "id": "f3ced173-bd41-4ece-8381-4450b6b82053",
   "metadata": {},
   "outputs": [
    {
     "data": {
      "text/plain": [
       "mssv               0\n",
       "xeploai            0\n",
       "ngaycapvb          0\n",
       "namsinh            0\n",
       "noisinh            0\n",
       "gioitinh           0\n",
       "khoa               0\n",
       "hedt               0\n",
       "khoahoc            0\n",
       "tinhtrang          0\n",
       "mamh            1235\n",
       "dien_tt           14\n",
       "diem_tt           14\n",
       "lop12_matinh      14\n",
       "dtbhk_hk_1        14\n",
       "dtbhk_hk_2        14\n",
       "dtbhk_hk_3        14\n",
       "dtbhk_hk_4        14\n",
       "dtbhk_hk_5        14\n",
       "sotchk_hk_1       14\n",
       "sotchk_hk_2       14\n",
       "sotchk_hk_3       14\n",
       "sotchk_hk_4       14\n",
       "sotchk_hk_5       14\n",
       "dtype: int64"
      ]
     },
     "execution_count": 147,
     "metadata": {},
     "output_type": "execute_result"
    }
   ],
   "source": [
    "fact.isna().sum()"
   ]
  },
  {
   "cell_type": "code",
   "execution_count": 148,
   "id": "75cf4ea5-b549-42b8-86b2-70bf622e749f",
   "metadata": {},
   "outputs": [
    {
     "data": {
      "text/html": [
       "<div>\n",
       "<style scoped>\n",
       "    .dataframe tbody tr th:only-of-type {\n",
       "        vertical-align: middle;\n",
       "    }\n",
       "\n",
       "    .dataframe tbody tr th {\n",
       "        vertical-align: top;\n",
       "    }\n",
       "\n",
       "    .dataframe thead th {\n",
       "        text-align: right;\n",
       "    }\n",
       "</style>\n",
       "<table border=\"1\" class=\"dataframe\">\n",
       "  <thead>\n",
       "    <tr style=\"text-align: right;\">\n",
       "      <th></th>\n",
       "      <th>mssv</th>\n",
       "      <th>drl_hk_1</th>\n",
       "      <th>drl_hk_2</th>\n",
       "      <th>drl_hk_3</th>\n",
       "      <th>drl_hk_4</th>\n",
       "      <th>drl_hk_5</th>\n",
       "    </tr>\n",
       "  </thead>\n",
       "  <tbody>\n",
       "    <tr>\n",
       "      <th>0</th>\n",
       "      <td>0000AC05XPvAibaEXe9B2tolTZ0JLoBGbkQixQS6</td>\n",
       "      <td>93</td>\n",
       "      <td>90</td>\n",
       "      <td>100</td>\n",
       "      <td>NaN</td>\n",
       "      <td>NaN</td>\n",
       "    </tr>\n",
       "    <tr>\n",
       "      <th>1</th>\n",
       "      <td>0001CF3EXPvAibaEXe/xTpnJlY3K6L35F+TKUux6</td>\n",
       "      <td>38</td>\n",
       "      <td>NaN</td>\n",
       "      <td>NaN</td>\n",
       "      <td>NaN</td>\n",
       "      <td>NaN</td>\n",
       "    </tr>\n",
       "    <tr>\n",
       "      <th>2</th>\n",
       "      <td>0001EB57XPvAibaEXe/twT+sf632fUXnsgPGeB4G</td>\n",
       "      <td>100</td>\n",
       "      <td>100</td>\n",
       "      <td>100</td>\n",
       "      <td>100</td>\n",
       "      <td>100</td>\n",
       "    </tr>\n",
       "    <tr>\n",
       "      <th>3</th>\n",
       "      <td>00046394XPvAibaEXe+fmxcqgvribEcT4YmJhSFD</td>\n",
       "      <td>81</td>\n",
       "      <td>76</td>\n",
       "      <td>75</td>\n",
       "      <td>91</td>\n",
       "      <td>77</td>\n",
       "    </tr>\n",
       "    <tr>\n",
       "      <th>4</th>\n",
       "      <td>0006A0BBXPvAibaEXe/lMOwHQdw54DgUkWaqwb1u</td>\n",
       "      <td>96</td>\n",
       "      <td>NaN</td>\n",
       "      <td>NaN</td>\n",
       "      <td>NaN</td>\n",
       "      <td>NaN</td>\n",
       "    </tr>\n",
       "    <tr>\n",
       "      <th>...</th>\n",
       "      <td>...</td>\n",
       "      <td>...</td>\n",
       "      <td>...</td>\n",
       "      <td>...</td>\n",
       "      <td>...</td>\n",
       "      <td>...</td>\n",
       "    </tr>\n",
       "    <tr>\n",
       "      <th>17977</th>\n",
       "      <td>FFE9E452XPvAibaEXe+6MN9FoW2mqXtx1lMTF9+D</td>\n",
       "      <td>98</td>\n",
       "      <td>98</td>\n",
       "      <td>93</td>\n",
       "      <td>87</td>\n",
       "      <td>98</td>\n",
       "    </tr>\n",
       "    <tr>\n",
       "      <th>17978</th>\n",
       "      <td>FFEF294AXPvAibaEXe/ceziXFRXnLc/x/K0hVw4d</td>\n",
       "      <td>76</td>\n",
       "      <td>80</td>\n",
       "      <td>76</td>\n",
       "      <td>75</td>\n",
       "      <td>79</td>\n",
       "    </tr>\n",
       "    <tr>\n",
       "      <th>17979</th>\n",
       "      <td>FFF3D630XPvAibaEXe8byJxgVsE7R2dP7ICEdFWK</td>\n",
       "      <td>70</td>\n",
       "      <td>70</td>\n",
       "      <td>85</td>\n",
       "      <td>85</td>\n",
       "      <td>99</td>\n",
       "    </tr>\n",
       "    <tr>\n",
       "      <th>17980</th>\n",
       "      <td>FFF4CD57XPvAibaEXe/z8kRiyNmKNla425pm0Qmc</td>\n",
       "      <td>97</td>\n",
       "      <td>86</td>\n",
       "      <td>86</td>\n",
       "      <td>NaN</td>\n",
       "      <td>NaN</td>\n",
       "    </tr>\n",
       "    <tr>\n",
       "      <th>17981</th>\n",
       "      <td>FFFA4234XPvAibaEXe+OhmjSj4XEzdTGgcTdT9fT</td>\n",
       "      <td>71</td>\n",
       "      <td>71</td>\n",
       "      <td>80</td>\n",
       "      <td>83</td>\n",
       "      <td>83</td>\n",
       "    </tr>\n",
       "  </tbody>\n",
       "</table>\n",
       "<p>17982 rows × 6 columns</p>\n",
       "</div>"
      ],
      "text/plain": [
       "                                           mssv drl_hk_1 drl_hk_2 drl_hk_3  \\\n",
       "0      0000AC05XPvAibaEXe9B2tolTZ0JLoBGbkQixQS6       93       90      100   \n",
       "1      0001CF3EXPvAibaEXe/xTpnJlY3K6L35F+TKUux6       38      NaN      NaN   \n",
       "2      0001EB57XPvAibaEXe/twT+sf632fUXnsgPGeB4G      100      100      100   \n",
       "3      00046394XPvAibaEXe+fmxcqgvribEcT4YmJhSFD       81       76       75   \n",
       "4      0006A0BBXPvAibaEXe/lMOwHQdw54DgUkWaqwb1u       96      NaN      NaN   \n",
       "...                                         ...      ...      ...      ...   \n",
       "17977  FFE9E452XPvAibaEXe+6MN9FoW2mqXtx1lMTF9+D       98       98       93   \n",
       "17978  FFEF294AXPvAibaEXe/ceziXFRXnLc/x/K0hVw4d       76       80       76   \n",
       "17979  FFF3D630XPvAibaEXe8byJxgVsE7R2dP7ICEdFWK       70       70       85   \n",
       "17980  FFF4CD57XPvAibaEXe/z8kRiyNmKNla425pm0Qmc       97       86       86   \n",
       "17981  FFFA4234XPvAibaEXe+OhmjSj4XEzdTGgcTdT9fT       71       71       80   \n",
       "\n",
       "      drl_hk_4 drl_hk_5  \n",
       "0          NaN      NaN  \n",
       "1          NaN      NaN  \n",
       "2          100      100  \n",
       "3           91       77  \n",
       "4          NaN      NaN  \n",
       "...        ...      ...  \n",
       "17977       87       98  \n",
       "17978       75       79  \n",
       "17979       85       99  \n",
       "17980      NaN      NaN  \n",
       "17981       83       83  \n",
       "\n",
       "[17982 rows x 6 columns]"
      ]
     },
     "execution_count": 148,
     "metadata": {},
     "output_type": "execute_result"
    }
   ],
   "source": [
    "diemrl"
   ]
  },
  {
   "cell_type": "code",
   "execution_count": 149,
   "id": "381a07b6-12d4-499a-991e-25795259855e",
   "metadata": {},
   "outputs": [],
   "source": [
    "# gộp bảng diemrl vào fact\n",
    "fact = pd.merge(fact, diemrl, how='left', on='mssv')"
   ]
  },
  {
   "cell_type": "code",
   "execution_count": 150,
   "id": "a0a59c93-29b8-4a75-8f2a-cbec4346a03e",
   "metadata": {
    "scrolled": true
   },
   "outputs": [
    {
     "data": {
      "text/plain": [
       "mssv               0\n",
       "xeploai            0\n",
       "ngaycapvb          0\n",
       "namsinh            0\n",
       "noisinh            0\n",
       "gioitinh           0\n",
       "khoa               0\n",
       "hedt               0\n",
       "khoahoc            0\n",
       "tinhtrang          0\n",
       "mamh            1235\n",
       "dien_tt           14\n",
       "diem_tt           14\n",
       "lop12_matinh      14\n",
       "dtbhk_hk_1        14\n",
       "dtbhk_hk_2        14\n",
       "dtbhk_hk_3        14\n",
       "dtbhk_hk_4        14\n",
       "dtbhk_hk_5        14\n",
       "sotchk_hk_1       14\n",
       "sotchk_hk_2       14\n",
       "sotchk_hk_3       14\n",
       "sotchk_hk_4       14\n",
       "sotchk_hk_5       14\n",
       "drl_hk_1           0\n",
       "drl_hk_2           0\n",
       "drl_hk_3           0\n",
       "drl_hk_4           0\n",
       "drl_hk_5           0\n",
       "dtype: int64"
      ]
     },
     "execution_count": 150,
     "metadata": {},
     "output_type": "execute_result"
    }
   ],
   "source": [
    "fact.isna().sum()"
   ]
  },
  {
   "cell_type": "code",
   "execution_count": 154,
   "id": "c665c5b1-b30a-4c66-9f2a-c9f82c74ac0d",
   "metadata": {},
   "outputs": [
    {
     "data": {
      "text/plain": [
       "(1800, 29)"
      ]
     },
     "execution_count": 154,
     "metadata": {},
     "output_type": "execute_result"
    }
   ],
   "source": [
    "fact.shape"
   ]
  },
  {
   "cell_type": "code",
   "execution_count": 158,
   "id": "d5394bee-5e48-46f9-b9a3-617b99c489c5",
   "metadata": {},
   "outputs": [
    {
     "data": {
      "text/plain": [
       "mssv              0\n",
       "xeploai           0\n",
       "ngaycapvb         0\n",
       "namsinh           0\n",
       "noisinh           0\n",
       "gioitinh          0\n",
       "khoa              0\n",
       "hedt              0\n",
       "khoahoc           0\n",
       "tinhtrang         0\n",
       "diem_tt          14\n",
       "dtbhk_hk_1       14\n",
       "dtbhk_hk_2       14\n",
       "dtbhk_hk_3       14\n",
       "dtbhk_hk_4       14\n",
       "dtbhk_hk_5       14\n",
       "sotchk_hk_1      14\n",
       "sotchk_hk_2      14\n",
       "sotchk_hk_3      14\n",
       "sotchk_hk_4      14\n",
       "sotchk_hk_5      14\n",
       "drl_hk_1          0\n",
       "drl_hk_2          0\n",
       "drl_hk_3          0\n",
       "drl_hk_4          0\n",
       "drl_hk_5          0\n",
       "khoahoc_chuan     0\n",
       "dtype: int64"
      ]
     },
     "execution_count": 158,
     "metadata": {},
     "output_type": "execute_result"
    }
   ],
   "source": [
    "fact.isna().sum()"
   ]
  },
  {
   "cell_type": "code",
   "execution_count": 153,
   "id": "98b3843c-1212-4ab8-bf6d-ff51d46c6e76",
   "metadata": {},
   "outputs": [],
   "source": [
    "# xoá khoá 12 vì dữ liệu bị ít\n",
    "fact = fact[(fact['khoahoc'] != '12')]"
   ]
  },
  {
   "cell_type": "code",
   "execution_count": 155,
   "id": "04e850d0-1ecc-4ee9-a540-3e1205cb93d5",
   "metadata": {},
   "outputs": [],
   "source": [
    "# tính toán khoá chuẩn của sinh viên ví dụ sinh năm 2003 thì khoá học chuẩn là k16 bằng cách lấy năm sinh trừ đi 1987\n",
    "# Chuyển cột 'namsinh' thành kiểu số\n",
    "fact['namsinh'] = pd.to_numeric(fact['namsinh'], errors='coerce')  # Chuyển đổi giá trị không hợp lệ thành NaN\n",
    "fact.dropna(subset=['namsinh'], inplace=True)  # Loại bỏ hàng có NaN trong 'namsinh'\n",
    "fact['namsinh'] = fact['namsinh'].astype(float).astype(int)  # Loại bỏ phần thập phân và chuyển thành int\n",
    "\n",
    "# Tính toán khóa học chuẩn\n",
    "fact['khoahoc_chuan'] = fact['namsinh'] - 1987"
   ]
  },
  {
   "cell_type": "code",
   "execution_count": 159,
   "id": "f64e2c32-a120-4b16-9b75-70b5ae0adfd6",
   "metadata": {},
   "outputs": [
    {
     "data": {
      "text/plain": [
       "(1800, 27)"
      ]
     },
     "execution_count": 159,
     "metadata": {},
     "output_type": "execute_result"
    }
   ],
   "source": [
    "fact.shape"
   ]
  },
  {
   "cell_type": "code",
   "execution_count": 160,
   "id": "44699c69-5962-443e-8ab5-d9e8481a6041",
   "metadata": {},
   "outputs": [
    {
     "ename": "KeyError",
     "evalue": "\"['mamh', 'lop12_matinh', 'dien_tt'] not found in axis\"",
     "output_type": "error",
     "traceback": [
      "\u001b[1;31m---------------------------------------------------------------------------\u001b[0m",
      "\u001b[1;31mKeyError\u001b[0m                                  Traceback (most recent call last)",
      "Cell \u001b[1;32mIn[160], line 3\u001b[0m\n\u001b[0;32m      1\u001b[0m \u001b[38;5;66;03m#  xoá các cột không cần thiết\u001b[39;00m\n\u001b[0;32m      2\u001b[0m columns_to_drop \u001b[38;5;241m=\u001b[39m [\u001b[38;5;124m'\u001b[39m\u001b[38;5;124mmamh\u001b[39m\u001b[38;5;124m'\u001b[39m, \u001b[38;5;124m'\u001b[39m\u001b[38;5;124mlop12_matinh\u001b[39m\u001b[38;5;124m'\u001b[39m, \u001b[38;5;124m'\u001b[39m\u001b[38;5;124mdien_tt\u001b[39m\u001b[38;5;124m'\u001b[39m]\n\u001b[1;32m----> 3\u001b[0m fact \u001b[38;5;241m=\u001b[39m \u001b[43mfact\u001b[49m\u001b[38;5;241;43m.\u001b[39;49m\u001b[43mdrop\u001b[49m\u001b[43m(\u001b[49m\u001b[43mcolumns\u001b[49m\u001b[38;5;241;43m=\u001b[39;49m\u001b[43mcolumns_to_drop\u001b[49m\u001b[43m)\u001b[49m\n",
      "File \u001b[1;32mE:\\Anaconda 3\\Lib\\site-packages\\pandas\\core\\frame.py:5581\u001b[0m, in \u001b[0;36mDataFrame.drop\u001b[1;34m(self, labels, axis, index, columns, level, inplace, errors)\u001b[0m\n\u001b[0;32m   5433\u001b[0m \u001b[38;5;28;01mdef\u001b[39;00m \u001b[38;5;21mdrop\u001b[39m(\n\u001b[0;32m   5434\u001b[0m     \u001b[38;5;28mself\u001b[39m,\n\u001b[0;32m   5435\u001b[0m     labels: IndexLabel \u001b[38;5;241m|\u001b[39m \u001b[38;5;28;01mNone\u001b[39;00m \u001b[38;5;241m=\u001b[39m \u001b[38;5;28;01mNone\u001b[39;00m,\n\u001b[1;32m   (...)\u001b[0m\n\u001b[0;32m   5442\u001b[0m     errors: IgnoreRaise \u001b[38;5;241m=\u001b[39m \u001b[38;5;124m\"\u001b[39m\u001b[38;5;124mraise\u001b[39m\u001b[38;5;124m\"\u001b[39m,\n\u001b[0;32m   5443\u001b[0m ) \u001b[38;5;241m-\u001b[39m\u001b[38;5;241m>\u001b[39m DataFrame \u001b[38;5;241m|\u001b[39m \u001b[38;5;28;01mNone\u001b[39;00m:\n\u001b[0;32m   5444\u001b[0m \u001b[38;5;250m    \u001b[39m\u001b[38;5;124;03m\"\"\"\u001b[39;00m\n\u001b[0;32m   5445\u001b[0m \u001b[38;5;124;03m    Drop specified labels from rows or columns.\u001b[39;00m\n\u001b[0;32m   5446\u001b[0m \n\u001b[1;32m   (...)\u001b[0m\n\u001b[0;32m   5579\u001b[0m \u001b[38;5;124;03m            weight  1.0     0.8\u001b[39;00m\n\u001b[0;32m   5580\u001b[0m \u001b[38;5;124;03m    \"\"\"\u001b[39;00m\n\u001b[1;32m-> 5581\u001b[0m     \u001b[38;5;28;01mreturn\u001b[39;00m \u001b[38;5;28;43msuper\u001b[39;49m\u001b[43m(\u001b[49m\u001b[43m)\u001b[49m\u001b[38;5;241;43m.\u001b[39;49m\u001b[43mdrop\u001b[49m\u001b[43m(\u001b[49m\n\u001b[0;32m   5582\u001b[0m \u001b[43m        \u001b[49m\u001b[43mlabels\u001b[49m\u001b[38;5;241;43m=\u001b[39;49m\u001b[43mlabels\u001b[49m\u001b[43m,\u001b[49m\n\u001b[0;32m   5583\u001b[0m \u001b[43m        \u001b[49m\u001b[43maxis\u001b[49m\u001b[38;5;241;43m=\u001b[39;49m\u001b[43maxis\u001b[49m\u001b[43m,\u001b[49m\n\u001b[0;32m   5584\u001b[0m \u001b[43m        \u001b[49m\u001b[43mindex\u001b[49m\u001b[38;5;241;43m=\u001b[39;49m\u001b[43mindex\u001b[49m\u001b[43m,\u001b[49m\n\u001b[0;32m   5585\u001b[0m \u001b[43m        \u001b[49m\u001b[43mcolumns\u001b[49m\u001b[38;5;241;43m=\u001b[39;49m\u001b[43mcolumns\u001b[49m\u001b[43m,\u001b[49m\n\u001b[0;32m   5586\u001b[0m \u001b[43m        \u001b[49m\u001b[43mlevel\u001b[49m\u001b[38;5;241;43m=\u001b[39;49m\u001b[43mlevel\u001b[49m\u001b[43m,\u001b[49m\n\u001b[0;32m   5587\u001b[0m \u001b[43m        \u001b[49m\u001b[43minplace\u001b[49m\u001b[38;5;241;43m=\u001b[39;49m\u001b[43minplace\u001b[49m\u001b[43m,\u001b[49m\n\u001b[0;32m   5588\u001b[0m \u001b[43m        \u001b[49m\u001b[43merrors\u001b[49m\u001b[38;5;241;43m=\u001b[39;49m\u001b[43merrors\u001b[49m\u001b[43m,\u001b[49m\n\u001b[0;32m   5589\u001b[0m \u001b[43m    \u001b[49m\u001b[43m)\u001b[49m\n",
      "File \u001b[1;32mE:\\Anaconda 3\\Lib\\site-packages\\pandas\\core\\generic.py:4788\u001b[0m, in \u001b[0;36mNDFrame.drop\u001b[1;34m(self, labels, axis, index, columns, level, inplace, errors)\u001b[0m\n\u001b[0;32m   4786\u001b[0m \u001b[38;5;28;01mfor\u001b[39;00m axis, labels \u001b[38;5;129;01min\u001b[39;00m axes\u001b[38;5;241m.\u001b[39mitems():\n\u001b[0;32m   4787\u001b[0m     \u001b[38;5;28;01mif\u001b[39;00m labels \u001b[38;5;129;01mis\u001b[39;00m \u001b[38;5;129;01mnot\u001b[39;00m \u001b[38;5;28;01mNone\u001b[39;00m:\n\u001b[1;32m-> 4788\u001b[0m         obj \u001b[38;5;241m=\u001b[39m \u001b[43mobj\u001b[49m\u001b[38;5;241;43m.\u001b[39;49m\u001b[43m_drop_axis\u001b[49m\u001b[43m(\u001b[49m\u001b[43mlabels\u001b[49m\u001b[43m,\u001b[49m\u001b[43m \u001b[49m\u001b[43maxis\u001b[49m\u001b[43m,\u001b[49m\u001b[43m \u001b[49m\u001b[43mlevel\u001b[49m\u001b[38;5;241;43m=\u001b[39;49m\u001b[43mlevel\u001b[49m\u001b[43m,\u001b[49m\u001b[43m \u001b[49m\u001b[43merrors\u001b[49m\u001b[38;5;241;43m=\u001b[39;49m\u001b[43merrors\u001b[49m\u001b[43m)\u001b[49m\n\u001b[0;32m   4790\u001b[0m \u001b[38;5;28;01mif\u001b[39;00m inplace:\n\u001b[0;32m   4791\u001b[0m     \u001b[38;5;28mself\u001b[39m\u001b[38;5;241m.\u001b[39m_update_inplace(obj)\n",
      "File \u001b[1;32mE:\\Anaconda 3\\Lib\\site-packages\\pandas\\core\\generic.py:4830\u001b[0m, in \u001b[0;36mNDFrame._drop_axis\u001b[1;34m(self, labels, axis, level, errors, only_slice)\u001b[0m\n\u001b[0;32m   4828\u001b[0m         new_axis \u001b[38;5;241m=\u001b[39m axis\u001b[38;5;241m.\u001b[39mdrop(labels, level\u001b[38;5;241m=\u001b[39mlevel, errors\u001b[38;5;241m=\u001b[39merrors)\n\u001b[0;32m   4829\u001b[0m     \u001b[38;5;28;01melse\u001b[39;00m:\n\u001b[1;32m-> 4830\u001b[0m         new_axis \u001b[38;5;241m=\u001b[39m \u001b[43maxis\u001b[49m\u001b[38;5;241;43m.\u001b[39;49m\u001b[43mdrop\u001b[49m\u001b[43m(\u001b[49m\u001b[43mlabels\u001b[49m\u001b[43m,\u001b[49m\u001b[43m \u001b[49m\u001b[43merrors\u001b[49m\u001b[38;5;241;43m=\u001b[39;49m\u001b[43merrors\u001b[49m\u001b[43m)\u001b[49m\n\u001b[0;32m   4831\u001b[0m     indexer \u001b[38;5;241m=\u001b[39m axis\u001b[38;5;241m.\u001b[39mget_indexer(new_axis)\n\u001b[0;32m   4833\u001b[0m \u001b[38;5;66;03m# Case for non-unique axis\u001b[39;00m\n\u001b[0;32m   4834\u001b[0m \u001b[38;5;28;01melse\u001b[39;00m:\n",
      "File \u001b[1;32mE:\\Anaconda 3\\Lib\\site-packages\\pandas\\core\\indexes\\base.py:7070\u001b[0m, in \u001b[0;36mIndex.drop\u001b[1;34m(self, labels, errors)\u001b[0m\n\u001b[0;32m   7068\u001b[0m \u001b[38;5;28;01mif\u001b[39;00m mask\u001b[38;5;241m.\u001b[39many():\n\u001b[0;32m   7069\u001b[0m     \u001b[38;5;28;01mif\u001b[39;00m errors \u001b[38;5;241m!=\u001b[39m \u001b[38;5;124m\"\u001b[39m\u001b[38;5;124mignore\u001b[39m\u001b[38;5;124m\"\u001b[39m:\n\u001b[1;32m-> 7070\u001b[0m         \u001b[38;5;28;01mraise\u001b[39;00m \u001b[38;5;167;01mKeyError\u001b[39;00m(\u001b[38;5;124mf\u001b[39m\u001b[38;5;124m\"\u001b[39m\u001b[38;5;132;01m{\u001b[39;00mlabels[mask]\u001b[38;5;241m.\u001b[39mtolist()\u001b[38;5;132;01m}\u001b[39;00m\u001b[38;5;124m not found in axis\u001b[39m\u001b[38;5;124m\"\u001b[39m)\n\u001b[0;32m   7071\u001b[0m     indexer \u001b[38;5;241m=\u001b[39m indexer[\u001b[38;5;241m~\u001b[39mmask]\n\u001b[0;32m   7072\u001b[0m \u001b[38;5;28;01mreturn\u001b[39;00m \u001b[38;5;28mself\u001b[39m\u001b[38;5;241m.\u001b[39mdelete(indexer)\n",
      "\u001b[1;31mKeyError\u001b[0m: \"['mamh', 'lop12_matinh', 'dien_tt'] not found in axis\""
     ]
    }
   ],
   "source": [
    "#  xoá các cột không cần thiết\n",
    "columns_to_drop = ['mamh', 'lop12_matinh', 'dien_tt', 'ngaycapvb', 'tinhtrang' ]\n",
    "fact = fact.drop(columns=columns_to_drop)"
   ]
  },
  {
   "cell_type": "code",
   "execution_count": 162,
   "id": "b58b5fe8-a5f7-4877-8eb1-83fd656b0f92",
   "metadata": {},
   "outputs": [],
   "source": [
    "fact = fact.dropna()"
   ]
  },
  {
   "cell_type": "markdown",
   "id": "1066f5c4-241b-4e0d-886c-8b48ba8a8202",
   "metadata": {},
   "source": [
    "# Ép kiểu các loại dữ liệu sang kiểu phù hợp"
   ]
  },
  {
   "cell_type": "code",
   "execution_count": 165,
   "id": "e770ac3b-693c-433e-a58f-515d6e7d686d",
   "metadata": {},
   "outputs": [],
   "source": [
    "# Ép kiểu các cột liên quan đến MSSV, xếp loại, nơi sinh, giới tính, khoa, hệ đào tạo, khóa học, tình trạng, và mã tỉnh lớp 12 thành string\n",
    "columns_to_string = [\n",
    "    'mssv', 'xeploai', 'noisinh', 'gioitinh', \n",
    "    'khoa', 'hedt', 'khoahoc', 'tinhtrang'\n",
    "]\n",
    "\n",
    "fact[columns_to_string] = fact[columns_to_string].astype(str)\n",
    "\n",
    "# Ép kiểu các cột điểm thành float\n",
    "columns_to_float = [\n",
    "    'dtbhk_hk_1', 'dtbhk_hk_2', 'dtbhk_hk_3', \n",
    "    'dtbhk_hk_4', 'dtbhk_hk_5', \n",
    "    'drl_hk_1', 'drl_hk_2', 'drl_hk_3', 'drl_hk_4', 'drl_hk_5'\n",
    "]\n",
    "fact[columns_to_float] = fact[columns_to_float].astype(float)\n",
    "\n",
    "# Ép kiểu các cột số tín chỉ và năm sinh thành int\n",
    "columns_to_int = [\n",
    "    'namsinh', 'sotchk_hk_1', 'sotchk_hk_2', \n",
    "    'sotchk_hk_3', 'sotchk_hk_4', 'sotchk_hk_5', 'khoahoc_chuan'\n",
    "]\n",
    "fact[columns_to_int] = fact[columns_to_int].astype(int)"
   ]
  },
  {
   "cell_type": "code",
   "execution_count": 173,
   "id": "4bef7273-6f65-4e81-9ee2-23465efbcdeb",
   "metadata": {},
   "outputs": [
    {
     "name": "stderr",
     "output_type": "stream",
     "text": [
      "<>:1: SyntaxWarning: invalid escape sequence '\\s'\n",
      "<>:1: SyntaxWarning: invalid escape sequence '\\s'\n",
      "C:\\Users\\anhthy\\AppData\\Local\\Temp\\ipykernel_10644\\1939167775.py:1: SyntaxWarning: invalid escape sequence '\\s'\n",
      "  fact.to_excel(\"..\\store\\\\fact.xlsx\", index=False)\n"
     ]
    }
   ],
   "source": [
    "fact.to_excel(\"..\\store\\\\fact.xlsx\", index=False)"
   ]
  },
  {
   "cell_type": "code",
   "execution_count": 166,
   "id": "0141f052-fcba-4fcf-9f76-db3c64d8c366",
   "metadata": {},
   "outputs": [
    {
     "data": {
      "text/plain": [
       "(1786, 27)"
      ]
     },
     "execution_count": 166,
     "metadata": {},
     "output_type": "execute_result"
    }
   ],
   "source": [
    "fact.shape"
   ]
  },
  {
   "cell_type": "code",
   "execution_count": 169,
   "id": "3a1370d6-c370-4b9d-951b-0e835f9aac04",
   "metadata": {},
   "outputs": [
    {
     "data": {
      "text/plain": [
       "diem_tt\n",
       "26.5     103\n",
       "25.5     101\n",
       "26.0      90\n",
       "27.0      87\n",
       "25.0      87\n",
       "24.5      86\n",
       "28.0      85\n",
       "22.5      84\n",
       "27.5      80\n",
       "23.5      79\n",
       "24.0      79\n",
       "23.25     73\n",
       "23.0      66\n",
       "22.75     61\n",
       "28.5      55\n",
       "29.0      55\n",
       "22.25     45\n",
       "29.5      42\n",
       "21.75     41\n",
       "23.75     39\n",
       "30.0      34\n",
       "22.0      32\n",
       "24.25     31\n",
       "30.5      29\n",
       "21.5      21\n",
       "31.0      21\n",
       "21.0      20\n",
       "20.5      18\n",
       "21.25     16\n",
       "nan       15\n",
       "24.75     14\n",
       "31.5      13\n",
       "20.75     11\n",
       "20.25     11\n",
       "32.0       9\n",
       "25.25      8\n",
       "33.0       8\n",
       "32.5       7\n",
       "25.75      6\n",
       "33.5       5\n",
       "26.75      5\n",
       "20.0       4\n",
       "26.25      2\n",
       "35.5       2\n",
       "35.0       1\n",
       "19.5       1\n",
       "34.5       1\n",
       "34.0       1\n",
       "0.0        1\n",
       "19.75      1\n",
       "Name: count, dtype: int64"
      ]
     },
     "execution_count": 169,
     "metadata": {},
     "output_type": "execute_result"
    }
   ],
   "source": [
    "fact['diem_tt'].value_counts()"
   ]
  },
  {
   "cell_type": "code",
   "execution_count": 170,
   "id": "c87fa296-62bd-476a-9774-89a3c0e85951",
   "metadata": {},
   "outputs": [],
   "source": [
    "fact = fact[fact['diem_tt'] != 'nan']"
   ]
  },
  {
   "cell_type": "code",
   "execution_count": 171,
   "id": "dde3f35e-a68b-4fb1-a1e0-59ba4b41ba01",
   "metadata": {},
   "outputs": [
    {
     "data": {
      "text/plain": [
       "(1771, 27)"
      ]
     },
     "execution_count": 171,
     "metadata": {},
     "output_type": "execute_result"
    }
   ],
   "source": [
    "fact.shape"
   ]
  },
  {
   "cell_type": "code",
   "execution_count": null,
   "id": "0ee5a4ab-3317-434e-9515-9ca6ee75b1df",
   "metadata": {},
   "outputs": [],
   "source": []
  }
 ],
 "metadata": {
  "kernelspec": {
   "display_name": "Python 3 (ipykernel)",
   "language": "python",
   "name": "python3"
  },
  "language_info": {
   "codemirror_mode": {
    "name": "ipython",
    "version": 3
   },
   "file_extension": ".py",
   "mimetype": "text/x-python",
   "name": "python",
   "nbconvert_exporter": "python",
   "pygments_lexer": "ipython3",
   "version": "3.12.4"
  }
 },
 "nbformat": 4,
 "nbformat_minor": 5
}
