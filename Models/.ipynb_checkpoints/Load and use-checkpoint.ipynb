{
 "cells": [
  {
   "cell_type": "code",
   "execution_count": null,
   "id": "7477405c-4c29-4863-b1de-bb9148b8d387",
   "metadata": {},
   "outputs": [],
   "source": [
    "import numpy as np\n",
    "import pandas as pd\n",
    "from sklearn.preprocessing import MinMaxScaler\n",
    "import tensorflow as tf\n",
    "\n",
    "import pickle"
   ]
  },
  {
   "cell_type": "code",
   "execution_count": 46,
   "id": "33a687a1-7ce3-4403-ae90-bb78ea70ab5f",
   "metadata": {},
   "outputs": [],
   "source": [
    "sample_data = {\n",
    "    \"gioitinh\": \"Nam\",\n",
    "    \"noisinh\": \"Hà Nội\",\n",
    "    \"khoa\": \"KHMT\",\n",
    "    \"hedt\": \"CQUI\",\n",
    "    \"diem_tt\": 28.0,\n",
    "    \"dtbhk_hk_1\": 9.8,\n",
    "    \"dtbhk_hk_2\": 9.2,\n",
    "    \"dtbhk_hk_3\": 8.8,\n",
    "    \"dtbhk_hk_4\": 8.5,\n",
    "    \"dtbhk_hk_5\": 8.6,\n",
    "    \"sotchk_hk_1\": 20,\n",
    "    \"sotchk_hk_2\": 18,\n",
    "    \"sotchk_hk_3\": 19,\n",
    "    \"sotchk_hk_4\": 17,\n",
    "    \"sotchk_hk_5\": 17,\n",
    "    \"drl_hk_1\": 100,\n",
    "    \"drl_hk_2\": 100,  \n",
    "    \"drl_hk_3\": 100,  \n",
    "    \"drl_hk_4\": 100,\n",
    "    \"drl_hk_5\": 97\n",
    "}"
   ]
  },
  {
   "cell_type": "code",
   "execution_count": 47,
   "id": "bf1c707e-f28b-4c92-8489-815ffed7cd3d",
   "metadata": {},
   "outputs": [],
   "source": [
    "# Tải label_mapping\n",
    "with open(\"..\\\\store\\\\pickle\\\\label_mapping.pkl\", \"rb\") as f:\n",
    "    label_mapping = pickle.load(f)"
   ]
  },
  {
   "cell_type": "markdown",
   "id": "edf0d7cd-05d6-45d2-92b3-874a358abdeb",
   "metadata": {},
   "source": [
    "# MLP"
   ]
  },
  {
   "cell_type": "code",
   "execution_count": 4,
   "id": "c5228f35-3526-41c5-9833-655c97c6d2f1",
   "metadata": {},
   "outputs": [],
   "source": [
    "# Load model đã huấn luyện\n",
    "mlp_model = tf.keras.models.load_model((\"..\\\\store\\\\models\\\\mlp_model.keras\"))"
   ]
  },
  {
   "cell_type": "code",
   "execution_count": 48,
   "id": "509a8e30-8934-4292-9ba8-6a819af714a3",
   "metadata": {},
   "outputs": [],
   "source": [
    "# Tải OneHotEncoder và MinMaxScaler\n",
    "with open(\"..\\\\store\\\\pickle\\\\mlp_onehot_encoder.pkl\", \"rb\") as f:\n",
    "    loaded_encoder = pickle.load(f)\n",
    "\n",
    "with open(\"..\\\\store\\\\pickle\\\\mlp_scaler.pkl\", \"rb\") as f:\n",
    "    loaded_scaler = pickle.load(f)"
   ]
  },
  {
   "cell_type": "code",
   "execution_count": 49,
   "id": "4c3235d8-9fbc-4705-b414-8fdf10580225",
   "metadata": {},
   "outputs": [
    {
     "name": "stderr",
     "output_type": "stream",
     "text": [
      "E:\\Anaconda 3\\Lib\\site-packages\\sklearn\\base.py:493: UserWarning: X does not have valid feature names, but OneHotEncoder was fitted with feature names\n",
      "  warnings.warn(\n"
     ]
    }
   ],
   "source": [
    "# Mã hóa dữ liệu phân loại\n",
    "categorical_sample = [[\n",
    "    sample_data[\"gioitinh\"],\n",
    "    sample_data[\"noisinh\"],\n",
    "    sample_data[\"khoa\"],\n",
    "    sample_data[\"hedt\"]\n",
    "]]\n",
    "encoded_sample = loaded_encoder.transform(categorical_sample).toarray()"
   ]
  },
  {
   "cell_type": "code",
   "execution_count": 50,
   "id": "35079eef-e410-448c-baea-1bc609035c5c",
   "metadata": {},
   "outputs": [
    {
     "name": "stderr",
     "output_type": "stream",
     "text": [
      "E:\\Anaconda 3\\Lib\\site-packages\\sklearn\\base.py:493: UserWarning: X does not have valid feature names, but MinMaxScaler was fitted with feature names\n",
      "  warnings.warn(\n"
     ]
    }
   ],
   "source": [
    "# Chuẩn hóa dữ liệu số\n",
    "numerical_sample = [[\n",
    "    sample_data[\"diem_tt\"],\n",
    "    sample_data[\"dtbhk_hk_1\"],\n",
    "    sample_data[\"dtbhk_hk_2\"],\n",
    "    sample_data[\"dtbhk_hk_3\"],\n",
    "    sample_data[\"dtbhk_hk_4\"],\n",
    "    sample_data[\"dtbhk_hk_5\"],\n",
    "    sample_data[\"sotchk_hk_1\"],\n",
    "    sample_data[\"sotchk_hk_2\"],\n",
    "    sample_data[\"sotchk_hk_3\"],\n",
    "    sample_data[\"sotchk_hk_4\"],\n",
    "    sample_data[\"sotchk_hk_5\"],\n",
    "    sample_data[\"drl_hk_1\"],\n",
    "    sample_data[\"drl_hk_2\"],\n",
    "    sample_data[\"drl_hk_3\"],\n",
    "    sample_data[\"drl_hk_4\"],\n",
    "    sample_data[\"drl_hk_5\"]\n",
    "]]\n",
    "scaled_sample = loaded_scaler.transform(numerical_sample)"
   ]
  },
  {
   "cell_type": "code",
   "execution_count": 51,
   "id": "c08a923e-273e-4772-9bc7-c0b4d8da526a",
   "metadata": {},
   "outputs": [],
   "source": [
    "# Kết hợp đặc trưng\n",
    "processed_sample = np.hstack([scaled_sample, encoded_sample])"
   ]
  },
  {
   "cell_type": "code",
   "execution_count": 52,
   "id": "fe63afee-0828-4346-ae95-3814c0d41d5b",
   "metadata": {},
   "outputs": [
    {
     "name": "stdout",
     "output_type": "stream",
     "text": [
      "\u001b[1m1/1\u001b[0m \u001b[32m━━━━━━━━━━━━━━━━━━━━\u001b[0m\u001b[37m\u001b[0m \u001b[1m0s\u001b[0m 79ms/step\n"
     ]
    }
   ],
   "source": [
    "# Dự đoán\n",
    "predicted_label = mlp_model.predict(processed_sample)\n",
    "predicted_class = np.argmax(predicted_label, axis=1)  # Chọn lớp có xác suất cao nhất"
   ]
  },
  {
   "cell_type": "code",
   "execution_count": 53,
   "id": "e9907207-391e-4407-92e5-2436053bcfb0",
   "metadata": {},
   "outputs": [
    {
     "name": "stdout",
     "output_type": "stream",
     "text": [
      "Dự đoán xếp loại: Khá\n"
     ]
    }
   ],
   "source": [
    "# In kết quả\n",
    "xeploai_mapping = {0: \"Khá\", 1: \"Giỏi\"}  # Mapping nhãn số sang tên lớp\n",
    "print(f\"Dự đoán xếp loại: {label_mapping[predicted_class[0]]}\")"
   ]
  },
  {
   "cell_type": "markdown",
   "id": "9fc28d4a-67cb-4c17-a29e-f4bdc08749f3",
   "metadata": {},
   "source": [
    "# CNNs"
   ]
  },
  {
   "cell_type": "code",
   "execution_count": 21,
   "id": "a9f07438-57cb-43b9-8d57-e93080a10e4a",
   "metadata": {},
   "outputs": [],
   "source": [
    "# Load model đã huấn luyện\n",
    "cnn_model = tf.keras.models.load_model((\"..\\\\store\\\\models\\\\cnn_model.keras\"))"
   ]
  },
  {
   "cell_type": "code",
   "execution_count": 54,
   "id": "476272ce-617e-43c7-99fc-38bc675abf0f",
   "metadata": {},
   "outputs": [],
   "source": [
    "with open(\"..\\\\store\\\\pickle\\\\lstm_scaler.pkl\", \"rb\") as f:\n",
    "    cnn_scaler = pickle.load(f)"
   ]
  },
  {
   "cell_type": "code",
   "execution_count": 55,
   "id": "9f0af5e7-1ab8-41fa-a085-d7b9420c0629",
   "metadata": {},
   "outputs": [],
   "source": [
    "# Trích xuất các feature liên quan đến chuỗi thời gian\n",
    "seq_features = [f\"dtbhk_hk_{i}\" for i in range(1, 6)] + [f\"sotchk_hk_{i}\" for i in range(1, 6)] + [f\"drl_hk_{i}\" for i in range(1, 6)]\n",
    "sequence = np.array([sample_data[feature] for feature in seq_features]).reshape(5, -1)  # Dạng 2D (5 bước thời gian x số đặc trưng)"
   ]
  },
  {
   "cell_type": "code",
   "execution_count": 56,
   "id": "dedc96c9-875d-4d67-849a-55d7c3e7c59e",
   "metadata": {},
   "outputs": [],
   "source": [
    "sequence_scaled = cnn_scaler.transform(sequence)  # Chuẩn hóa dữ liệu\n",
    "sequence_scaled = sequence_scaled.reshape(1, 5, -1)  # Định dạng 3D cho mô hình (batch_size, steps, features)"
   ]
  },
  {
   "cell_type": "code",
   "execution_count": 57,
   "id": "25722f5b-e6b6-4c21-81b2-1b13a49587a1",
   "metadata": {},
   "outputs": [
    {
     "name": "stdout",
     "output_type": "stream",
     "text": [
      "\u001b[1m1/1\u001b[0m \u001b[32m━━━━━━━━━━━━━━━━━━━━\u001b[0m\u001b[37m\u001b[0m \u001b[1m0s\u001b[0m 78ms/step\n"
     ]
    }
   ],
   "source": [
    "# 4. Dự đoán\n",
    "predictions = cnn_model.predict(sequence_scaled)\n",
    "predicted_class = np.argmax(predictions, axis=1)  # Lấy lớp dự đoán"
   ]
  },
  {
   "cell_type": "code",
   "execution_count": 58,
   "id": "656482f3-cecb-4ec4-b59f-0ac0fd0a8b93",
   "metadata": {},
   "outputs": [
    {
     "name": "stdout",
     "output_type": "stream",
     "text": [
      "Dự đoán lớp: [1]\n"
     ]
    }
   ],
   "source": [
    "print(\"Dự đoán lớp:\", predicted_class)"
   ]
  },
  {
   "cell_type": "code",
   "execution_count": 59,
   "id": "fe95f7b5-98af-44e6-b4a1-a119dce126f5",
   "metadata": {},
   "outputs": [
    {
     "name": "stdout",
     "output_type": "stream",
     "text": [
      "Dự đoán lớp: 1\n",
      "Nhãn gốc: Khá\n"
     ]
    }
   ],
   "source": [
    "# Lấy lớp dự đoán (chuyển từ mảng numpy sang số nguyên)\n",
    "predicted_class = int(np.argmax(predictions, axis=1)[0])  # Lấy giá trị đầu tiên và chuyển thành số nguyên\n",
    "\n",
    "# Ánh xạ lớp dự đoán sang nhãn gốc\n",
    "original_label = label_mapping.get(predicted_class, \"Unknown\")  # Ánh xạ số nguyên sang nhãn gốc\n",
    "\n",
    "# In kết quả\n",
    "print(f\"Dự đoán lớp: {predicted_class}\")\n",
    "print(f\"Nhãn gốc: {original_label}\")\n"
   ]
  },
  {
   "cell_type": "code",
   "execution_count": null,
   "id": "4bf72efd-a0f1-4cbc-8a9d-d10fb788ab0c",
   "metadata": {},
   "outputs": [],
   "source": []
  }
 ],
 "metadata": {
  "kernelspec": {
   "display_name": "Python 3 (ipykernel)",
   "language": "python",
   "name": "python3"
  },
  "language_info": {
   "codemirror_mode": {
    "name": "ipython",
    "version": 3
   },
   "file_extension": ".py",
   "mimetype": "text/x-python",
   "name": "python",
   "nbconvert_exporter": "python",
   "pygments_lexer": "ipython3",
   "version": "3.12.4"
  }
 },
 "nbformat": 4,
 "nbformat_minor": 5
}
