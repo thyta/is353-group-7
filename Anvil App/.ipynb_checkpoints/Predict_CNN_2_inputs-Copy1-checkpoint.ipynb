{
 "cells": [
  {
   "cell_type": "code",
   "execution_count": 7,
   "id": "7d6042c5-e917-4267-af8d-79479e705690",
   "metadata": {},
   "outputs": [],
   "source": [
    "import pickle\n",
    "import numpy as np\n",
    "import tensorflow as tf\n",
    "from sklearn.preprocessing import MinMaxScaler, LabelEncoder\n",
    "\n",
    "import pandas as pd"
   ]
  },
  {
   "cell_type": "code",
   "execution_count": 8,
   "id": "fd71c626-7e51-4633-855c-d07849e8d54e",
   "metadata": {},
   "outputs": [],
   "source": [
    "# Đọc lại label_mapping, scaler, và label_encoders đã lưu\n",
    "with open(\"..\\\\store\\\\pickle\\\\label_mapping.pkl\", \"rb\") as f:\n",
    "    label_mapping = pickle.load(f)\n",
    "\n",
    "with open(\"..\\\\store\\\\pickle\\\\scaler_cat.pkl\", \"rb\") as f:\n",
    "    scaler_cat = pickle.load(f)\n",
    "\n",
    "with open(\"..\\\\store\\\\pickle\\\\scaler_seq.pkl\", \"rb\") as f:\n",
    "    scaler_seq = pickle.load(f)\n",
    "\n",
    "with open(\"..\\\\store\\\\pickle\\\\label_encoders.pkl\", \"rb\") as f:\n",
    "    label_encoders = pickle.load(f)\n",
    "\n",
    "cnn_2_inputs_model = tf.keras.models.load_model(\"..\\\\store\\\\models\\\\cnn_2_inputs_model.keras\")"
   ]
  },
  {
   "cell_type": "code",
   "execution_count": 12,
   "id": "6e8bc84f-cc40-427a-a0fe-5f4f05b39a8a",
   "metadata": {},
   "outputs": [],
   "source": [
    "student_data = {\n",
    "    'noisinh': 'Đồng Nai',\n",
    "    'gioitinh': 'Nữ',\n",
    "    'khoa': 'HTTT',\n",
    "    'hedt': 'CQUI',\n",
    "    'khoahoc': 11,\n",
    "    'diem_tt': 24.5,\n",
    "    'dtbhk_hk_1': 7.5,\n",
    "    'dtbhk_hk_2': 8.0,\n",
    "    'dtbhk_hk_3': 8.5,\n",
    "    'dtbhk_hk_4': 8.2,\n",
    "    'dtbhk_hk_5': 8.0,\n",
    "    'sotchk_hk_1': 15,\n",
    "    'sotchk_hk_2': 15,\n",
    "    'sotchk_hk_3': 18,\n",
    "    'sotchk_hk_4': 16,\n",
    "    'sotchk_hk_5': 14,\n",
    "    'drl_hk_1': 85,\n",
    "    'drl_hk_2': 90,\n",
    "    'drl_hk_3': 88,\n",
    "    'drl_hk_4': 90,\n",
    "    'drl_hk_5': 92,\n",
    "    'chenhlech_khoahoc': 0\n",
    "}\n",
    "\n",
    "# student_data = {\n",
    "#     'noisinh': 'Bình Định',\n",
    "#     'gioitinh': 'Nam',\n",
    "#     'khoa': 'HTTT',\n",
    "#     'hedt': 'CLC',\n",
    "#     'khoahoc': 11,\n",
    "#     'diem_tt': 21.5,\n",
    "#     'dtbhk_hk_1': 5.5,\n",
    "#     'dtbhk_hk_2': 3.0,\n",
    "#     'dtbhk_hk_3': 4.5,\n",
    "#     'dtbhk_hk_4': 5.2,\n",
    "#     'dtbhk_hk_5': 7.0,\n",
    "#     'sotchk_hk_1': 11,\n",
    "#     'sotchk_hk_2': 9,\n",
    "#     'sotchk_hk_3': 12,\n",
    "#     'sotchk_hk_4': 15,\n",
    "#     'sotchk_hk_5': 12,\n",
    "#     'drl_hk_1': 85,\n",
    "#     'drl_hk_2': 60,\n",
    "#     'drl_hk_3': 78,\n",
    "#     'drl_hk_4': 50,\n",
    "#     'drl_hk_5': 52,\n",
    "#     'chenhlech_khoahoc': 2\n",
    "# }\n",
    "\n",
    "\n",
    "student_df = pd.DataFrame([student_data])"
   ]
  },
  {
   "cell_type": "code",
   "execution_count": 13,
   "id": "11ef1812-f263-4be7-90c9-13d089f96b59",
   "metadata": {},
   "outputs": [],
   "source": [
    "# # Tách categorical và sequence features\n",
    "# categorical_features = [\"noisinh\", \"gioitinh\", \"khoa\", \"hedt\", \"chenhlech_khoahoc\", \"diem_tt\"]\n",
    "# sequence_features = [f\"dtbhk_hk_{i}\" for i in range(1, 6)] + \\\n",
    "#                     [f\"sotchk_hk_{i}\" for i in range(1, 6)] + \\\n",
    "#                     [f\"drl_hk_{i}\" for i in range(1, 6)]"
   ]
  },
  {
   "cell_type": "code",
   "execution_count": 14,
   "id": "3e760052-8ef0-4eda-b7fb-578919928b6a",
   "metadata": {},
   "outputs": [],
   "source": [
    "# cat_data = np.array([student_data[feature] for feature in categorical_features])\n",
    "# seq_data = np.array([student_data[feature] for feature in sequence_features]).reshape(1, 5, -1)\n",
    "\n",
    "# # # cat_data: Tạo mảng chứa các giá trị của các đặc trưng categorical từ dữ liệu sinh viên (student_data).\n",
    "# # # seq_data: Tạo mảng chứa các giá trị của các đặc trưng dạng chuỗi (sequence). Mảng được reshape thành kích thước (1, 5, -1) để phù hợp với mô hình CNN xử lý dữ liệu sequence, trong đó:\n",
    "# # # 1: là số lượng mẫu (ở đây chỉ có 1 sinh viên).\n",
    "# # # 5: là số bước thời gian (tương ứng với 5 học kỳ).\n",
    "# # # -1: tự động tính số lượng đặc trưng trong mỗi bước thời gian."
   ]
  },
  {
   "cell_type": "code",
   "execution_count": 15,
   "id": "f7a75025-b47c-4118-804b-36852cc3f950",
   "metadata": {},
   "outputs": [],
   "source": [
    "# # Encode categorical data\n",
    "# for i, col in enumerate(categorical_features[:-2]):  # Bỏ 2 cột numeric: chenhlech_khoahoc, diem_tt\n",
    "#     cat_data[i] = label_encoders[col].transform([cat_data[i]])[0]\n",
    "\n",
    "# cat_data = cat_data.astype(float)\n",
    "# cat_data[-2:] = cat_data[-2:].astype(float)  # Chuyển 2 cột numeric thành float\n",
    "\n",
    "# # Chuẩn hóa categorical data\n",
    "# cat_data = cat_data.reshape(1, -1)\n",
    "# cat_data = scaler_cat.transform(cat_data.reshape(1, -1))"
   ]
  },
  {
   "cell_type": "code",
   "execution_count": 16,
   "id": "28246fa3-6bea-4ba9-b53c-f3edba6bd963",
   "metadata": {},
   "outputs": [],
   "source": [
    "# # Chuẩn hóa categorical data\n",
    "# cat_data = scaler_cat.transform(cat_data.reshape(1, -1))"
   ]
  },
  {
   "cell_type": "code",
   "execution_count": 17,
   "id": "78790ee1-1f87-4a87-9920-0d73cba4f2cb",
   "metadata": {},
   "outputs": [
    {
     "ename": "NameError",
     "evalue": "name 'seq_data' is not defined",
     "output_type": "error",
     "traceback": [
      "\u001b[1;31m---------------------------------------------\u001b[0m",
      "\u001b[1;31mNameError\u001b[0m   Traceback (most recent call last)",
      "Cell \u001b[1;32mIn[17], line 2\u001b[0m\n\u001b[0;32m      1\u001b[0m \u001b[38;5;66;03m# Chuẩn hóa sequence data\u001b[39;00m\n\u001b[1;32m----> 2\u001b[0m seq_data \u001b[38;5;241m=\u001b[39m \u001b[43mseq_data\u001b[49m\u001b[38;5;241m.\u001b[39mreshape(\u001b[38;5;241m-\u001b[39m\u001b[38;5;241m1\u001b[39m, seq_data\u001b[38;5;241m.\u001b[39mshape[\u001b[38;5;241m-\u001b[39m\u001b[38;5;241m1\u001b[39m])  \u001b[38;5;66;03m# Reshape để chuẩn hóa\u001b[39;00m\n\u001b[0;32m      3\u001b[0m seq_data \u001b[38;5;241m=\u001b[39m scaler_seq\u001b[38;5;241m.\u001b[39mtransform(seq_data)\n\u001b[0;32m      4\u001b[0m seq_data \u001b[38;5;241m=\u001b[39m seq_data\u001b[38;5;241m.\u001b[39mreshape(\u001b[38;5;241m1\u001b[39m, \u001b[38;5;241m5\u001b[39m, \u001b[38;5;241m-\u001b[39m\u001b[38;5;241m1\u001b[39m)  \u001b[38;5;66;03m# Reshape lại cho mô hình\u001b[39;00m\n",
      "\u001b[1;31mNameError\u001b[0m: name 'seq_data' is not defined"
     ]
    }
   ],
   "source": [
    "# Chuẩn hóa sequence data\n",
    "seq_data = seq_data.reshape(-1, seq_data.shape[-1])  # Reshape để chuẩn hóa\n",
    "seq_data = scaler_seq.transform(seq_data)\n",
    "seq_data = seq_data.reshape(1, 5, -1)  # Reshape lại cho mô hình"
   ]
  },
  {
   "cell_type": "code",
   "execution_count": null,
   "id": "61fcb0d1-e11f-4679-86af-edfeb9e95d7b",
   "metadata": {},
   "outputs": [],
   "source": [
    "# Dự đoán\n",
    "predicted_label_code = np.argmax(cnn_2_inputs_model.predict([seq_data, cat_data]))\n",
    "predicted_label = label_mapping[predicted_label_code]\n",
    "\n",
    "print(f\"Label dự đoán: {predicted_label}\")"
   ]
  },
  {
   "cell_type": "code",
   "execution_count": 18,
   "id": "c338da08-d215-4880-8f13-bf0fe139633a",
   "metadata": {},
   "outputs": [],
   "source": [
    "def predict_label(student_df):\n",
    "    # Tách categorical và sequence features\n",
    "    categorical_features = [\"noisinh\", \"gioitinh\", \"khoa\", \"hedt\", \"chenhlech_khoahoc\", \"diem_tt\"]\n",
    "    sequence_features = [f\"dtbhk_hk_{i}\" for i in range(1, 6)] + \\\n",
    "                        [f\"sotchk_hk_{i}\" for i in range(1, 6)] + \\\n",
    "                        [f\"drl_hk_{i}\" for i in range(1, 6)]\n",
    "\n",
    "    cat_data = np.array([student_data[feature] for feature in categorical_features])\n",
    "    seq_data = np.array([student_data[feature] for feature in sequence_features]).reshape(1, 5, -1)\n",
    "\n",
    "    # Encode categorical data\n",
    "    for i, col in enumerate(categorical_features[:-2]):  # Bỏ 2 cột numeric: chenhlech_khoahoc, diem_tt\n",
    "        cat_data[i] = label_encoders[col].transform([cat_data[i]])[0]\n",
    "    \n",
    "    cat_data = cat_data.astype(float)\n",
    "    cat_data[-2:] = cat_data[-2:].astype(float)  # Chuyển 2 cột numeric thành float\n",
    "    \n",
    "    # Chuẩn hóa categorical data\n",
    "    cat_data = cat_data.reshape(1, -1)\n",
    "    cat_data = scaler_cat.transform(cat_data.reshape(1, -1))\n",
    "\n",
    "    # Chuẩn hóa sequence data\n",
    "    seq_data = seq_data.reshape(-1, seq_data.shape[-1])  # Reshape để chuẩn hóa\n",
    "    seq_data = scaler_seq.transform(seq_data)\n",
    "    seq_data = seq_data.reshape(1, 5, -1)  # Reshape lại cho mô hình\n",
    "\n",
    "    # Dự đoán\n",
    "    predicted_label_code = np.argmax(cnn_2_inputs_model.predict([seq_data, cat_data]))\n",
    "    return label_mapping[predicted_label_code]"
   ]
  },
  {
   "cell_type": "code",
   "execution_count": 19,
   "id": "b0eb1c74-02af-41d6-a361-53c55bffa031",
   "metadata": {},
   "outputs": [
    {
     "name": "stdout",
     "output_type": "stream",
     "text": [
      "\u001b[1m1/1\u001b[0m \u001b[32m━━━━━━━━━━━━━━━━━━━━\u001b[0m\u001b[37m\u001b[0m \u001b[1m0s\u001b[0m 44ms/step\n",
      "Giỏi\n"
     ]
    }
   ],
   "source": [
    "print(predict_label(student_df))"
   ]
  },
  {
   "cell_type": "markdown",
   "id": "61bc4b36-d89a-4fd6-aa60-2f6cb6886f3d",
   "metadata": {},
   "source": [
    "# Anvil"
   ]
  }
 ],
 "metadata": {
  "kernelspec": {
   "display_name": "Python 3 (ipykernel)",
   "language": "python",
   "name": "python3"
  },
  "language_info": {
   "codemirror_mode": {
    "name": "ipython",
    "version": 3
   },
   "file_extension": ".py",
   "mimetype": "text/x-python",
   "name": "python",
   "nbconvert_exporter": "python",
   "pygments_lexer": "ipython3",
   "version": "3.12.4"
  }
 },
 "nbformat": 4,
 "nbformat_minor": 5
}
